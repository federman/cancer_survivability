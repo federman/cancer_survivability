{
 "cells": [
  {
   "cell_type": "code",
   "execution_count": 1,
   "metadata": {
    "collapsed": true
   },
   "outputs": [],
   "source": [
    "import numpy as np\n",
    "import matplotlib.pyplot as plt\n",
    "import pandas as pd\n",
    "import sklearn\n",
    "import tensorflow as tf\n",
    "from collections import Counter\n",
    "\n",
    "%matplotlib inline"
   ]
  },
  {
   "cell_type": "code",
   "execution_count": 2,
   "metadata": {
    "collapsed": true
   },
   "outputs": [],
   "source": [
    "# uncomment the group you want to train on\n",
    "race = \"hispanic\"\n",
    "#race = \"white\"\n",
    "#race = \"mixed\""
   ]
  },
  {
   "cell_type": "code",
   "execution_count": 3,
   "metadata": {
    "collapsed": true
   },
   "outputs": [],
   "source": [
    "X = np.load('../Data/' + race + '/X.npy')\n",
    "Y2 = np.load('../Data/' + race + '/Y2.npy')"
   ]
  },
  {
   "cell_type": "code",
   "execution_count": 4,
   "metadata": {
    "collapsed": true
   },
   "outputs": [],
   "source": [
    "# shuffle\n",
    "np.random.seed(42)\n",
    "idx = np.random.permutation(len(X))\n",
    "X = X[idx]\n",
    "Y = Y2[idx]\n",
    "\n",
    "#if race != 'hispanic':\n",
    "#   X = X[:size_hispanic]\n",
    "#    Y = Y[:size_hispanic]\n",
    "\n",
    "TEST_SET_SIZE = int(0.1*len(Y))\n",
    "\n",
    "X_train, X_test = X[:-TEST_SET_SIZE], X[-TEST_SET_SIZE:]\n",
    "Y_train, Y_test = Y[:-TEST_SET_SIZE].astype(int), Y[-TEST_SET_SIZE:].astype(int)"
   ]
  },
  {
   "cell_type": "code",
   "execution_count": 5,
   "metadata": {},
   "outputs": [
    {
     "name": "stderr",
     "output_type": "stream",
     "text": [
      "/Users/sam/anaconda3/lib/python3.6/site-packages/sklearn/utils/validation.py:444: DataConversionWarning: Data with input dtype object was converted to float64 by StandardScaler.\n",
      "  warnings.warn(msg, DataConversionWarning)\n",
      "/Users/sam/anaconda3/lib/python3.6/site-packages/sklearn/utils/validation.py:444: DataConversionWarning: Data with input dtype object was converted to float64 by MinMaxScaler.\n",
      "  warnings.warn(msg, DataConversionWarning)\n"
     ]
    }
   ],
   "source": [
    "# Features Scaling\n",
    "from sklearn.preprocessing import StandardScaler, MinMaxScaler\n",
    "std_scaler = StandardScaler()\n",
    "X_train[:,-4:] = std_scaler.fit_transform(X_train[:,-4:])\n",
    "X_test[:,-4:] = std_scaler.transform(X_test[:,-4:])\n",
    "\n",
    "mm_scaler = MinMaxScaler(feature_range=(-1,1))\n",
    "X_train[:,:-4] = mm_scaler.fit_transform(X_train[:,:-4])\n",
    "X_test[:,:-4] = mm_scaler.transform(X_test[:,:-4])"
   ]
  },
  {
   "cell_type": "code",
   "execution_count": 6,
   "metadata": {
    "collapsed": true
   },
   "outputs": [],
   "source": [
    "from sklearn.metrics import accuracy_score, roc_auc_score\n",
    "from sklearn.metrics import confusion_matrix\n",
    "\n",
    "def results(classifier,X_test=X_test, Y_test=Y_test):\n",
    "    Y_pred_test = classifier.predict(X_test)\n",
    "    #Y_pred_test = (Y_pred_test>=threshold).astype(int)\n",
    "    print(\"Test accuracy score: \" + str(accuracy_score(Y_test.astype(int), Y_pred_test)))\n",
    "    print(\"ROC: \" + str(roc_auc_score(Y_test, classifier.predict_proba(X_test)[:,1])))\n",
    "    matrix = confusion_matrix(Y_test.astype(int), Y_pred_test)\n",
    "    tn, fp, fn, tp = matrix.ravel()\n",
    "    ppv = tp/(tp+fp)\n",
    "    npv = tn/(tn+fn)\n",
    "    sensitivity = tp/(tp+fn)\n",
    "    specificity = tn/(tn+fp)\n",
    "    g_mean = np.sqrt(sensitivity*specificity)\n",
    "    #print(\"PPV: \" + str(ppv))\n",
    "    #print(\"NPV: \" + str(npv))\n",
    "    #print(\"Sensitivity: \" + str(sensitivity))\n",
    "    #print(\"Specificity: \" + str(specificity))\n",
    "    print(\"G-Mean: \" + str(g_mean))\n",
    "    #print(\"Confusion matrix:\\n\" + str(matrix))"
   ]
  },
  {
   "cell_type": "markdown",
   "metadata": {},
   "source": [
    "## Autoencoder"
   ]
  },
  {
   "cell_type": "code",
   "execution_count": 12,
   "metadata": {
    "collapsed": true
   },
   "outputs": [],
   "source": [
    "def vae_loss(x, x_decoded_mean):\n",
    "    xent_loss = objectives.binary_crossentropy(x, x_decoded_mean)\n",
    "    kl_loss = - 0.5 * K.mean(1 + z_log_sigma - K.square(z_mean) - K.exp(z_log_sigma), axis=-1)\n",
    "    return xent_loss + kl_loss"
   ]
  },
  {
   "cell_type": "code",
   "execution_count": 17,
   "metadata": {
    "scrolled": true
   },
   "outputs": [
    {
     "name": "stdout",
     "output_type": "stream",
     "text": [
      "Epoch 1/7\n",
      "37575/37575 [==============================] - 5s 146us/step - loss: -14.1322\n",
      "Epoch 2/7\n",
      "37575/37575 [==============================] - 4s 119us/step - loss: -14.2547\n",
      "Epoch 3/7\n",
      "37575/37575 [==============================] - 4s 113us/step - loss: -14.2446\n",
      "Epoch 4/7\n",
      "37575/37575 [==============================] - 5s 141us/step - loss: -14.2459\n",
      "Epoch 5/7\n",
      "37575/37575 [==============================] - 5s 137us/step - loss: -14.2478\n",
      "Epoch 6/7\n",
      "37575/37575 [==============================] - 4s 118us/step - loss: -14.2463\n",
      "Epoch 7/7\n",
      "37575/37575 [==============================] - 4s 117us/step - loss: -14.2474\n"
     ]
    },
    {
     "data": {
      "text/plain": [
       "<keras.callbacks.History at 0x18354dbbe0>"
      ]
     },
     "execution_count": 17,
     "metadata": {},
     "output_type": "execute_result"
    }
   ],
   "source": [
    "from keras.layers import Input, Dense\n",
    "from keras.models import Model\n",
    "\n",
    "input_dim = X_train.shape[1]\n",
    "encoding_dim = 150\n",
    "hidden_dim1 = 250\n",
    "\n",
    "input_vec = Input(shape=(input_dim,))\n",
    "hidden1 = Dense(hidden_dim1, activation='relu')(input_vec)\n",
    "encoded = Dense(encoding_dim, activation='relu')(hidden1)\n",
    "hidden2 = Dense(hidden_dim1, activation='relu')(encoded)\n",
    "decoded = Dense(input_dim, activation='tanh')(hidden2)\n",
    "\n",
    "noise = np.random.normal(size=X.shape)\n",
    "\n",
    "autoencoder = Model(input_vec, decoded)\n",
    "autoencoder.compile(optimizer='adam', loss='binary_crossentropy')\n",
    "\n",
    "autoencoder.fit(X+0.25*noise,X,epochs=7,batch_size=250)"
   ]
  },
  {
   "cell_type": "code",
   "execution_count": 18,
   "metadata": {
    "collapsed": true
   },
   "outputs": [],
   "source": [
    "encoder = Model(input_vec, encoded)\n",
    "X_train_enc = encoder.predict(X_train)\n",
    "X_test_enc = encoder.predict(X_test)"
   ]
  },
  {
   "cell_type": "code",
   "execution_count": 21,
   "metadata": {},
   "outputs": [
    {
     "name": "stdout",
     "output_type": "stream",
     "text": [
      "Logistic Regression\n",
      "Test accuracy score: 0.85520361991\n",
      "ROC: 0.853397087864\n",
      "G-Mean: 0.623002526093\n",
      "\n",
      "Random Forest\n",
      "Test accuracy score: 0.848815544317\n",
      "ROC: 0.841626031644\n",
      "G-Mean: 0.532232078953\n",
      "\n",
      "AdaBoost\n",
      "Test accuracy score: 0.852541921746\n",
      "ROC: 0.842258725006\n",
      "G-Mean: 0.636222574117\n"
     ]
    }
   ],
   "source": [
    "from sklearn.linear_model import LogisticRegression\n",
    "from sklearn.tree import DecisionTreeClassifier\n",
    "from sklearn.ensemble import RandomForestClassifier, AdaBoostClassifier\n",
    "\n",
    "print('Logistic Regression')\n",
    "lr = LogisticRegression(C=1)\n",
    "lr.fit(X_train_enc, Y_train)\n",
    "results(lr, X_test=X_test_enc, Y_test=Y_test)\n",
    "print()\n",
    "print('Random Forest')\n",
    "rf_clf = RandomForestClassifier(n_estimators=20, min_samples_leaf=150, random_state=42)\n",
    "rf_clf.fit(X_train_enc, Y_train)\n",
    "results(rf_clf, X_test=X_test_enc, Y_test=Y_test)\n",
    "print()\n",
    "print('AdaBoost')\n",
    "ab_clf = AdaBoostClassifier(DecisionTreeClassifier(max_depth=1), n_estimators=200, \n",
    "                           algorithm=\"SAMME.R\", learning_rate=1)\n",
    "ab_clf.fit(X_train_enc, Y_train)\n",
    "results(ab_clf, X_test=X_test_enc, Y_test=Y_test)"
   ]
  },
  {
   "cell_type": "markdown",
   "metadata": {},
   "source": [
    "## PCA"
   ]
  },
  {
   "cell_type": "code",
   "execution_count": null,
   "metadata": {},
   "outputs": [],
   "source": [
    "from sklearn.decomposition import PCA\n",
    "\n",
    "\n",
    "for components in [150,200,250,300]:\n",
    "    pca = PCA(n_components=components)\n",
    "    X_train_red = pca.fit_transform(X_train)\n",
    "    X_test_red = pca.transform(X_test)\n",
    "    '''\n",
    "    print('Logistic Regression')\n",
    "    lr = LogisticRegression(C=1)\n",
    "    lr.fit(X_train_red, Y_train)\n",
    "    results(lr, X_test=X_test_red, Y_test=Y_test)\n",
    "    print()\n",
    "    print('Random Forest')\n",
    "    rf_clf = RandomForestClassifier(n_estimators=20, min_samples_leaf=150, random_state=42)\n",
    "    rf_clf.fit(X_train_red, Y_train)\n",
    "    results(rf_clf, X_test=X_test_red, Y_test=Y_test)\n",
    "    print()\n",
    "    '''\n",
    "\n",
    "    print('AdaBoost')\n",
    "    ab_clf = AdaBoostClassifier(DecisionTreeClassifier(max_depth=1), n_estimators=200, \n",
    "                               algorithm=\"SAMME.R\", learning_rate=1)\n",
    "    ab_clf.fit(X_train_red, Y_train)\n",
    "    results(ab_clf, X_test=X_test_red, Y_test=Y_test)"
   ]
  },
  {
   "cell_type": "code",
   "execution_count": null,
   "metadata": {
    "collapsed": true,
    "scrolled": true
   },
   "outputs": [],
   "source": [
    "pca = PCA(n_components=X.shape[1])\n",
    "pca.fit(X)\n",
    "variance_captured = []\n",
    "for components in range(0,X.shape[1], 5):\n",
    "    variance_captured.append([components,sum(pca.explained_variance_ratio_[:components])])\n",
    "variance_captured_np = np.array(variance_captured)"
   ]
  },
  {
   "cell_type": "code",
   "execution_count": null,
   "metadata": {},
   "outputs": [],
   "source": [
    "plt.plot(variance_captured_np[:,0], variance_captured_np[:,1])\n",
    "plt.xlabel('n_components')\n",
    "plt.ylabel('total variance captured')\n",
    "plt.show()"
   ]
  },
  {
   "cell_type": "code",
   "execution_count": null,
   "metadata": {
    "collapsed": true
   },
   "outputs": [],
   "source": []
  }
 ],
 "metadata": {
  "kernelspec": {
   "display_name": "Python 3",
   "language": "python",
   "name": "python3"
  },
  "language_info": {
   "codemirror_mode": {
    "name": "ipython",
    "version": 3
   },
   "file_extension": ".py",
   "mimetype": "text/x-python",
   "name": "python",
   "nbconvert_exporter": "python",
   "pygments_lexer": "ipython3",
   "version": "3.6.2"
  }
 },
 "nbformat": 4,
 "nbformat_minor": 2
}
