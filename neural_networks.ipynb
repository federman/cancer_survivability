{
 "cells": [
  {
   "cell_type": "code",
   "execution_count": 1,
   "metadata": {},
   "outputs": [
    {
     "name": "stderr",
     "output_type": "stream",
     "text": [
      "/home/samuel/anaconda3/lib/python3.6/site-packages/h5py/__init__.py:36: FutureWarning: Conversion of the second argument of issubdtype from `float` to `np.floating` is deprecated. In future, it will be treated as `np.float64 == np.dtype(float).type`.\n",
      "  from ._conv import register_converters as _register_converters\n"
     ]
    }
   ],
   "source": [
    "import numpy as np\n",
    "import matplotlib.pyplot as plt\n",
    "import pandas as pd\n",
    "import sklearn\n",
    "import tensorflow as tf\n",
    "from collections import Counter\n",
    "\n",
    "%matplotlib inline"
   ]
  },
  {
   "cell_type": "code",
   "execution_count": 2,
   "metadata": {},
   "outputs": [],
   "source": [
    "# uncomment the group you want to train on\n",
    "race = \"hispanic\"\n",
    "#race = \"white\"\n",
    "#race = \"mixed\""
   ]
  },
  {
   "cell_type": "code",
   "execution_count": 3,
   "metadata": {},
   "outputs": [],
   "source": [
    "X = np.load('../Data/' + race + '/X.npy')\n",
    "Y2 = np.load('../Data/' + race + '/Y2.npy')"
   ]
  },
  {
   "cell_type": "code",
   "execution_count": 4,
   "metadata": {},
   "outputs": [],
   "source": [
    "size_hispanic = 37575"
   ]
  },
  {
   "cell_type": "code",
   "execution_count": 5,
   "metadata": {},
   "outputs": [
    {
     "data": {
      "text/plain": [
       "(37575, 301)"
      ]
     },
     "execution_count": 5,
     "metadata": {},
     "output_type": "execute_result"
    }
   ],
   "source": [
    "X.shape"
   ]
  },
  {
   "cell_type": "code",
   "execution_count": 6,
   "metadata": {},
   "outputs": [],
   "source": [
    "# shuffle\n",
    "np.random.seed(42)\n",
    "idx = np.random.permutation(len(X))\n",
    "X = X[idx]\n",
    "Y = Y2[idx]\n",
    "\n",
    "#if race != 'hispanic':\n",
    "#   X = X[:size_hispanic]\n",
    "#    Y = Y[:size_hispanic]\n",
    "\n",
    "TEST_SET_SIZE = int(0.1*len(Y))\n",
    "\n",
    "X_train, X_test = X[:-TEST_SET_SIZE], X[-TEST_SET_SIZE:]\n",
    "Y_train, Y_test = Y[:-TEST_SET_SIZE].astype(int), Y[-TEST_SET_SIZE:].astype(int)"
   ]
  },
  {
   "cell_type": "code",
   "execution_count": 7,
   "metadata": {},
   "outputs": [
    {
     "data": {
      "text/plain": [
       "(37575, 301)"
      ]
     },
     "execution_count": 7,
     "metadata": {},
     "output_type": "execute_result"
    }
   ],
   "source": [
    "X.shape"
   ]
  },
  {
   "cell_type": "code",
   "execution_count": 8,
   "metadata": {},
   "outputs": [
    {
     "name": "stderr",
     "output_type": "stream",
     "text": [
      "/home/samuel/anaconda3/lib/python3.6/site-packages/sklearn/utils/validation.py:475: DataConversionWarning: Data with input dtype object was converted to float64 by StandardScaler.\n",
      "  warnings.warn(msg, DataConversionWarning)\n",
      "/home/samuel/anaconda3/lib/python3.6/site-packages/sklearn/utils/validation.py:475: DataConversionWarning: Data with input dtype object was converted to float64 by MinMaxScaler.\n",
      "  warnings.warn(msg, DataConversionWarning)\n"
     ]
    }
   ],
   "source": [
    "# Features Scaling\n",
    "from sklearn.preprocessing import StandardScaler, MinMaxScaler\n",
    "std_scaler = StandardScaler()\n",
    "X_train[:,-4:] = std_scaler.fit_transform(X_train[:,-4:])\n",
    "X_test[:,-4:] = std_scaler.transform(X_test[:,-4:])\n",
    "\n",
    "mm_scaler = MinMaxScaler(feature_range=(-1,1))\n",
    "X_train[:,:-4] = mm_scaler.fit_transform(X_train[:,:-4])\n",
    "X_test[:,:-4] = mm_scaler.transform(X_test[:,:-4])"
   ]
  },
  {
   "cell_type": "code",
   "execution_count": 160,
   "metadata": {},
   "outputs": [],
   "source": [
    "from sklearn.metrics import accuracy_score, roc_auc_score\n",
    "from sklearn.metrics import confusion_matrix\n",
    "\n",
    "def results(classifier,threshold=0.5, X_test=X_test, Y_test=Y_test):\n",
    "    Y_pred_test = classifier.predict(X_test)\n",
    "    Y_pred_test = (Y_pred_test>=threshold).astype(int)\n",
    "    #Y_pred_test = np.rint(Y_pred_test)\n",
    "    print(\"Test accuracy score: \" + str(accuracy_score(Y_test.astype(int), Y_pred_test)))\n",
    "    print(\"ROC: \" + str(roc_auc_score(Y_test, classifier.predict(X_test))))\n",
    "    #print(\"ROC: \" + str(roc_auc_score(Y_test, Y_pred_test)))\n",
    "    matrix = confusion_matrix(Y_test.astype(int), Y_pred_test)\n",
    "    tn, fp, fn, tp = matrix.ravel()\n",
    "    ppv = tp/(tp+fp)\n",
    "    npv = tn/(tn+fn)\n",
    "    sensitivity = tp/(tp+fn)\n",
    "    specificity = tn/(tn+fp)\n",
    "    g_mean = np.sqrt(sensitivity*specificity)\n",
    "    print(\"PPV: \" + str(ppv))\n",
    "    print(\"NPV: \" + str(npv))\n",
    "    print(\"Sensitivity: \" + str(sensitivity))\n",
    "    print(\"Specificity: \" + str(specificity))\n",
    "    print(\"G-Mean: \" + str(g_mean))\n",
    "    print(\"Confusion matrix:\\n\" + str(matrix))"
   ]
  },
  {
   "cell_type": "code",
   "execution_count": 33,
   "metadata": {},
   "outputs": [
    {
     "data": {
      "text/plain": [
       "array([0.65, 0.0, 0.0, 0.053535353535353526], dtype=object)"
      ]
     },
     "execution_count": 33,
     "metadata": {},
     "output_type": "execute_result"
    }
   ],
   "source": [
    "X_train[0,-4:]"
   ]
  },
  {
   "cell_type": "markdown",
   "metadata": {},
   "source": [
    "## Undersample"
   ]
  },
  {
   "cell_type": "code",
   "execution_count": 17,
   "metadata": {},
   "outputs": [],
   "source": [
    "from imblearn.under_sampling import RandomUnderSampler\n",
    "us = RandomUnderSampler(ratio={0:6087, 1:20000})\n",
    "X_train_res, Y_train_res = us.fit_sample(X_train, Y_train)"
   ]
  },
  {
   "cell_type": "code",
   "execution_count": 318,
   "metadata": {},
   "outputs": [],
   "source": [
    "from tensorflow import keras\n",
    "from keras.layers import Input, Dense, Dropout, BatchNormalization, LeakyReLU, Activation\n",
    "from keras.layers.normalization import BatchNormalization\n",
    "from keras.models import Sequential\n",
    "from keras import regularizers\n",
    "\n",
    "model = Sequential()\n",
    "\n",
    "model.add(Dense(400, input_dim=X.shape[1], name='layer1'))\n",
    "model.add(LeakyReLU(alpha=0.1))\n",
    "#model.add(BatchNormalization())\n",
    "model.add(Dropout(0.1))\n",
    "\n",
    "\n",
    "model.add(Dense(400, kernel_regularizer=regularizers.l2(0.01), name='layer2'))\n",
    "model.add(LeakyReLU(alpha=0.1))\n",
    "#model.add(BatchNormalization())\n",
    "model.add(Dropout(0.1))\n",
    "\n",
    "model.add(Dense(400, kernel_regularizer=regularizers.l2(0.01), name='layer3'))\n",
    "model.add(LeakyReLU(alpha=0.1))\n",
    "#model.add(BatchNormalization())\n",
    "model.add(Dropout(0.1))\n",
    "\n",
    "model.add(Dense(400, kernel_regularizer=regularizers.l2(0.01), name='layer4'))\n",
    "model.add(LeakyReLU(alpha=0.1))\n",
    "#model.add(BatchNormalization())\n",
    "model.add(Dropout(0.1))\n",
    "\n",
    "model.add(Dense(1, activation='sigmoid'))\n",
    "\n",
    "#model.add(Dense(400, kernel_initializer='he_normal', name='layer4'))"
   ]
  },
  {
   "cell_type": "code",
   "execution_count": 319,
   "metadata": {
    "scrolled": true
   },
   "outputs": [
    {
     "name": "stdout",
     "output_type": "stream",
     "text": [
      "Epoch 1/5\n",
      "33818/33818 [==============================] - 16s 466us/step - loss: 1.0040 - acc: 0.8451\n",
      "Epoch 2/5\n",
      "33818/33818 [==============================] - 9s 266us/step - loss: 0.3544 - acc: 0.8508\n",
      "Epoch 3/5\n",
      "33818/33818 [==============================] - 9s 266us/step - loss: 0.3546 - acc: 0.8509\n",
      "Epoch 4/5\n",
      "33818/33818 [==============================] - 9s 267us/step - loss: 0.3514 - acc: 0.8518\n",
      "Epoch 5/5\n",
      "33818/33818 [==============================] - 9s 266us/step - loss: 0.3495 - acc: 0.8514\n",
      "3757/3757 [==============================] - 3s 818us/step\n",
      "\n",
      "acc: 85.17%\n"
     ]
    }
   ],
   "source": [
    "from keras.optimizers import Adam, Adadelta\n",
    "adam_opt = Adam(lr=.1)\n",
    "adagrad_opt = Adadelta()\n",
    "\n",
    "model.compile(loss='binary_crossentropy', optimizer='adam', metrics=['accuracy'])\n",
    "model.fit(X_train, Y_train, epochs=5, batch_size=50)\n",
    "scores = model.evaluate(X_test, Y_test)\n",
    "print(\"\\n%s: %.2f%%\" % (model.metrics_names[1], scores[1]*100))"
   ]
  },
  {
   "cell_type": "code",
   "execution_count": 317,
   "metadata": {},
   "outputs": [
    {
     "name": "stdout",
     "output_type": "stream",
     "text": [
      "Test accuracy score: 0.8573329784402449\n",
      "ROC: 0.8668757854082667\n",
      "PPV: 0.8902811735941321\n",
      "NPV: 0.6350515463917525\n",
      "Sensitivity: 0.9427184466019417\n",
      "Specificity: 0.4617691154422789\n",
      "G-Mean: 0.6597865285063782\n",
      "Confusion matrix:\n",
      "[[ 308  359]\n",
      " [ 177 2913]]\n"
     ]
    }
   ],
   "source": [
    "results(model)"
   ]
  },
  {
   "cell_type": "code",
   "execution_count": 285,
   "metadata": {},
   "outputs": [
    {
     "data": {
      "text/plain": [
       "array([-0.02789835,  0.02168945,  0.01079839, ..., -0.02229493,\n",
       "       -0.01450237, -0.04505375], dtype=float32)"
      ]
     },
     "execution_count": 285,
     "metadata": {},
     "output_type": "execute_result"
    }
   ],
   "source": [
    "l1 = model.get_layer(\"layer1\")\n",
    "l1.get_weights()[0].ravel()"
   ]
  },
  {
   "cell_type": "code",
   "execution_count": 290,
   "metadata": {
    "scrolled": true
   },
   "outputs": [
    {
     "data": {
      "text/plain": [
       "(array([0.0000e+00, 0.0000e+00, 0.0000e+00, 0.0000e+00, 0.0000e+00,\n",
       "        0.0000e+00, 0.0000e+00, 0.0000e+00, 0.0000e+00, 3.0000e+00,\n",
       "        2.0000e+01, 3.8800e+02, 9.1930e+03, 3.9618e+04, 7.1355e+04,\n",
       "        7.0977e+04, 3.9847e+04, 9.0310e+03, 3.4500e+02, 2.2000e+01,\n",
       "        1.0000e+00, 0.0000e+00, 0.0000e+00, 0.0000e+00, 0.0000e+00,\n",
       "        0.0000e+00, 0.0000e+00, 0.0000e+00, 0.0000e+00, 0.0000e+00]),\n",
       " array([-1.        , -0.93333333, -0.86666667, -0.8       , -0.73333333,\n",
       "        -0.66666667, -0.6       , -0.53333333, -0.46666667, -0.4       ,\n",
       "        -0.33333333, -0.26666667, -0.2       , -0.13333333, -0.06666667,\n",
       "         0.        ,  0.06666667,  0.13333333,  0.2       ,  0.26666667,\n",
       "         0.33333333,  0.4       ,  0.46666667,  0.53333333,  0.6       ,\n",
       "         0.66666667,  0.73333333,  0.8       ,  0.86666667,  0.93333333,\n",
       "         1.        ]),\n",
       " <a list of 30 Patch objects>)"
      ]
     },
     "execution_count": 290,
     "metadata": {},
     "output_type": "execute_result"
    },
    {
     "data": {
      "image/png": "[encoded data removed]",
      "text/plain": [
       "<matplotlib.figure.Figure at 0x7fcff1fd2cf8>"
      ]
     },
     "metadata": {},
     "output_type": "display_data"
    }
   ],
   "source": [
    "l1 = model.get_layer(\"layer1\")\n",
    "plt.hist(l1.get_weights()[0].ravel(), bins=30, range=(-1,1))"
   ]
  },
  {
   "cell_type": "code",
   "execution_count": 255,
   "metadata": {},
   "outputs": [
    {
     "data": {
      "image/png": "[encoded data removed]",
      "text/plain": [
       "<matplotlib.figure.Figure at 0x7fd00bd4bb38>"
      ]
     },
     "metadata": {},
     "output_type": "display_data"
    }
   ],
   "source": [
    "plt.hist(model.predict(X_test))\n",
    "plt.show()"
   ]
  },
  {
   "cell_type": "code",
   "execution_count": 203,
   "metadata": {},
   "outputs": [],
   "source": [
    "pred = model.predict(X_test)\n",
    "idx = np.where(pred<0.3)[0]"
   ]
  },
  {
   "cell_type": "code",
   "execution_count": 205,
   "metadata": {
    "scrolled": true
   },
   "outputs": [
    {
     "data": {
      "text/plain": [
       "0.4061976"
      ]
     },
     "execution_count": 205,
     "metadata": {},
     "output_type": "execute_result"
    }
   ],
   "source": [
    "np.min(pred)"
   ]
  },
  {
   "cell_type": "code",
   "execution_count": 174,
   "metadata": {},
   "outputs": [
    {
     "name": "stdout",
     "output_type": "stream",
     "text": [
      "[0.97772026] 1\n",
      "[0.9541617] 1\n",
      "[0.5386401] 0\n",
      "[0.9818792] 1\n",
      "[0.9157739] 0\n",
      "[0.96501845] 1\n",
      "[0.9708846] 1\n",
      "[0.9781009] 1\n",
      "[0.42925888] 0\n",
      "[0.997959] 1\n",
      "[0.5404831] 0\n",
      "[0.9827959] 1\n",
      "[0.7582309] 1\n",
      "[0.8819169] 0\n",
      "[0.9573313] 1\n",
      "[0.959993] 1\n",
      "[0.48295692] 0\n",
      "[0.97830987] 1\n",
      "[0.995999] 1\n",
      "[0.5414268] 0\n",
      "[0.83401334] 1\n",
      "[0.51236796] 0\n",
      "[0.9929508] 1\n",
      "[0.91685] 1\n",
      "[0.90754074] 1\n",
      "[0.9852047] 1\n",
      "[0.9879489] 1\n",
      "[0.99886703] 1\n",
      "[0.5496952] 1\n",
      "[0.95478874] 1\n",
      "[0.9839409] 1\n",
      "[0.772484] 1\n",
      "[0.9964713] 1\n",
      "[0.98914206] 1\n",
      "[0.9782548] 1\n",
      "[0.96966076] 1\n",
      "[0.9785876] 1\n",
      "[0.68058294] 0\n",
      "[0.99516016] 1\n",
      "[0.9911753] 1\n",
      "[0.98937434] 1\n",
      "[0.8199292] 1\n",
      "[0.8899329] 0\n",
      "[0.6321105] 1\n",
      "[0.98199743] 1\n",
      "[0.95295465] 1\n",
      "[0.9915103] 1\n",
      "[0.862754] 1\n",
      "[0.98961675] 1\n",
      "[0.9313016] 0\n",
      "[0.79055405] 1\n",
      "[0.9465383] 1\n",
      "[0.9994234] 1\n",
      "[0.97542727] 1\n",
      "[0.8631533] 0\n",
      "[0.99776244] 1\n",
      "[0.99757415] 1\n",
      "[0.97010976] 1\n",
      "[0.86313045] 1\n",
      "[0.99683326] 1\n",
      "[0.99865025] 1\n",
      "[0.9983937] 1\n",
      "[0.9874942] 1\n",
      "[0.88709706] 1\n",
      "[0.9496948] 0\n",
      "[0.9882946] 1\n",
      "[0.9689556] 1\n",
      "[0.94108176] 1\n",
      "[0.9836093] 1\n",
      "[0.97141504] 1\n",
      "[0.61297935] 0\n",
      "[0.82088464] 1\n",
      "[0.9438128] 1\n",
      "[0.9978421] 1\n",
      "[0.9016932] 0\n",
      "[0.9279951] 1\n",
      "[0.8699937] 1\n",
      "[0.96289825] 1\n",
      "[0.9794759] 1\n",
      "[0.98944354] 1\n",
      "[0.9975666] 1\n",
      "[0.49855614] 0\n",
      "[0.9953105] 1\n",
      "[0.9928926] 1\n",
      "[0.35135844] 0\n",
      "[0.93710417] 1\n",
      "[0.7247995] 1\n",
      "[0.5008354] 0\n",
      "[0.99346983] 1\n",
      "[0.9732554] 1\n",
      "[0.9971783] 1\n",
      "[0.9715229] 1\n",
      "[0.9509497] 1\n",
      "[0.48197174] 1\n",
      "[0.61684126] 0\n",
      "[0.98089117] 1\n",
      "[0.99367344] 1\n",
      "[0.9083576] 1\n",
      "[0.9342971] 1\n",
      "[0.38773343] 0\n",
      "[0.6299606] 1\n",
      "[0.9927988] 1\n",
      "[0.952722] 0\n",
      "[0.9721825] 1\n",
      "[0.9551223] 1\n",
      "[0.9224155] 0\n",
      "[0.9958534] 1\n",
      "[0.97415394] 1\n",
      "[0.99779713] 1\n",
      "[0.9952158] 1\n",
      "[0.9937046] 1\n",
      "[0.3713744] 1\n",
      "[0.95727843] 0\n",
      "[0.9709906] 1\n",
      "[0.9861507] 1\n",
      "[0.99586546] 1\n",
      "[0.99046385] 1\n",
      "[0.99764305] 1\n",
      "[0.94641924] 1\n",
      "[0.8570484] 1\n",
      "[0.9380259] 1\n",
      "[0.9965191] 1\n",
      "[0.98237693] 1\n",
      "[0.8541833] 0\n",
      "[0.9779139] 1\n",
      "[0.93093926] 1\n",
      "[0.9694603] 1\n",
      "[0.9956819] 1\n",
      "[0.98091584] 1\n",
      "[0.9907561] 1\n",
      "[0.30465582] 0\n",
      "[0.7647492] 0\n",
      "[0.28352952] 0\n",
      "[0.97549987] 1\n",
      "[0.9857852] 1\n",
      "[0.99042517] 1\n",
      "[0.27618155] 0\n",
      "[0.93226343] 1\n",
      "[0.9959928] 1\n",
      "[0.9594369] 1\n",
      "[0.9276447] 1\n",
      "[0.9446141] 1\n",
      "[0.7764262] 1\n",
      "[0.9931165] 1\n",
      "[0.88862526] 1\n",
      "[0.6920073] 1\n",
      "[0.5362145] 0\n",
      "[0.99582833] 1\n",
      "[0.99329877] 1\n",
      "[0.9810399] 1\n",
      "[0.90237415] 0\n",
      "[0.955184] 1\n",
      "[0.8847103] 1\n",
      "[0.9975988] 1\n",
      "[0.49283433] 1\n",
      "[0.91769475] 1\n",
      "[0.9285831] 1\n",
      "[0.9751286] 1\n",
      "[0.8603751] 0\n",
      "[0.99253595] 1\n",
      "[0.96861756] 1\n",
      "[0.99231553] 0\n",
      "[0.9513203] 1\n",
      "[0.4385916] 1\n",
      "[0.9921886] 1\n",
      "[0.99945647] 1\n",
      "[0.9945846] 1\n",
      "[0.9973863] 1\n",
      "[0.99885285] 1\n",
      "[0.9960628] 1\n",
      "[0.9860029] 1\n",
      "[0.98138934] 1\n",
      "[0.9987902] 1\n",
      "[0.9642438] 1\n",
      "[0.9850293] 1\n",
      "[0.9303429] 1\n",
      "[0.7011003] 1\n",
      "[0.29249752] 0\n",
      "[0.95863014] 1\n",
      "[0.8615851] 1\n",
      "[0.83127177] 1\n",
      "[0.9840389] 1\n",
      "[0.8404927] 1\n",
      "[0.5294985] 1\n",
      "[0.94474703] 1\n",
      "[0.67342216] 1\n",
      "[0.6909758] 1\n",
      "[0.66249883] 1\n",
      "[0.34090117] 0\n",
      "[0.97808856] 1\n",
      "[0.95779103] 1\n",
      "[0.9256212] 1\n",
      "[0.98237693] 1\n",
      "[0.52639455] 1\n",
      "[0.9910453] 1\n",
      "[0.99399865] 1\n",
      "[0.97556686] 1\n",
      "[0.9618897] 1\n",
      "[0.7408913] 1\n",
      "[0.6657528] 1\n",
      "[0.99140376] 1\n",
      "[0.48679155] 1\n",
      "[0.97230095] 1\n",
      "[0.6472505] 0\n",
      "[0.96315247] 1\n",
      "[0.93220955] 1\n",
      "[0.6347513] 1\n",
      "[0.9564787] 1\n",
      "[0.9908826] 1\n",
      "[0.9571765] 1\n",
      "[0.79738766] 0\n",
      "[0.99909246] 1\n",
      "[0.36910513] 1\n",
      "[0.8869118] 1\n",
      "[0.6441938] 0\n",
      "[0.7534287] 0\n",
      "[0.874221] 1\n",
      "[0.9323487] 1\n",
      "[0.6161137] 1\n",
      "[0.9195972] 0\n",
      "[0.8373054] 1\n",
      "[0.55110145] 0\n",
      "[0.84732693] 0\n",
      "[0.995812] 1\n",
      "[0.9140146] 1\n",
      "[0.848178] 1\n",
      "[0.81606257] 1\n",
      "[0.99030894] 1\n",
      "[0.9892335] 1\n",
      "[0.9826241] 0\n",
      "[0.59822005] 1\n",
      "[0.9395649] 1\n",
      "[0.9789876] 1\n"
     ]
    }
   ],
   "source": [
    "for i in range(len(idx)):\n",
    "    print(pred[i], Y_test[i])"
   ]
  },
  {
   "cell_type": "code",
   "execution_count": null,
   "metadata": {},
   "outputs": [],
   "source": []
  }
 ],
 "metadata": {
  "kernelspec": {
   "display_name": "Python 3",
   "language": "python",
   "name": "python3"
  },
  "language_info": {
   "codemirror_mode": {
    "name": "ipython",
    "version": 3
   },
   "file_extension": ".py",
   "mimetype": "text/x-python",
   "name": "python",
   "nbconvert_exporter": "python",
   "pygments_lexer": "ipython3",
   "version": "3.6.4"
  }
 },
 "nbformat": 4,
 "nbformat_minor": 2
}
