{
 "cells": [
  {
   "cell_type": "code",
   "execution_count": 1,
   "metadata": {
    "collapsed": true
   },
   "outputs": [],
   "source": [
    "import numpy as np\n",
    "import matplotlib.pyplot as plt\n",
    "import pandas as pd\n",
    "import sklearn\n",
    "import tensorflow as tf\n",
    "from collections import Counter\n",
    "\n",
    "%matplotlib inline"
   ]
  },
  {
   "cell_type": "code",
   "execution_count": 3,
   "metadata": {},
   "outputs": [],
   "source": [
    "X_all = np.load('../hispanic_colrect/X.npy')\n",
    "Y1 = np.load('../hispanic_colrect/Y1.npy')\n",
    "Y2 = np.load('../hispanic_colrect/Y2.npy')\n",
    "Y5 = np.load('../hispanic_colrect/Y5.npy')"
   ]
  },
  {
   "cell_type": "code",
   "execution_count": 4,
   "metadata": {
    "collapsed": true
   },
   "outputs": [],
   "source": [
    "# shuffle\n",
    "np.random.seed(97)\n",
    "idx = np.random.permutation(len(X_all))\n",
    "X = X_all[idx]\n",
    "Y = Y5[idx]\n",
    "\n",
    "TEST_SET_SIZE = 6000\n",
    "\n",
    "X_train, X_test = X[:-TEST_SET_SIZE], X[-TEST_SET_SIZE:]\n",
    "Y_train, Y_test = Y[:-TEST_SET_SIZE].astype(int), Y[-TEST_SET_SIZE:].astype(int)"
   ]
  },
  {
   "cell_type": "code",
   "execution_count": 5,
   "metadata": {},
   "outputs": [
    {
     "name": "stderr",
     "output_type": "stream",
     "text": [
      "/Users/sam/anaconda3/lib/python3.6/site-packages/sklearn/utils/validation.py:444: DataConversionWarning: Data with input dtype object was converted to float64 by StandardScaler.\n",
      "  warnings.warn(msg, DataConversionWarning)\n"
     ]
    }
   ],
   "source": [
    "# Features Scaling\n",
    "from sklearn.preprocessing import StandardScaler, MinMaxScaler\n",
    "std_scaler = StandardScaler()\n",
    "X_train[:,-4:] = std_scaler.fit_transform(X_train[:,-4:])\n",
    "X_test[:,-4:] = std_scaler.transform(X_test[:,-4:])"
   ]
  },
  {
   "cell_type": "code",
   "execution_count": 44,
   "metadata": {},
   "outputs": [],
   "source": [
    "from sklearn.metrics import accuracy_score, roc_auc_score\n",
    "from sklearn.metrics import confusion_matrix\n",
    "\n",
    "def results(classifier,threshold=0.5):\n",
    "    Y_pred_test = classifier.predict(X_test)\n",
    "    Y_pred_test = (Y_pred_test>=threshold).astype(int)\n",
    "    #Y_pred_test = np.rint(Y_pred_test)\n",
    "    print(\"Test accuracy score: \" + str(accuracy_score(Y_test.astype(int), Y_pred_test)))\n",
    "    print(\"ROC: \" + str(roc_auc_score(Y_test.astype(int), Y_pred_test)))\n",
    "    matrix = confusion_matrix(Y_test.astype(int), Y_pred_test)\n",
    "    tn, fp, fn, tp = matrix.ravel()\n",
    "    ppv = tp/(tp+fp)\n",
    "    npv = tn/(tn+fn)\n",
    "    sensitivity = tp/(tp+fn)\n",
    "    specificity = tn/(tn+fp)\n",
    "    g_mean = np.sqrt(sensitivity*specificity)\n",
    "    print(\"PPV: \" + str(ppv))\n",
    "    print(\"NPV: \" + str(npv))\n",
    "    print(\"Sensitivity: \" + str(sensitivity))\n",
    "    print(\"Specificity: \" + str(specificity))\n",
    "    print(\"G-Mean: \" + str(g_mean))\n",
    "    print(\"Confusion matrix:\\n\" + str(matrix))"
   ]
  },
  {
   "cell_type": "code",
   "execution_count": 125,
   "metadata": {},
   "outputs": [
    {
     "data": {
      "text/plain": [
       "array([0.05973328722727474, -0.12173440434140541, -0.46331309102856094,\n",
       "       -0.12734246089730297], dtype=object)"
      ]
     },
     "execution_count": 125,
     "metadata": {},
     "output_type": "execute_result"
    }
   ],
   "source": [
    "X_train[0,-4:]"
   ]
  },
  {
   "cell_type": "code",
   "execution_count": 57,
   "metadata": {},
   "outputs": [],
   "source": [
    "from tensorflow import keras\n",
    "from keras.layers import Input, Dense, Dropout\n",
    "from keras.models import Sequential\n",
    "\n",
    "# reset graph\n",
    "#tf.reset_default_graph()\n",
    "\n",
    "#with tf.Graph().as_default() as graph:\n",
    "    # create model\n",
    "#global model\n",
    "model = Sequential()\n",
    "#model.add(Dropout(0.25, input_shape=(X.shape[1],)))\n",
    "model.add(Dense(400, input_dim=X.shape[1], activation=keras.layers.LeakyReLU(alpha=0.1)))\n",
    "model.add(Dropout(0.25))\n",
    "model.add(Dense(400, activation=keras.layers.LeakyReLU(alpha=0.1)))\n",
    "model.add(Dropout(0.25))\n",
    "model.add(Dense(400, activation=keras.layers.LeakyReLU(alpha=0.1)))\n",
    "model.add(Dropout(0.25))\n",
    "model.add(Dense(1, activation='tanh'))\n",
    "#global graph\n",
    "#graph = tf.get_default_graph()"
   ]
  },
  {
   "cell_type": "code",
   "execution_count": 58,
   "metadata": {
    "scrolled": true
   },
   "outputs": [
    {
     "name": "stdout",
     "output_type": "stream",
     "text": [
      "Epoch 1/4\n",
      "40785/40785 [==============================] - 13s 318us/step - loss: 0.4336 - acc: 0.8096\n",
      "Epoch 2/4\n",
      "40785/40785 [==============================] - 12s 294us/step - loss: 0.4049 - acc: 0.8200\n",
      "Epoch 3/4\n",
      "40785/40785 [==============================] - 12s 291us/step - loss: 0.3979 - acc: 0.8233\n",
      "Epoch 4/4\n",
      "40785/40785 [==============================] - 12s 292us/step - loss: 0.3928 - acc: 0.8246\n",
      "6000/6000 [==============================] - 1s 160us/step\n",
      "\n",
      "acc: 82.35%\n"
     ]
    }
   ],
   "source": [
    "#with tf.Session(graph=graph) as sess:\n",
    "model.compile(loss='binary_crossentropy', optimizer='adam', metrics=['accuracy'])\n",
    "model.fit(X_train, Y_train, epochs=4, batch_size=50)\n",
    "scores = model.evaluate(X_test, Y_test)\n",
    "print(\"\\n%s: %.2f%%\" % (model.metrics_names[1], scores[1]*100))"
   ]
  },
  {
   "cell_type": "code",
   "execution_count": 60,
   "metadata": {},
   "outputs": [
    {
     "name": "stdout",
     "output_type": "stream",
     "text": [
      "Test accuracy score: 0.7965\n",
      "ROC: 0.780393214551\n",
      "PPV: 0.911373707533\n",
      "NPV: 0.55572755418\n",
      "Sensitivity: 0.81130834977\n",
      "Specificity: 0.749478079332\n",
      "Confusion matrix:\n",
      "[[1077  360]\n",
      " [ 861 3702]]\n"
     ]
    }
   ],
   "source": [
    "results(model,threshold=0.67)"
   ]
  },
  {
   "cell_type": "code",
   "execution_count": 12,
   "metadata": {
    "collapsed": true
   },
   "outputs": [],
   "source": [
    "#with graph.as_default():\n",
    "Y_pred_test = model.predict(X_test)\n",
    "Y_pred_test = np.rint(Y_pred_test)"
   ]
  },
  {
   "cell_type": "code",
   "execution_count": 13,
   "metadata": {},
   "outputs": [
    {
     "name": "stdout",
     "output_type": "stream",
     "text": [
      "0.823833333333\n",
      "ROC: 0.738294587901\n"
     ]
    },
    {
     "data": {
      "text/plain": [
       "array([[ 825,  612],\n",
       "       [ 445, 4118]])"
      ]
     },
     "execution_count": 13,
     "metadata": {},
     "output_type": "execute_result"
    }
   ],
   "source": [
    "from sklearn.metrics import accuracy_score, roc_auc_score\n",
    "from sklearn.metrics import confusion_matrix\n",
    "#Y_pred_test = grid_search.predict(std_scaler.transform(X_test))\n",
    "print(accuracy_score(Y_test.astype(int), Y_pred_test))\n",
    "print(\"ROC: \" + str(roc_auc_score(Y_test.astype(int), Y_pred_test)))\n",
    "confusion_matrix(Y_test.astype(int), Y_pred_test)"
   ]
  },
  {
   "cell_type": "code",
   "execution_count": 130,
   "metadata": {},
   "outputs": [
    {
     "name": "stdout",
     "output_type": "stream",
     "text": [
      "PPV: 0.873648505406\n",
      "NPV: 0.655494933749\n",
      "Sensitivity: 0.903133903134\n",
      "Specificity: 0.58524704245\n"
     ]
    }
   ],
   "source": [
    "tn, fp, fn, tp = confusion_matrix(Y_test.astype(int), Y_pred_test).ravel()\n",
    "ppv = tp/(tp+fp)\n",
    "npv = tn/(tn+fn)\n",
    "sensitivity = tp/(tp+fn)\n",
    "specificity = tn/(tn+fp)\n",
    "print(\"PPV: \" + str(ppv))\n",
    "print(\"NPV: \" + str(npv))\n",
    "print(\"Sensitivity: \" + str(sensitivity))\n",
    "print(\"Specificity: \" + str(specificity))"
   ]
  },
  {
   "cell_type": "code",
   "execution_count": null,
   "metadata": {
    "collapsed": true
   },
   "outputs": [],
   "source": []
  }
 ],
 "metadata": {
  "kernelspec": {
   "display_name": "Python 3",
   "language": "python",
   "name": "python3"
  },
  "language_info": {
   "codemirror_mode": {
    "name": "ipython",
    "version": 3
   },
   "file_extension": ".py",
   "mimetype": "text/x-python",
   "name": "python",
   "nbconvert_exporter": "python",
   "pygments_lexer": "ipython3",
   "version": "3.6.2"
  }
 },
 "nbformat": 4,
 "nbformat_minor": 2
}
