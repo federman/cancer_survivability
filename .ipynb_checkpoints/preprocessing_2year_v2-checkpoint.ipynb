{
 "cells": [
  {
   "cell_type": "code",
   "execution_count": 2,
   "metadata": {
    "scrolled": true
   },
   "outputs": [
    {
     "name": "stderr",
     "output_type": "stream",
     "text": [
      "/home/samuel/anaconda3/lib/python3.6/site-packages/h5py/__init__.py:36: FutureWarning: Conversion of the second argument of issubdtype from `float` to `np.floating` is deprecated. In future, it will be treated as `np.float64 == np.dtype(float).type`.\n",
      "  from ._conv import register_converters as _register_converters\n"
     ]
    }
   ],
   "source": [
    "import numpy as np\n",
    "import matplotlib.pyplot as plt\n",
    "import pandas as pd\n",
    "import sklearn\n",
    "import tensorflow as tf\n",
    "from collections import Counter\n",
    "\n",
    "%matplotlib inline"
   ]
  },
  {
   "cell_type": "code",
   "execution_count": 35,
   "metadata": {},
   "outputs": [],
   "source": [
    "#race = \"white\"\n",
    "race = \"hispanic\"\n",
    "#race = \"mixed\""
   ]
  },
  {
   "cell_type": "code",
   "execution_count": 36,
   "metadata": {
    "scrolled": true
   },
   "outputs": [],
   "source": [
    "if race == \"white\":\n",
    "    data = pd.read_csv(\"../Data/white/white_2year.csv\")\n",
    "if race == \"hispanic\":\n",
    "    data = pd.read_csv(\"../Data/hispanic/hispanic_2year.csv\")\n",
    "if race == \"mixed\":\n",
    "    data = pd.read_csv(\"../Data/mixed/mixed_2year.csv\")\n",
    "data_matrix = data.as_matrix()"
   ]
  },
  {
   "cell_type": "code",
   "execution_count": 37,
   "metadata": {
    "scrolled": true
   },
   "outputs": [
    {
     "data": {
      "text/html": [
       "<div>\n",
       "<style scoped>\n",
       "    .dataframe tbody tr th:only-of-type {\n",
       "        vertical-align: middle;\n",
       "    }\n",
       "\n",
       "    .dataframe tbody tr th {\n",
       "        vertical-align: top;\n",
       "    }\n",
       "\n",
       "    .dataframe thead th {\n",
       "        text-align: right;\n",
       "    }\n",
       "</style>\n",
       "<table border=\"1\" class=\"dataframe\">\n",
       "  <thead>\n",
       "    <tr style=\"text-align: right;\">\n",
       "      <th></th>\n",
       "      <th>pubcsnum</th>\n",
       "      <th>mar_stat</th>\n",
       "      <th>sex</th>\n",
       "      <th>primsite</th>\n",
       "      <th>histo3v</th>\n",
       "      <th>beho3v</th>\n",
       "      <th>grade</th>\n",
       "      <th>dx_conf</th>\n",
       "      <th>csexten</th>\n",
       "      <th>cslymphn</th>\n",
       "      <th>...</th>\n",
       "      <th>eod10_pn</th>\n",
       "      <th>eod10_ne</th>\n",
       "      <th>cstumsiz</th>\n",
       "      <th>maligcount</th>\n",
       "      <th>benbordcount</th>\n",
       "      <th>year_dx</th>\n",
       "      <th>nhiade</th>\n",
       "      <th>codpub</th>\n",
       "      <th>srv_time_mon</th>\n",
       "      <th>srv_time_mon_flag</th>\n",
       "    </tr>\n",
       "  </thead>\n",
       "  <tbody>\n",
       "    <tr>\n",
       "      <th>0</th>\n",
       "      <td>7011365</td>\n",
       "      <td>9</td>\n",
       "      <td>2</td>\n",
       "      <td>C184</td>\n",
       "      <td>8210</td>\n",
       "      <td>3</td>\n",
       "      <td>2</td>\n",
       "      <td>1</td>\n",
       "      <td>200</td>\n",
       "      <td>0</td>\n",
       "      <td>...</td>\n",
       "      <td>0</td>\n",
       "      <td>5</td>\n",
       "      <td>30</td>\n",
       "      <td>4</td>\n",
       "      <td>0</td>\n",
       "      <td>2010</td>\n",
       "      <td>7</td>\n",
       "      <td>0</td>\n",
       "      <td>71</td>\n",
       "      <td>1</td>\n",
       "    </tr>\n",
       "    <tr>\n",
       "      <th>1</th>\n",
       "      <td>7014780</td>\n",
       "      <td>5</td>\n",
       "      <td>2</td>\n",
       "      <td>C209</td>\n",
       "      <td>8140</td>\n",
       "      <td>3</td>\n",
       "      <td>2</td>\n",
       "      <td>1</td>\n",
       "      <td>200</td>\n",
       "      <td>0</td>\n",
       "      <td>...</td>\n",
       "      <td>0</td>\n",
       "      <td>48</td>\n",
       "      <td>30</td>\n",
       "      <td>2</td>\n",
       "      <td>0</td>\n",
       "      <td>2007</td>\n",
       "      <td>6</td>\n",
       "      <td>21040</td>\n",
       "      <td>36</td>\n",
       "      <td>1</td>\n",
       "    </tr>\n",
       "    <tr>\n",
       "      <th>2</th>\n",
       "      <td>7017183</td>\n",
       "      <td>2</td>\n",
       "      <td>1</td>\n",
       "      <td>C186</td>\n",
       "      <td>8140</td>\n",
       "      <td>2</td>\n",
       "      <td>9</td>\n",
       "      <td>1</td>\n",
       "      <td>50</td>\n",
       "      <td>0</td>\n",
       "      <td>...</td>\n",
       "      <td>98</td>\n",
       "      <td>0</td>\n",
       "      <td>999</td>\n",
       "      <td>3</td>\n",
       "      <td>0</td>\n",
       "      <td>2012</td>\n",
       "      <td>6</td>\n",
       "      <td>21050</td>\n",
       "      <td>37</td>\n",
       "      <td>1</td>\n",
       "    </tr>\n",
       "    <tr>\n",
       "      <th>3</th>\n",
       "      <td>7017183</td>\n",
       "      <td>2</td>\n",
       "      <td>1</td>\n",
       "      <td>C209</td>\n",
       "      <td>8263</td>\n",
       "      <td>3</td>\n",
       "      <td>2</td>\n",
       "      <td>1</td>\n",
       "      <td>455</td>\n",
       "      <td>0</td>\n",
       "      <td>...</td>\n",
       "      <td>0</td>\n",
       "      <td>16</td>\n",
       "      <td>45</td>\n",
       "      <td>3</td>\n",
       "      <td>0</td>\n",
       "      <td>2012</td>\n",
       "      <td>6</td>\n",
       "      <td>21050</td>\n",
       "      <td>37</td>\n",
       "      <td>1</td>\n",
       "    </tr>\n",
       "    <tr>\n",
       "      <th>4</th>\n",
       "      <td>7018423</td>\n",
       "      <td>2</td>\n",
       "      <td>1</td>\n",
       "      <td>C186</td>\n",
       "      <td>8263</td>\n",
       "      <td>3</td>\n",
       "      <td>3</td>\n",
       "      <td>1</td>\n",
       "      <td>400</td>\n",
       "      <td>0</td>\n",
       "      <td>...</td>\n",
       "      <td>0</td>\n",
       "      <td>35</td>\n",
       "      <td>25</td>\n",
       "      <td>3</td>\n",
       "      <td>0</td>\n",
       "      <td>2011</td>\n",
       "      <td>2</td>\n",
       "      <td>0</td>\n",
       "      <td>52</td>\n",
       "      <td>1</td>\n",
       "    </tr>\n",
       "  </tbody>\n",
       "</table>\n",
       "<p>5 rows × 29 columns</p>\n",
       "</div>"
      ],
      "text/plain": [
       "   pubcsnum  mar_stat  sex primsite  histo3v  beho3v  grade  dx_conf  csexten  \\\n",
       "0   7011365         9    2     C184     8210       3      2        1      200   \n",
       "1   7014780         5    2     C209     8140       3      2        1      200   \n",
       "2   7017183         2    1     C186     8140       2      9        1       50   \n",
       "3   7017183         2    1     C209     8263       3      2        1      455   \n",
       "4   7018423         2    1     C186     8263       3      3        1      400   \n",
       "\n",
       "   cslymphn        ...          eod10_pn  eod10_ne  cstumsiz  maligcount  \\\n",
       "0         0        ...                 0         5        30           4   \n",
       "1         0        ...                 0        48        30           2   \n",
       "2         0        ...                98         0       999           3   \n",
       "3         0        ...                 0        16        45           3   \n",
       "4         0        ...                 0        35        25           3   \n",
       "\n",
       "   benbordcount  year_dx  nhiade  codpub  srv_time_mon  srv_time_mon_flag  \n",
       "0             0     2010       7       0            71                  1  \n",
       "1             0     2007       6   21040            36                  1  \n",
       "2             0     2012       6   21050            37                  1  \n",
       "3             0     2012       6   21050            37                  1  \n",
       "4             0     2011       2       0            52                  1  \n",
       "\n",
       "[5 rows x 29 columns]"
      ]
     },
     "execution_count": 37,
     "metadata": {},
     "output_type": "execute_result"
    }
   ],
   "source": [
    "data.head()"
   ]
  },
  {
   "cell_type": "code",
   "execution_count": 38,
   "metadata": {
    "scrolled": true
   },
   "outputs": [
    {
     "data": {
      "text/plain": [
       "(37575, 29)"
      ]
     },
     "execution_count": 38,
     "metadata": {},
     "output_type": "execute_result"
    }
   ],
   "source": [
    "data_matrix.shape"
   ]
  },
  {
   "cell_type": "code",
   "execution_count": 39,
   "metadata": {},
   "outputs": [
    {
     "data": {
      "text/plain": [
       "array([7011365, 9, 2, 'C184', 8210, 3, 2, 1, 200, 0, 0, 3.0, 3.0, 0.0, 50,\n",
       "       0, 1, 1502, 93, 0, 5, 30, 4, 0, 2010, 7, 0, 71, 1], dtype=object)"
      ]
     },
     "execution_count": 39,
     "metadata": {},
     "output_type": "execute_result"
    }
   ],
   "source": [
    "data_matrix[0]"
   ]
  },
  {
   "cell_type": "code",
   "execution_count": 40,
   "metadata": {},
   "outputs": [],
   "source": [
    "var_names = []\n",
    "with open('var_names.txt', 'r') as f_vars:\n",
    "    for name in f_vars:\n",
    "        var_names.append(name.strip())"
   ]
  },
  {
   "cell_type": "code",
   "execution_count": 41,
   "metadata": {},
   "outputs": [
    {
     "data": {
      "text/plain": [
       "['mar_stat',\n",
       " 'sex',\n",
       " 'primsite',\n",
       " 'histo3v',\n",
       " 'beho3v',\n",
       " 'grade',\n",
       " 'dx_conf',\n",
       " 'csexten',\n",
       " 'cslymphn',\n",
       " 'csmetsdx',\n",
       " 'cstseval',\n",
       " 'csrgeval',\n",
       " 'csmteval',\n",
       " 'surgprif',\n",
       " 'no_surg',\n",
       " 'summ2k',\n",
       " 'reg',\n",
       " 'age_dx',\n",
       " 'eod10_pn',\n",
       " 'cstumsiz',\n",
       " 'maligcount']"
      ]
     },
     "execution_count": 41,
     "metadata": {},
     "output_type": "execute_result"
    }
   ],
   "source": [
    "var_names"
   ]
  },
  {
   "cell_type": "markdown",
   "metadata": {},
   "source": [
    "# Preprocessing"
   ]
  },
  {
   "cell_type": "code",
   "execution_count": 42,
   "metadata": {
    "scrolled": true
   },
   "outputs": [
    {
     "data": {
      "text/plain": [
       "(37575, 17)"
      ]
     },
     "execution_count": 42,
     "metadata": {},
     "output_type": "execute_result"
    }
   ],
   "source": [
    "# Y2 will be indicator of survival; 21040 and 21050 are SEER codes for colon and rectum cancer\n",
    "Y2 = np.logical_not(np.logical_and(data_matrix[:,-2].astype(int)<24, np.isin(data_matrix[:,-3], (21040, 21050))))\n",
    "X = data_matrix[:,1:23]\n",
    "X_cont = X[:,-5:]\n",
    "X_cat = X[:,:-5]\n",
    "X_cat.shape"
   ]
  },
  {
   "cell_type": "code",
   "execution_count": 43,
   "metadata": {},
   "outputs": [
    {
     "data": {
      "text/plain": [
       "array([93, 0, 5, 30, 4], dtype=object)"
      ]
     },
     "execution_count": 43,
     "metadata": {},
     "output_type": "execute_result"
    }
   ],
   "source": [
    "X_cont[0]"
   ]
  },
  {
   "cell_type": "code",
   "execution_count": 44,
   "metadata": {
    "scrolled": true
   },
   "outputs": [],
   "source": [
    "# Fill missing values in three eval columns with 9: unknown\n",
    "# remember: index shifted over one since we deleted primsite <-- no longer the case\n",
    "X_cat[:,12] = np.array([9 if np.isnan(x) else x for x in X_cat[:,12]])\n",
    "X_cat[:,10] = np.array([9 if np.isnan(x) else x for x in X_cat[:,10]])\n",
    "X_cat[:,11] = np.array([9 if np.isnan(x) else x for x in X_cat[:,11]])"
   ]
  },
  {
   "cell_type": "code",
   "execution_count": 45,
   "metadata": {},
   "outputs": [],
   "source": [
    "from sklearn.preprocessing import LabelBinarizer\n",
    "from sklearn.externals import joblib\n",
    "\n",
    "features = {}\n",
    "\n",
    "X_cat_bin = np.zeros((X_cat.shape[0], 1))\n",
    "start_idx = 0\n",
    "\n",
    "for i in range(X_cat.shape[1]):\n",
    "    lb = LabelBinarizer()\n",
    "    X_cat_bin = np.hstack((X_cat_bin, lb.fit_transform(X_cat[:,i].astype(str))))\n",
    "    features[(i, var_names[i],start_idx)] = lb.classes_\n",
    "    start_idx += len(lb.classes_)\n",
    "    if len(lb.classes_) == 2:\n",
    "        start_idx -= 1\n",
    "X_cat_bin = np.delete(X_cat_bin, [0], axis=1)\n",
    "X_cat = X_cat_bin"
   ]
  },
  {
   "cell_type": "code",
   "execution_count": 46,
   "metadata": {},
   "outputs": [],
   "source": [
    "import pickle\n",
    "with open(race + '_codes.pkl', 'wb') as f:\n",
    "    pickle.dump(features, f, pickle.HIGHEST_PROTOCOL)"
   ]
  },
  {
   "cell_type": "code",
   "execution_count": 33,
   "metadata": {},
   "outputs": [
    {
     "data": {
      "text/plain": [
       "array([0., 0., 0., 0., 0., 0., 1., 1., 0., 0., 0., 0., 1., 0., 0., 0., 0.,\n",
       "       0., 0., 0.])"
      ]
     },
     "execution_count": 33,
     "metadata": {},
     "output_type": "execute_result"
    }
   ],
   "source": [
    "X_cat[0,:20]"
   ]
  },
  {
   "cell_type": "code",
   "execution_count": 32,
   "metadata": {},
   "outputs": [
    {
     "data": {
      "text/plain": [
       "'white'"
      ]
     },
     "execution_count": 32,
     "metadata": {},
     "output_type": "execute_result"
    }
   ],
   "source": [
    "race"
   ]
  },
  {
   "cell_type": "code",
   "execution_count": 20,
   "metadata": {},
   "outputs": [
    {
     "data": {
      "text/plain": [
       "(37575, 297)"
      ]
     },
     "execution_count": 20,
     "metadata": {},
     "output_type": "execute_result"
    }
   ],
   "source": [
    "X_cat_bin.shape"
   ]
  },
  {
   "cell_type": "markdown",
   "metadata": {},
   "source": [
    "The continuous variables in order: age_dx, eod10_pn, eod10_ne, cstumsiz, maligcount. Age and maligcount do not require imputation, and eod10_ne (nodes examined) will not be used as a variable.\n"
   ]
  },
  {
   "cell_type": "markdown",
   "metadata": {},
   "source": [
    "Here we will impute values for eod10_pn and cstumsiz. We will implement multivariate imputation by chained equations (MICE) on these two continuous variables. Their indices are and values which need to be imputed are:\n",
    "\n",
    "1: eod10_pn (95, 97, 98, 99)<br>\n",
    "3: cstumsiz (998, 999)<br>\n",
    "\n",
    "Additionally, we will replace the values (991, 992, 993, 994, 995) in cstumsiz with (1, 2, 3, 4, 5) respectively.\n",
    "\n",
    "\n",
    "### Note: The above should be re-verified for each different dataset. This is for colorectal cancer in Hispanic patients after 2004."
   ]
  },
  {
   "cell_type": "code",
   "execution_count": 21,
   "metadata": {},
   "outputs": [
    {
     "name": "stdout",
     "output_type": "stream",
     "text": [
      "Cycle 1\n",
      "Cycle 2\n",
      "Cycle 3\n",
      "Cycle 4\n",
      "Cycle 5\n",
      "Cycle 6\n",
      "Cycle 7\n",
      "Cycle 8\n",
      "Cycle 9\n",
      "Cycle 10\n"
     ]
    }
   ],
   "source": [
    "# implements MICE imputation with linear regression model on eod10_pn and cstumsiz\n",
    "from sklearn.preprocessing import Imputer\n",
    "from sklearn.linear_model import LinearRegression\n",
    "\n",
    "NUM_CYCLES=10\n",
    "\n",
    "missing_values_pn = (95, 97, 98, 99)\n",
    "missing_values_tumsiz = (998, 999)\n",
    "\n",
    "pn = np.array(X_cont[:,1]).reshape(-1,1)\n",
    "tumsiz = np.array(X_cont[:,3]).reshape(-1,1)\n",
    "\n",
    "# non-MICE imputation\n",
    "for i, size in enumerate(tumsiz):\n",
    "    if size not in (990, 991, 992, 993, 994, 995):\n",
    "        continue\n",
    "    elif size == 990:\n",
    "        tumsiz[i] = 0\n",
    "    elif size == 991:\n",
    "        tumsiz[i] = 1\n",
    "    elif size == 992:\n",
    "        tumsiz[i] = 2\n",
    "    elif size == 993:\n",
    "        tumsiz[i] = 3\n",
    "    elif size == 994:\n",
    "        tumsiz[i] = 4\n",
    "    elif size == 995:\n",
    "        tumsiz[i] = 5\n",
    "\n",
    "\n",
    "# set missing values to -1\n",
    "for i, value in enumerate(pn):\n",
    "    if value in missing_values_pn:\n",
    "        pn[i] = -1\n",
    "for i, value in enumerate(tumsiz):\n",
    "    if value in missing_values_tumsiz:\n",
    "        tumsiz[i] = -1\n",
    "\n",
    "# indices for valid and imputation-needed positions in pn and tumsiz\n",
    "idx_pn_missing = np.where(pn == -1)[0]\n",
    "idx_pn_valid = np.where(pn != -1)[0]\n",
    "idx_tumsiz_missing = np.where(tumsiz == -1)[0]\n",
    "idx_tumsiz_valid = np.where(tumsiz != -1)[0]\n",
    "    \n",
    "# set missing values to mean\n",
    "# copy = false modifies array in place\n",
    "imp_pn = Imputer(missing_values = -1, copy=False)\n",
    "imp_pn.fit_transform(pn)\n",
    "imp_tumsiz = Imputer(missing_values = -1, copy=False)\n",
    "imp_tumsiz.fit_transform(tumsiz)\n",
    "\n",
    "\n",
    "for i in np.arange(NUM_CYCLES):\n",
    "    print(\"Cycle \" + str(i+1))\n",
    "    \n",
    "    # fit pn\n",
    "    X_ind = np.hstack((X_cat[idx_pn_valid], tumsiz[idx_pn_valid]))\n",
    "    X_rep = np.hstack((X_cat[idx_pn_missing], tumsiz[idx_pn_missing]))\n",
    "    lin_reg = LinearRegression()\n",
    "    lin_reg.fit(X_ind, pn[idx_pn_valid])\n",
    "    pn[idx_pn_missing] = lin_reg.predict(X_rep)\n",
    "    pn = np.maximum(pn, 0)\n",
    "    pn = np.minimum(pn, 100)\n",
    "    \n",
    "    # fit tumsiz\n",
    "    X_ind = np.hstack((X_cat[idx_tumsiz_valid], pn[idx_tumsiz_valid]))\n",
    "    X_rep = np.hstack((X_cat[idx_tumsiz_missing], pn[idx_tumsiz_missing]))\n",
    "    lin_reg = LinearRegression()\n",
    "    lin_reg.fit(X_ind, tumsiz[idx_tumsiz_valid])\n",
    "    tumsiz[idx_tumsiz_missing] = lin_reg.predict(X_rep)\n",
    "    tumsiz = np.maximum(tumsiz, 0)\n",
    "    tumsiz = np.minimum(tumsiz, 990)\n"
   ]
  },
  {
   "cell_type": "code",
   "execution_count": 22,
   "metadata": {},
   "outputs": [
    {
     "name": "stdout",
     "output_type": "stream",
     "text": [
      "(37575, 301)\n"
     ]
    }
   ],
   "source": [
    "age_dx = np.array(X_cont[:,0])\n",
    "malig = np.array(X_cont[:,4])\n",
    "X = np.column_stack((X_cat_bin, age_dx, pn, malig, tumsiz))\n",
    "print(X.shape)"
   ]
  },
  {
   "cell_type": "markdown",
   "metadata": {},
   "source": [
    "We save the preprocessed data to disk. They are now available for our models."
   ]
  },
  {
   "cell_type": "code",
   "execution_count": 17,
   "metadata": {},
   "outputs": [],
   "source": [
    "if race == \"white\":\n",
    "    np.save('../Data/white/X.npy', X)\n",
    "    np.save('../Data/white/Y2.npy', Y2)\n",
    "if race == \"hispanic\":\n",
    "    np.save('../Data/hispanic/X.npy', X)\n",
    "    np.save('../Data/hispanic/Y2.npy', Y2)\n",
    "if race == \"mixed\":\n",
    "    np.save('../Data/mixed/X.npy', X)\n",
    "    np.save('../Data/mixed/Y2.npy', Y2)"
   ]
  },
  {
   "cell_type": "code",
   "execution_count": null,
   "metadata": {},
   "outputs": [],
   "source": []
  }
 ],
 "metadata": {
  "kernelspec": {
   "display_name": "Python 3",
   "language": "python",
   "name": "python3"
  },
  "language_info": {
   "codemirror_mode": {
    "name": "ipython",
    "version": 3
   },
   "file_extension": ".py",
   "mimetype": "text/x-python",
   "name": "python",
   "nbconvert_exporter": "python",
   "pygments_lexer": "ipython3",
   "version": "3.6.4"
  }
 },
 "nbformat": 4,
 "nbformat_minor": 2
}
