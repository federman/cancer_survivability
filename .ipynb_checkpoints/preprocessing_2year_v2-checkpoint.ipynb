{
 "cells": [
  {
   "cell_type": "code",
   "execution_count": 1,
   "metadata": {
    "scrolled": true
   },
   "outputs": [
    {
     "name": "stderr",
     "output_type": "stream",
     "text": [
      "/home/samuel/anaconda3/lib/python3.6/site-packages/h5py/__init__.py:36: FutureWarning: Conversion of the second argument of issubdtype from `float` to `np.floating` is deprecated. In future, it will be treated as `np.float64 == np.dtype(float).type`.\n",
      "  from ._conv import register_converters as _register_converters\n"
     ]
    }
   ],
   "source": [
    "import numpy as np\n",
    "import matplotlib.pyplot as plt\n",
    "import pandas as pd\n",
    "import sklearn\n",
    "import tensorflow as tf\n",
    "from collections import Counter\n",
    "\n",
    "%matplotlib inline"
   ]
  },
  {
   "cell_type": "code",
   "execution_count": 2,
   "metadata": {
    "collapsed": true
   },
   "outputs": [],
   "source": [
    "#race = \"white\"\n",
    "#race = \"hispanic\"\n",
    "race = \"mixed\""
   ]
  },
  {
   "cell_type": "code",
   "execution_count": 3,
   "metadata": {
    "collapsed": true,
    "scrolled": true
   },
   "outputs": [],
   "source": [
    "if race == \"white\":\n",
    "    data = pd.read_csv(\"../Data/white/white_2year.csv\")\n",
    "if race == \"hispanic\":\n",
    "    data = pd.read_csv(\"../Data/hispanic/hispanic_2year.csv\")\n",
    "if race == \"mixed\":\n",
    "    data = pd.read_csv(\"../Data/mixed/mixed_2year.csv\")\n",
    "data_matrix = data.as_matrix()"
   ]
  },
  {
   "cell_type": "code",
   "execution_count": 4,
   "metadata": {
    "scrolled": true
   },
   "outputs": [
    {
     "data": {
      "text/html": [
       "<div>\n",
       "<style scoped>\n",
       "    .dataframe tbody tr th:only-of-type {\n",
       "        vertical-align: middle;\n",
       "    }\n",
       "\n",
       "    .dataframe tbody tr th {\n",
       "        vertical-align: top;\n",
       "    }\n",
       "\n",
       "    .dataframe thead th {\n",
       "        text-align: right;\n",
       "    }\n",
       "</style>\n",
       "<table border=\"1\" class=\"dataframe\">\n",
       "  <thead>\n",
       "    <tr style=\"text-align: right;\">\n",
       "      <th></th>\n",
       "      <th>pubcsnum</th>\n",
       "      <th>mar_stat</th>\n",
       "      <th>sex</th>\n",
       "      <th>primsite</th>\n",
       "      <th>histo3v</th>\n",
       "      <th>beho3v</th>\n",
       "      <th>grade</th>\n",
       "      <th>dx_conf</th>\n",
       "      <th>csexten</th>\n",
       "      <th>cslymphn</th>\n",
       "      <th>...</th>\n",
       "      <th>eod10_pn</th>\n",
       "      <th>eod10_ne</th>\n",
       "      <th>cstumsiz</th>\n",
       "      <th>maligcount</th>\n",
       "      <th>benbordcount</th>\n",
       "      <th>year_dx</th>\n",
       "      <th>nhiade</th>\n",
       "      <th>codpub</th>\n",
       "      <th>srv_time_mon</th>\n",
       "      <th>srv_time_mon_flag</th>\n",
       "    </tr>\n",
       "  </thead>\n",
       "  <tbody>\n",
       "    <tr>\n",
       "      <th>0</th>\n",
       "      <td>7000085</td>\n",
       "      <td>5</td>\n",
       "      <td>1</td>\n",
       "      <td>C199</td>\n",
       "      <td>8210</td>\n",
       "      <td>3</td>\n",
       "      <td>2</td>\n",
       "      <td>1</td>\n",
       "      <td>160</td>\n",
       "      <td>0</td>\n",
       "      <td>...</td>\n",
       "      <td>98</td>\n",
       "      <td>0</td>\n",
       "      <td>999</td>\n",
       "      <td>4</td>\n",
       "      <td>0</td>\n",
       "      <td>2007</td>\n",
       "      <td>0</td>\n",
       "      <td>21040</td>\n",
       "      <td>47</td>\n",
       "      <td>1</td>\n",
       "    </tr>\n",
       "    <tr>\n",
       "      <th>1</th>\n",
       "      <td>7000085</td>\n",
       "      <td>9</td>\n",
       "      <td>1</td>\n",
       "      <td>C180</td>\n",
       "      <td>8140</td>\n",
       "      <td>3</td>\n",
       "      <td>2</td>\n",
       "      <td>1</td>\n",
       "      <td>600</td>\n",
       "      <td>300</td>\n",
       "      <td>...</td>\n",
       "      <td>97</td>\n",
       "      <td>98</td>\n",
       "      <td>40</td>\n",
       "      <td>4</td>\n",
       "      <td>0</td>\n",
       "      <td>2007</td>\n",
       "      <td>0</td>\n",
       "      <td>21040</td>\n",
       "      <td>47</td>\n",
       "      <td>1</td>\n",
       "    </tr>\n",
       "    <tr>\n",
       "      <th>2</th>\n",
       "      <td>7000321</td>\n",
       "      <td>5</td>\n",
       "      <td>2</td>\n",
       "      <td>C187</td>\n",
       "      <td>8210</td>\n",
       "      <td>3</td>\n",
       "      <td>1</td>\n",
       "      <td>1</td>\n",
       "      <td>200</td>\n",
       "      <td>0</td>\n",
       "      <td>...</td>\n",
       "      <td>0</td>\n",
       "      <td>2</td>\n",
       "      <td>8</td>\n",
       "      <td>2</td>\n",
       "      <td>0</td>\n",
       "      <td>2012</td>\n",
       "      <td>0</td>\n",
       "      <td>0</td>\n",
       "      <td>39</td>\n",
       "      <td>1</td>\n",
       "    </tr>\n",
       "    <tr>\n",
       "      <th>3</th>\n",
       "      <td>7000411</td>\n",
       "      <td>5</td>\n",
       "      <td>2</td>\n",
       "      <td>C187</td>\n",
       "      <td>8480</td>\n",
       "      <td>3</td>\n",
       "      <td>2</td>\n",
       "      <td>1</td>\n",
       "      <td>450</td>\n",
       "      <td>200</td>\n",
       "      <td>...</td>\n",
       "      <td>1</td>\n",
       "      <td>11</td>\n",
       "      <td>75</td>\n",
       "      <td>2</td>\n",
       "      <td>0</td>\n",
       "      <td>2006</td>\n",
       "      <td>0</td>\n",
       "      <td>21040</td>\n",
       "      <td>38</td>\n",
       "      <td>1</td>\n",
       "    </tr>\n",
       "    <tr>\n",
       "      <th>4</th>\n",
       "      <td>7000472</td>\n",
       "      <td>5</td>\n",
       "      <td>2</td>\n",
       "      <td>C199</td>\n",
       "      <td>8020</td>\n",
       "      <td>3</td>\n",
       "      <td>4</td>\n",
       "      <td>1</td>\n",
       "      <td>999</td>\n",
       "      <td>0</td>\n",
       "      <td>...</td>\n",
       "      <td>98</td>\n",
       "      <td>0</td>\n",
       "      <td>999</td>\n",
       "      <td>3</td>\n",
       "      <td>0</td>\n",
       "      <td>2009</td>\n",
       "      <td>0</td>\n",
       "      <td>21050</td>\n",
       "      <td>0</td>\n",
       "      <td>1</td>\n",
       "    </tr>\n",
       "  </tbody>\n",
       "</table>\n",
       "<p>5 rows × 29 columns</p>\n",
       "</div>"
      ],
      "text/plain": [
       "   pubcsnum  mar_stat  sex primsite  histo3v  beho3v  grade  dx_conf  csexten  \\\n",
       "0   7000085         5    1     C199     8210       3      2        1      160   \n",
       "1   7000085         9    1     C180     8140       3      2        1      600   \n",
       "2   7000321         5    2     C187     8210       3      1        1      200   \n",
       "3   7000411         5    2     C187     8480       3      2        1      450   \n",
       "4   7000472         5    2     C199     8020       3      4        1      999   \n",
       "\n",
       "   cslymphn        ...          eod10_pn  eod10_ne  cstumsiz  maligcount  \\\n",
       "0         0        ...                98         0       999           4   \n",
       "1       300        ...                97        98        40           4   \n",
       "2         0        ...                 0         2         8           2   \n",
       "3       200        ...                 1        11        75           2   \n",
       "4         0        ...                98         0       999           3   \n",
       "\n",
       "   benbordcount  year_dx  nhiade  codpub  srv_time_mon  srv_time_mon_flag  \n",
       "0             0     2007       0   21040            47                  1  \n",
       "1             0     2007       0   21040            47                  1  \n",
       "2             0     2012       0       0            39                  1  \n",
       "3             0     2006       0   21040            38                  1  \n",
       "4             0     2009       0   21050             0                  1  \n",
       "\n",
       "[5 rows x 29 columns]"
      ]
     },
     "execution_count": 4,
     "metadata": {},
     "output_type": "execute_result"
    }
   ],
   "source": [
    "data.head()"
   ]
  },
  {
   "cell_type": "code",
   "execution_count": 20,
   "metadata": {
    "collapsed": true
   },
   "outputs": [],
   "source": [
    "ethnicity_labels = np.clip(data_matrix[:,-4],0,1)\n",
    "if race == \"mixed\":\n",
    "    np.save('../Data/mixed/ethnicity_labels.npy',ethnicity_labels)"
   ]
  },
  {
   "cell_type": "code",
   "execution_count": 5,
   "metadata": {
    "scrolled": true
   },
   "outputs": [
    {
     "data": {
      "text/plain": [
       "(313122, 29)"
      ]
     },
     "execution_count": 5,
     "metadata": {},
     "output_type": "execute_result"
    }
   ],
   "source": [
    "data_matrix.shape"
   ]
  },
  {
   "cell_type": "code",
   "execution_count": 6,
   "metadata": {},
   "outputs": [
    {
     "data": {
      "text/plain": [
       "array([7000085, 5, 1, 'C199', 8210, 3, 2, 1, 160, 0, 0, 3.0, 0.0, 0.0, 26,\n",
       "       0, 1, 1502, 77, 98, 0, 999, 4, 0, 2007, 0, 21040, 47, 1],\n",
       "      dtype=object)"
      ]
     },
     "execution_count": 6,
     "metadata": {},
     "output_type": "execute_result"
    }
   ],
   "source": [
    "data_matrix[0]"
   ]
  },
  {
   "cell_type": "code",
   "execution_count": 7,
   "metadata": {
    "collapsed": true
   },
   "outputs": [],
   "source": [
    "var_names = []\n",
    "with open('var_names.txt', 'r') as f_vars:\n",
    "    for name in f_vars:\n",
    "        var_names.append(name.strip())"
   ]
  },
  {
   "cell_type": "code",
   "execution_count": 8,
   "metadata": {},
   "outputs": [
    {
     "data": {
      "text/plain": [
       "['mar_stat',\n",
       " 'sex',\n",
       " 'primsite',\n",
       " 'histo3v',\n",
       " 'beho3v',\n",
       " 'grade',\n",
       " 'dx_conf',\n",
       " 'csexten',\n",
       " 'cslymphn',\n",
       " 'csmetsdx',\n",
       " 'cstseval',\n",
       " 'csrgeval',\n",
       " 'csmteval',\n",
       " 'surgprif',\n",
       " 'no_surg',\n",
       " 'summ2k',\n",
       " 'reg',\n",
       " 'age_dx',\n",
       " 'eod10_pn',\n",
       " 'cstumsiz',\n",
       " 'maligcount']"
      ]
     },
     "execution_count": 8,
     "metadata": {},
     "output_type": "execute_result"
    }
   ],
   "source": [
    "var_names"
   ]
  },
  {
   "cell_type": "markdown",
   "metadata": {},
   "source": [
    "# Preprocessing"
   ]
  },
  {
   "cell_type": "code",
   "execution_count": 9,
   "metadata": {
    "scrolled": true
   },
   "outputs": [
    {
     "data": {
      "text/plain": [
       "(313122, 17)"
      ]
     },
     "execution_count": 9,
     "metadata": {},
     "output_type": "execute_result"
    }
   ],
   "source": [
    "# Y2 will be indicator of survival; 21040 and 21050 are SEER codes for colon and rectum cancer\n",
    "Y2 = np.logical_not(np.logical_and(data_matrix[:,-2].astype(int)<24, np.isin(data_matrix[:,-3], (21040, 21050))))\n",
    "X = data_matrix[:,1:23]\n",
    "X_cont = X[:,-5:]\n",
    "X_cat = X[:,:-5]\n",
    "X_cat.shape"
   ]
  },
  {
   "cell_type": "code",
   "execution_count": 10,
   "metadata": {},
   "outputs": [
    {
     "data": {
      "text/plain": [
       "array([77, 98, 0, 999, 4], dtype=object)"
      ]
     },
     "execution_count": 10,
     "metadata": {},
     "output_type": "execute_result"
    }
   ],
   "source": [
    "X_cont[0]"
   ]
  },
  {
   "cell_type": "code",
   "execution_count": 11,
   "metadata": {
    "collapsed": true,
    "scrolled": true
   },
   "outputs": [],
   "source": [
    "# Fill missing values in three eval columns with 9: unknown\n",
    "# remember: index shifted over one since we deleted primsite <-- no longer the case\n",
    "X_cat[:,12] = np.array([9 if np.isnan(x) else x for x in X_cat[:,12]])\n",
    "X_cat[:,10] = np.array([9 if np.isnan(x) else x for x in X_cat[:,10]])\n",
    "X_cat[:,11] = np.array([9 if np.isnan(x) else x for x in X_cat[:,11]])"
   ]
  },
  {
   "cell_type": "code",
   "execution_count": 12,
   "metadata": {
    "collapsed": true
   },
   "outputs": [],
   "source": [
    "from sklearn.preprocessing import LabelBinarizer\n",
    "from sklearn.externals import joblib\n",
    "\n",
    "features = {}\n",
    "\n",
    "X_cat_bin = np.zeros((X_cat.shape[0], 1))\n",
    "start_idx = 0\n",
    "\n",
    "for i in range(X_cat.shape[1]):\n",
    "    lb = LabelBinarizer()\n",
    "    X_cat_bin = np.hstack((X_cat_bin, lb.fit_transform(X_cat[:,i].astype(str))))\n",
    "    features[(i, var_names[i],start_idx)] = lb.classes_\n",
    "    start_idx += len(lb.classes_)\n",
    "    if len(lb.classes_)==2:\n",
    "        start_idx-=1\n",
    "    #if race != 'mixed': #used all-at-once OneHotEncoder instead of separate LabelBinarizers\n",
    "        #if len(lb.classes_) == 2:\n",
    "            #start_idx -= 1\n",
    "X_cat_bin = np.delete(X_cat_bin, [0], axis=1)\n",
    "X_cat = X_cat_bin"
   ]
  },
  {
   "cell_type": "code",
   "execution_count": 13,
   "metadata": {
    "collapsed": true
   },
   "outputs": [],
   "source": [
    "import pickle\n",
    "with open('ethnicity_codes/' + race + '_codes.pkl', 'wb') as f:\n",
    "    pickle.dump(features, f, pickle.HIGHEST_PROTOCOL)"
   ]
  },
  {
   "cell_type": "code",
   "execution_count": 14,
   "metadata": {
    "scrolled": true
   },
   "outputs": [
    {
     "data": {
      "text/plain": [
       "{(0, 'mar_stat', 0): array(['1', '2', '3', '4', '5', '6', '9'], dtype='<U1'),\n",
       " (1, 'sex', 7): array(['1', '2'], dtype='<U1'),\n",
       " (2,\n",
       "  'primsite',\n",
       "  8): array(['C180', 'C181', 'C182', 'C183', 'C184', 'C185', 'C186', 'C187',\n",
       "        'C188', 'C189', 'C199', 'C209', 'C260'], dtype='<U4'),\n",
       " (3,\n",
       "  'histo3v',\n",
       "  21): array(['8000', '8001', '8002', '8003', '8004', '8010', '8011', '8012',\n",
       "        '8013', '8015', '8020', '8021', '8022', '8030', '8031', '8032',\n",
       "        '8033', '8041', '8045', '8046', '8050', '8051', '8052', '8070',\n",
       "        '8071', '8072', '8073', '8076', '8077', '8081', '8082', '8083',\n",
       "        '8094', '8123', '8124', '8130', '8140', '8141', '8142', '8143',\n",
       "        '8144', '8145', '8147', '8160', '8201', '8210', '8211', '8213',\n",
       "        '8220', '8221', '8230', '8240', '8241', '8243', '8244', '8245',\n",
       "        '8246', '8249', '8255', '8260', '8261', '8262', '8263', '8310',\n",
       "        '8320', '8323', '8341', '8380', '8430', '8440', '8441', '8460',\n",
       "        '8461', '8470', '8471', '8472', '8480', '8481', '8490', '8500',\n",
       "        '8503', '8507', '8510', '8542', '8550', '8551', '8560', '8570',\n",
       "        '8571', '8572', '8573', '8574', '8576', '8711', '8720', '8721',\n",
       "        '8722', '8730', '8744', '8746', '8761', '8770', '8772', '8780',\n",
       "        '8800', '8801', '8802', '8804', '8805', '8806', '8815', '8830',\n",
       "        '8851', '8858', '8890', '8891', '8896', '8900', '8930', '8933',\n",
       "        '8935', '8936', '8940', '8950', '8963', '8980', '9015', '9044',\n",
       "        '9065', '9085', '9100', '9120', '9130', '9260', '9500', '9540',\n",
       "        '9560', '9561', '9580'], dtype='<U4'),\n",
       " (4, 'beho3v', 160): array(['2', '3'], dtype='<U1'),\n",
       " (5, 'grade', 161): array(['1', '2', '3', '4', '9'], dtype='<U1'),\n",
       " (6,\n",
       "  'dx_conf',\n",
       "  166): array(['1', '2', '4', '5', '6', '7', '8', '9'], dtype='<U1'),\n",
       " (7,\n",
       "  'csexten',\n",
       "  174): array(['0', '100', '110', '120', '130', '140', '150', '155', '160', '165',\n",
       "        '170', '180', '190', '200', '210', '250', '270', '300', '320',\n",
       "        '330', '335', '370', '400', '401', '410', '415', '440', '450',\n",
       "        '451', '455', '458', '460', '470', '490', '50', '500', '501',\n",
       "        '510', '511', '512', '513', '514', '550', '555', '560', '565',\n",
       "        '570', '600', '601', '610', '650', '655', '660', '665', '675',\n",
       "        '700', '701', '750', '751', '800', '810', '850', '900', '950',\n",
       "        '999'], dtype='<U3'),\n",
       " (8,\n",
       "  'cslymphn',\n",
       "  239): array(['0', '100', '110', '200', '210', '220', '300', '400', '410', '420',\n",
       "        '430', '450', '460', '470', '480', '50', '800', '999'], dtype='<U3'),\n",
       " (9,\n",
       "  'csmetsdx',\n",
       "  257): array(['0', '10', '11', '12', '15', '16', '18', '20', '23', '26', '27',\n",
       "        '29', '31', '33', '35', '36', '40', '45', '48', '5', '50', '55',\n",
       "        '60', '8', '99'], dtype='<U2'),\n",
       " (10,\n",
       "  'cstseval',\n",
       "  282): array(['0.0', '1.0', '2.0', '3.0', '5.0', '6.0', '9.0'], dtype='<U3'),\n",
       " (11,\n",
       "  'csrgeval',\n",
       "  289): array(['0.0', '1.0', '2.0', '3.0', '5.0', '6.0', '9.0'], dtype='<U3'),\n",
       " (12,\n",
       "  'csmteval',\n",
       "  296): array(['0.0', '1.0', '2.0', '3.0', '5.0', '6.0', '9.0'], dtype='<U3'),\n",
       " (13,\n",
       "  'surgprif',\n",
       "  303): array(['0', '10', '11', '12', '13', '14', '20', '21', '22', '23', '24',\n",
       "        '25', '26', '27', '28', '29', '30', '31', '32', '40', '41', '50',\n",
       "        '51', '55', '56', '57', '60', '61', '65', '66', '70', '80', '90',\n",
       "        '99'], dtype='<U2'),\n",
       " (14,\n",
       "  'no_surg',\n",
       "  337): array(['0', '1', '2', '5', '6', '7', '8', '9'], dtype='<U1'),\n",
       " (15, 'summ2k', 345): array(['0', '1', '2', '7', '9'], dtype='<U1'),\n",
       " (16,\n",
       "  'reg',\n",
       "  350): array(['1501', '1502', '1520', '1521', '1522', '1523', '1525', '1526',\n",
       "        '1527', '1529', '1531', '1535', '1537', '1541', '1542', '1543',\n",
       "        '1544', '1547'], dtype='<U4')}"
      ]
     },
     "execution_count": 14,
     "metadata": {},
     "output_type": "execute_result"
    }
   ],
   "source": [
    "features"
   ]
  },
  {
   "cell_type": "code",
   "execution_count": 13,
   "metadata": {},
   "outputs": [
    {
     "data": {
      "text/plain": [
       "(313122, 368)"
      ]
     },
     "execution_count": 13,
     "metadata": {},
     "output_type": "execute_result"
    }
   ],
   "source": [
    "X_cat_bin.shape"
   ]
  },
  {
   "cell_type": "markdown",
   "metadata": {},
   "source": [
    "The continuous variables in order: age_dx, eod10_pn, eod10_ne, cstumsiz, maligcount. Age and maligcount do not require imputation, and eod10_ne (nodes examined) will not be used as a variable.\n"
   ]
  },
  {
   "cell_type": "markdown",
   "metadata": {},
   "source": [
    "Here we will impute values for eod10_pn and cstumsiz. We will implement multivariate imputation by chained equations (MICE) on these two continuous variables. Their indices are and values which need to be imputed are:\n",
    "\n",
    "1: eod10_pn (95, 97, 98, 99)<br>\n",
    "3: cstumsiz (998, 999)<br>\n",
    "\n",
    "Additionally, we will replace the values (991, 992, 993, 994, 995) in cstumsiz with (1, 2, 3, 4, 5) respectively.\n",
    "\n",
    "\n",
    "### Note: The above should be re-verified for each different dataset. This is for colorectal cancer in Hispanic patients after 2004."
   ]
  },
  {
   "cell_type": "code",
   "execution_count": 19,
   "metadata": {},
   "outputs": [
    {
     "name": "stdout",
     "output_type": "stream",
     "text": [
      "Cycle 1\n",
      "Cycle 2\n",
      "Cycle 3\n",
      "Cycle 4\n",
      "Cycle 5\n",
      "Cycle 6\n",
      "Cycle 7\n",
      "Cycle 8\n",
      "Cycle 9\n",
      "Cycle 10\n"
     ]
    }
   ],
   "source": [
    "# implements MICE imputation with linear regression model on eod10_pn and cstumsiz\n",
    "from sklearn.preprocessing import Imputer\n",
    "from sklearn.linear_model import LinearRegression\n",
    "\n",
    "NUM_CYCLES=10\n",
    "\n",
    "missing_values_pn = (95, 97, 98, 99)\n",
    "missing_values_tumsiz = (998, 999)\n",
    "\n",
    "pn = np.array(X_cont[:,1]).reshape(-1,1)\n",
    "tumsiz = np.array(X_cont[:,3]).reshape(-1,1)\n",
    "\n",
    "# non-MICE imputation\n",
    "for i, size in enumerate(tumsiz):\n",
    "    if size not in (990, 991, 992, 993, 994, 995):\n",
    "        continue\n",
    "    elif size == 990:\n",
    "        tumsiz[i] = 0\n",
    "    elif size == 991:\n",
    "        tumsiz[i] = 1\n",
    "    elif size == 992:\n",
    "        tumsiz[i] = 2\n",
    "    elif size == 993:\n",
    "        tumsiz[i] = 3\n",
    "    elif size == 994:\n",
    "        tumsiz[i] = 4\n",
    "    elif size == 995:\n",
    "        tumsiz[i] = 5\n",
    "\n",
    "\n",
    "# set missing values to -1\n",
    "for i, value in enumerate(pn):\n",
    "    if value in missing_values_pn:\n",
    "        pn[i] = -1\n",
    "for i, value in enumerate(tumsiz):\n",
    "    if value in missing_values_tumsiz:\n",
    "        tumsiz[i] = -1\n",
    "\n",
    "# indices for valid and imputation-needed positions in pn and tumsiz\n",
    "idx_pn_missing = np.where(pn == -1)[0]\n",
    "idx_pn_valid = np.where(pn != -1)[0]\n",
    "idx_tumsiz_missing = np.where(tumsiz == -1)[0]\n",
    "idx_tumsiz_valid = np.where(tumsiz != -1)[0]\n",
    "    \n",
    "# set missing values to mean\n",
    "# copy = false modifies array in place\n",
    "imp_pn = Imputer(missing_values = -1, copy=False)\n",
    "imp_pn.fit_transform(pn)\n",
    "imp_tumsiz = Imputer(missing_values = -1, copy=False)\n",
    "imp_tumsiz.fit_transform(tumsiz)\n",
    "\n",
    "\n",
    "for i in np.arange(NUM_CYCLES):\n",
    "    print(\"Cycle \" + str(i+1))\n",
    "    \n",
    "    # fit pn\n",
    "    X_ind = np.hstack((X_cat[idx_pn_valid], tumsiz[idx_pn_valid]))\n",
    "    X_rep = np.hstack((X_cat[idx_pn_missing], tumsiz[idx_pn_missing]))\n",
    "    lin_reg = LinearRegression()\n",
    "    lin_reg.fit(X_ind, pn[idx_pn_valid])\n",
    "    pn[idx_pn_missing] = lin_reg.predict(X_rep)\n",
    "    pn = np.maximum(pn, 0)\n",
    "    pn = np.minimum(pn, 100)\n",
    "    \n",
    "    # fit tumsiz\n",
    "    X_ind = np.hstack((X_cat[idx_tumsiz_valid], pn[idx_tumsiz_valid]))\n",
    "    X_rep = np.hstack((X_cat[idx_tumsiz_missing], pn[idx_tumsiz_missing]))\n",
    "    lin_reg = LinearRegression()\n",
    "    lin_reg.fit(X_ind, tumsiz[idx_tumsiz_valid])\n",
    "    tumsiz[idx_tumsiz_missing] = lin_reg.predict(X_rep)\n",
    "    tumsiz = np.maximum(tumsiz, 0)\n",
    "    tumsiz = np.minimum(tumsiz, 990)\n"
   ]
  },
  {
   "cell_type": "code",
   "execution_count": 20,
   "metadata": {},
   "outputs": [
    {
     "name": "stdout",
     "output_type": "stream",
     "text": [
      "(313122, 372)\n"
     ]
    }
   ],
   "source": [
    "age_dx = np.array(X_cont[:,0])\n",
    "malig = np.array(X_cont[:,4])\n",
    "X = np.column_stack((X_cat_bin, age_dx, pn, malig, tumsiz))\n",
    "print(X.shape)"
   ]
  },
  {
   "cell_type": "markdown",
   "metadata": {},
   "source": [
    "We save the preprocessed data to disk. They are now available for our models."
   ]
  },
  {
   "cell_type": "code",
   "execution_count": 21,
   "metadata": {
    "collapsed": true
   },
   "outputs": [],
   "source": [
    "if race == \"white\":\n",
    "    np.save('../Data/white/X.npy', X)\n",
    "    np.save('../Data/white/Y2.npy', Y2)\n",
    "if race == \"hispanic\":\n",
    "    np.save('../Data/hispanic/X.npy', X)\n",
    "    np.save('../Data/hispanic/Y2.npy', Y2)\n",
    "if race == \"mixed\":\n",
    "    np.save('../Data/mixed/X.npy', X)\n",
    "    np.save('../Data/mixed/Y2.npy', Y2)"
   ]
  },
  {
   "cell_type": "code",
   "execution_count": null,
   "metadata": {
    "collapsed": true
   },
   "outputs": [],
   "source": []
  }
 ],
 "metadata": {
  "kernelspec": {
   "display_name": "Python 3",
   "language": "python",
   "name": "python3"
  },
  "language_info": {
   "codemirror_mode": {
    "name": "ipython",
    "version": 3
   },
   "file_extension": ".py",
   "mimetype": "text/x-python",
   "name": "python",
   "nbconvert_exporter": "python",
   "pygments_lexer": "ipython3",
   "version": "3.6.2"
  }
 },
 "nbformat": 4,
 "nbformat_minor": 2
}
