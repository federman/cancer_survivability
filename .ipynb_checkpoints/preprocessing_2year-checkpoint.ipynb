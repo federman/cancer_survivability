{
 "cells": [
  {
   "cell_type": "code",
   "execution_count": 1,
   "metadata": {
    "collapsed": true,
    "scrolled": true
   },
   "outputs": [],
   "source": [
    "import numpy as np\n",
    "import matplotlib.pyplot as plt\n",
    "import pandas as pd\n",
    "import sklearn\n",
    "import tensorflow as tf\n",
    "from collections import Counter\n",
    "\n",
    "%matplotlib inline"
   ]
  },
  {
   "cell_type": "code",
   "execution_count": 2,
   "metadata": {
    "collapsed": true
   },
   "outputs": [],
   "source": [
    "#race = \"white\"\n",
    "race = \"hispanic\"\n",
    "#race = \"mixed\""
   ]
  },
  {
   "cell_type": "code",
   "execution_count": 3,
   "metadata": {
    "collapsed": true,
    "scrolled": true
   },
   "outputs": [],
   "source": [
    "if race == \"white\":\n",
    "    data = pd.read_csv(\"../Data/white/white_2year.csv\")\n",
    "if race == \"hispanic\":\n",
    "    data = pd.read_csv(\"../Data/hispanic/hispanic_2year.csv\")\n",
    "if race == \"mixed\":\n",
    "    data = pd.read_csv(\"../Data/mixed/mixed_2year.csv\")\n",
    "data_matrix = data.as_matrix()"
   ]
  },
  {
   "cell_type": "code",
   "execution_count": 4,
   "metadata": {
    "scrolled": false
   },
   "outputs": [
    {
     "data": {
      "text/html": [
       "<div>\n",
       "<style>\n",
       "    .dataframe thead tr:only-child th {\n",
       "        text-align: right;\n",
       "    }\n",
       "\n",
       "    .dataframe thead th {\n",
       "        text-align: left;\n",
       "    }\n",
       "\n",
       "    .dataframe tbody tr th {\n",
       "        vertical-align: top;\n",
       "    }\n",
       "</style>\n",
       "<table border=\"1\" class=\"dataframe\">\n",
       "  <thead>\n",
       "    <tr style=\"text-align: right;\">\n",
       "      <th></th>\n",
       "      <th>pubcsnum</th>\n",
       "      <th>mar_stat</th>\n",
       "      <th>sex</th>\n",
       "      <th>primsite</th>\n",
       "      <th>histo3v</th>\n",
       "      <th>beho3v</th>\n",
       "      <th>grade</th>\n",
       "      <th>dx_conf</th>\n",
       "      <th>csexten</th>\n",
       "      <th>cslymphn</th>\n",
       "      <th>...</th>\n",
       "      <th>eod10_pn</th>\n",
       "      <th>eod10_ne</th>\n",
       "      <th>cstumsiz</th>\n",
       "      <th>maligcount</th>\n",
       "      <th>benbordcount</th>\n",
       "      <th>year_dx</th>\n",
       "      <th>nhiade</th>\n",
       "      <th>codpub</th>\n",
       "      <th>srv_time_mon</th>\n",
       "      <th>srv_time_mon_flag</th>\n",
       "    </tr>\n",
       "  </thead>\n",
       "  <tbody>\n",
       "    <tr>\n",
       "      <th>0</th>\n",
       "      <td>7011365</td>\n",
       "      <td>9</td>\n",
       "      <td>2</td>\n",
       "      <td>C184</td>\n",
       "      <td>8210</td>\n",
       "      <td>3</td>\n",
       "      <td>2</td>\n",
       "      <td>1</td>\n",
       "      <td>200</td>\n",
       "      <td>0</td>\n",
       "      <td>...</td>\n",
       "      <td>0</td>\n",
       "      <td>5</td>\n",
       "      <td>30</td>\n",
       "      <td>4</td>\n",
       "      <td>0</td>\n",
       "      <td>2010</td>\n",
       "      <td>7</td>\n",
       "      <td>0</td>\n",
       "      <td>71</td>\n",
       "      <td>1</td>\n",
       "    </tr>\n",
       "    <tr>\n",
       "      <th>1</th>\n",
       "      <td>7014780</td>\n",
       "      <td>5</td>\n",
       "      <td>2</td>\n",
       "      <td>C209</td>\n",
       "      <td>8140</td>\n",
       "      <td>3</td>\n",
       "      <td>2</td>\n",
       "      <td>1</td>\n",
       "      <td>200</td>\n",
       "      <td>0</td>\n",
       "      <td>...</td>\n",
       "      <td>0</td>\n",
       "      <td>48</td>\n",
       "      <td>30</td>\n",
       "      <td>2</td>\n",
       "      <td>0</td>\n",
       "      <td>2007</td>\n",
       "      <td>6</td>\n",
       "      <td>21040</td>\n",
       "      <td>36</td>\n",
       "      <td>1</td>\n",
       "    </tr>\n",
       "    <tr>\n",
       "      <th>2</th>\n",
       "      <td>7017183</td>\n",
       "      <td>2</td>\n",
       "      <td>1</td>\n",
       "      <td>C186</td>\n",
       "      <td>8140</td>\n",
       "      <td>2</td>\n",
       "      <td>9</td>\n",
       "      <td>1</td>\n",
       "      <td>50</td>\n",
       "      <td>0</td>\n",
       "      <td>...</td>\n",
       "      <td>98</td>\n",
       "      <td>0</td>\n",
       "      <td>999</td>\n",
       "      <td>3</td>\n",
       "      <td>0</td>\n",
       "      <td>2012</td>\n",
       "      <td>6</td>\n",
       "      <td>21050</td>\n",
       "      <td>37</td>\n",
       "      <td>1</td>\n",
       "    </tr>\n",
       "    <tr>\n",
       "      <th>3</th>\n",
       "      <td>7017183</td>\n",
       "      <td>2</td>\n",
       "      <td>1</td>\n",
       "      <td>C209</td>\n",
       "      <td>8263</td>\n",
       "      <td>3</td>\n",
       "      <td>2</td>\n",
       "      <td>1</td>\n",
       "      <td>455</td>\n",
       "      <td>0</td>\n",
       "      <td>...</td>\n",
       "      <td>0</td>\n",
       "      <td>16</td>\n",
       "      <td>45</td>\n",
       "      <td>3</td>\n",
       "      <td>0</td>\n",
       "      <td>2012</td>\n",
       "      <td>6</td>\n",
       "      <td>21050</td>\n",
       "      <td>37</td>\n",
       "      <td>1</td>\n",
       "    </tr>\n",
       "    <tr>\n",
       "      <th>4</th>\n",
       "      <td>7018423</td>\n",
       "      <td>2</td>\n",
       "      <td>1</td>\n",
       "      <td>C186</td>\n",
       "      <td>8263</td>\n",
       "      <td>3</td>\n",
       "      <td>3</td>\n",
       "      <td>1</td>\n",
       "      <td>400</td>\n",
       "      <td>0</td>\n",
       "      <td>...</td>\n",
       "      <td>0</td>\n",
       "      <td>35</td>\n",
       "      <td>25</td>\n",
       "      <td>3</td>\n",
       "      <td>0</td>\n",
       "      <td>2011</td>\n",
       "      <td>2</td>\n",
       "      <td>0</td>\n",
       "      <td>52</td>\n",
       "      <td>1</td>\n",
       "    </tr>\n",
       "  </tbody>\n",
       "</table>\n",
       "<p>5 rows × 29 columns</p>\n",
       "</div>"
      ],
      "text/plain": [
       "   pubcsnum  mar_stat  sex primsite  histo3v  beho3v  grade  dx_conf  csexten  \\\n",
       "0   7011365         9    2     C184     8210       3      2        1      200   \n",
       "1   7014780         5    2     C209     8140       3      2        1      200   \n",
       "2   7017183         2    1     C186     8140       2      9        1       50   \n",
       "3   7017183         2    1     C209     8263       3      2        1      455   \n",
       "4   7018423         2    1     C186     8263       3      3        1      400   \n",
       "\n",
       "   cslymphn        ...          eod10_pn  eod10_ne  cstumsiz  maligcount  \\\n",
       "0         0        ...                 0         5        30           4   \n",
       "1         0        ...                 0        48        30           2   \n",
       "2         0        ...                98         0       999           3   \n",
       "3         0        ...                 0        16        45           3   \n",
       "4         0        ...                 0        35        25           3   \n",
       "\n",
       "   benbordcount  year_dx  nhiade  codpub  srv_time_mon  srv_time_mon_flag  \n",
       "0             0     2010       7       0            71                  1  \n",
       "1             0     2007       6   21040            36                  1  \n",
       "2             0     2012       6   21050            37                  1  \n",
       "3             0     2012       6   21050            37                  1  \n",
       "4             0     2011       2       0            52                  1  \n",
       "\n",
       "[5 rows x 29 columns]"
      ]
     },
     "execution_count": 4,
     "metadata": {},
     "output_type": "execute_result"
    }
   ],
   "source": [
    "data.head()"
   ]
  },
  {
   "cell_type": "code",
   "execution_count": 5,
   "metadata": {
    "scrolled": true
   },
   "outputs": [
    {
     "data": {
      "text/plain": [
       "(37575, 29)"
      ]
     },
     "execution_count": 5,
     "metadata": {},
     "output_type": "execute_result"
    }
   ],
   "source": [
    "data_matrix.shape"
   ]
  },
  {
   "cell_type": "code",
   "execution_count": 6,
   "metadata": {},
   "outputs": [
    {
     "data": {
      "text/plain": [
       "array([7011365, 9, 2, 'C184', 8210, 3, 2, 1, 200, 0, 0, 3.0, 3.0, 0.0, 50,\n",
       "       0, 1, 1502, 93, 0, 5, 30, 4, 0, 2010, 7, 0, 71, 1], dtype=object)"
      ]
     },
     "execution_count": 6,
     "metadata": {},
     "output_type": "execute_result"
    }
   ],
   "source": [
    "data_matrix[0]"
   ]
  },
  {
   "cell_type": "markdown",
   "metadata": {},
   "source": [
    "# Preprocessing"
   ]
  },
  {
   "cell_type": "code",
   "execution_count": 7,
   "metadata": {
    "collapsed": true,
    "scrolled": true
   },
   "outputs": [],
   "source": [
    "# Y2 will be indicator of survival; 21040 and 21050 are SEER codes for colon and rectum cancer\n",
    "Y2 = np.logical_not(np.logical_and(data_matrix[:,-2].astype(int)<24, np.isin(data_matrix[:,-3], (21040, 21050))))\n",
    "X = data_matrix[:,1:23]"
   ]
  },
  {
   "cell_type": "code",
   "execution_count": 8,
   "metadata": {},
   "outputs": [
    {
     "name": "stdout",
     "output_type": "stream",
     "text": [
      "[9 2 'C184' 8210 3 2 1 200 0 0 3.0 3.0 0.0 50 0 1 1502 93 0 5 30 4]\n"
     ]
    },
    {
     "data": {
      "text/plain": [
       "Counter({0: 55,\n",
       "         1: 106,\n",
       "         2: 176,\n",
       "         3: 236,\n",
       "         4: 188,\n",
       "         5: 324,\n",
       "         6: 166,\n",
       "         7: 149,\n",
       "         8: 198,\n",
       "         9: 101,\n",
       "         10: 400,\n",
       "         11: 86,\n",
       "         12: 185,\n",
       "         13: 116,\n",
       "         14: 88,\n",
       "         15: 563,\n",
       "         16: 106,\n",
       "         17: 124,\n",
       "         18: 187,\n",
       "         19: 62,\n",
       "         20: 882,\n",
       "         21: 113,\n",
       "         22: 231,\n",
       "         23: 155,\n",
       "         24: 128,\n",
       "         25: 984,\n",
       "         26: 103,\n",
       "         27: 172,\n",
       "         28: 219,\n",
       "         29: 85,\n",
       "         30: 1707,\n",
       "         31: 104,\n",
       "         32: 271,\n",
       "         33: 119,\n",
       "         34: 117,\n",
       "         35: 1272,\n",
       "         36: 134,\n",
       "         37: 168,\n",
       "         38: 213,\n",
       "         39: 78,\n",
       "         40: 2043,\n",
       "         41: 107,\n",
       "         42: 240,\n",
       "         43: 161,\n",
       "         44: 92,\n",
       "         45: 1339,\n",
       "         46: 95,\n",
       "         47: 153,\n",
       "         48: 144,\n",
       "         49: 56,\n",
       "         50: 2163,\n",
       "         51: 74,\n",
       "         52: 169,\n",
       "         53: 107,\n",
       "         54: 72,\n",
       "         55: 895,\n",
       "         56: 91,\n",
       "         57: 87,\n",
       "         58: 109,\n",
       "         59: 39,\n",
       "         60: 1490,\n",
       "         61: 36,\n",
       "         62: 104,\n",
       "         63: 57,\n",
       "         64: 48,\n",
       "         65: 650,\n",
       "         66: 26,\n",
       "         67: 48,\n",
       "         68: 60,\n",
       "         69: 18,\n",
       "         70: 1080,\n",
       "         71: 24,\n",
       "         72: 62,\n",
       "         73: 38,\n",
       "         74: 26,\n",
       "         75: 353,\n",
       "         76: 20,\n",
       "         77: 15,\n",
       "         78: 33,\n",
       "         79: 17,\n",
       "         80: 775,\n",
       "         81: 17,\n",
       "         82: 45,\n",
       "         83: 19,\n",
       "         84: 11,\n",
       "         85: 234,\n",
       "         86: 10,\n",
       "         87: 21,\n",
       "         88: 22,\n",
       "         89: 11,\n",
       "         90: 449,\n",
       "         91: 7,\n",
       "         92: 19,\n",
       "         93: 18,\n",
       "         94: 13,\n",
       "         95: 136,\n",
       "         96: 7,\n",
       "         97: 9,\n",
       "         98: 14,\n",
       "         99: 17,\n",
       "         100: 484,\n",
       "         101: 3,\n",
       "         102: 15,\n",
       "         103: 4,\n",
       "         104: 5,\n",
       "         105: 111,\n",
       "         106: 5,\n",
       "         107: 6,\n",
       "         108: 5,\n",
       "         109: 6,\n",
       "         110: 179,\n",
       "         111: 3,\n",
       "         112: 8,\n",
       "         113: 4,\n",
       "         114: 2,\n",
       "         115: 39,\n",
       "         116: 4,\n",
       "         117: 4,\n",
       "         118: 1,\n",
       "         119: 2,\n",
       "         120: 118,\n",
       "         121: 1,\n",
       "         122: 5,\n",
       "         123: 3,\n",
       "         124: 2,\n",
       "         125: 32,\n",
       "         126: 2,\n",
       "         127: 1,\n",
       "         128: 3,\n",
       "         130: 90,\n",
       "         131: 2,\n",
       "         133: 1,\n",
       "         134: 3,\n",
       "         135: 15,\n",
       "         136: 1,\n",
       "         138: 1,\n",
       "         140: 54,\n",
       "         142: 1,\n",
       "         143: 1,\n",
       "         145: 6,\n",
       "         146: 1,\n",
       "         147: 1,\n",
       "         148: 3,\n",
       "         150: 79,\n",
       "         152: 2,\n",
       "         154: 2,\n",
       "         155: 6,\n",
       "         157: 4,\n",
       "         160: 14,\n",
       "         165: 1,\n",
       "         166: 2,\n",
       "         170: 11,\n",
       "         175: 2,\n",
       "         180: 12,\n",
       "         185: 2,\n",
       "         187: 1,\n",
       "         190: 4,\n",
       "         200: 9,\n",
       "         206: 1,\n",
       "         210: 4,\n",
       "         220: 3,\n",
       "         240: 2,\n",
       "         250: 7,\n",
       "         260: 1,\n",
       "         269: 1,\n",
       "         270: 1,\n",
       "         286: 1,\n",
       "         300: 6,\n",
       "         303: 1,\n",
       "         310: 2,\n",
       "         320: 2,\n",
       "         340: 1,\n",
       "         350: 9,\n",
       "         360: 2,\n",
       "         370: 1,\n",
       "         400: 3,\n",
       "         420: 2,\n",
       "         450: 4,\n",
       "         492: 1,\n",
       "         500: 2,\n",
       "         520: 1,\n",
       "         530: 2,\n",
       "         550: 4,\n",
       "         600: 2,\n",
       "         650: 4,\n",
       "         700: 4,\n",
       "         750: 3,\n",
       "         800: 3,\n",
       "         900: 3,\n",
       "         950: 3,\n",
       "         960: 1,\n",
       "         965: 1,\n",
       "         988: 1,\n",
       "         989: 6,\n",
       "         990: 396,\n",
       "         991: 45,\n",
       "         992: 17,\n",
       "         993: 11,\n",
       "         994: 21,\n",
       "         995: 24,\n",
       "         998: 38,\n",
       "         999: 10374})"
      ]
     },
     "execution_count": 8,
     "metadata": {},
     "output_type": "execute_result"
    }
   ],
   "source": [
    "print(X[0])\n",
    "Counter(X[:,-2])"
   ]
  },
  {
   "cell_type": "code",
   "execution_count": 9,
   "metadata": {},
   "outputs": [
    {
     "data": {
      "text/plain": [
       "array([9, 2, 'C184', 8210, 3, 2, 1, 200, 0, 0, 3.0, 3.0, 0.0, 50, 0, 1,\n",
       "       1502, 93, 0, 5, 30, 4], dtype=object)"
      ]
     },
     "execution_count": 9,
     "metadata": {},
     "output_type": "execute_result"
    }
   ],
   "source": [
    "X[0]"
   ]
  },
  {
   "cell_type": "code",
   "execution_count": 10,
   "metadata": {
    "collapsed": true,
    "scrolled": true
   },
   "outputs": [],
   "source": [
    "X_cat = X[:,:-5]\n",
    "# primary site is only categorical variable with string labels\n",
    "X_primsite = X[:,2]\n",
    "X_cont = X[:,-5:]\n",
    "# X_cat contains only categorical variables with integer labels\n",
    "X_cat = np.delete(X_cat, [2], axis=1)"
   ]
  },
  {
   "cell_type": "code",
   "execution_count": 11,
   "metadata": {},
   "outputs": [
    {
     "data": {
      "text/plain": [
       "(37575, 16)"
      ]
     },
     "execution_count": 11,
     "metadata": {},
     "output_type": "execute_result"
    }
   ],
   "source": [
    "X_cat.shape"
   ]
  },
  {
   "cell_type": "code",
   "execution_count": 12,
   "metadata": {
    "collapsed": true,
    "scrolled": true
   },
   "outputs": [],
   "source": [
    "# Fill missing values in three eval columns with 9: unknown\n",
    "# remember: index shifted over one since we deleted primsite\n",
    "X_cat[:,9] = np.array([9 if np.isnan(x) else x for x in X_cat[:,9]])\n",
    "X_cat[:,10] = np.array([9 if np.isnan(x) else x for x in X_cat[:,10]])\n",
    "X_cat[:,11] = np.array([9 if np.isnan(x) else x for x in X_cat[:,11]])"
   ]
  },
  {
   "cell_type": "code",
   "execution_count": 13,
   "metadata": {
    "collapsed": true,
    "scrolled": true
   },
   "outputs": [],
   "source": [
    "# one-hot encode primary site\n",
    "from sklearn.preprocessing import LabelBinarizer\n",
    "from sklearn.externals import joblib\n",
    "\n",
    "\n",
    "if race == \"mixed\":\n",
    "    encoder_bin = LabelBinarizer().fit(X_primsite)\n",
    "    print(encoder_bin.classes_)\n",
    "    print(len(encoder_bin.classes_), \"classes\")\n",
    "    joblib.dump(encoder_bin, \"encoder_bin.pkl\")\n",
    "\n",
    "encoder_bin = joblib.load(\"encoder_bin.pkl\")\n",
    "X_primsite_1hot = encoder_bin.transform(X_primsite)"
   ]
  },
  {
   "cell_type": "code",
   "execution_count": null,
   "metadata": {},
   "outputs": [],
   "source": [
    "encoder_bin.classes_"
   ]
  },
  {
   "cell_type": "code",
   "execution_count": null,
   "metadata": {
    "collapsed": true,
    "scrolled": false
   },
   "outputs": [],
   "source": [
    "# one-hot encode remaining categorical variables\n",
    "from sklearn.preprocessing import OneHotEncoder\n",
    "\n",
    "if race == \"mixed\":\n",
    "    encoder_1hot = OneHotEncoder(sparse=False).fit(X_cat)\n",
    "    joblib.dump(encoder_1hot, \"encoder_1hot.pkl\")\n",
    "\n",
    "encoder_1hot = joblib.load(\"encoder_1hot.pkl\")\n",
    "X_cat_1hot = encoder_1hot.transform(X_cat)"
   ]
  },
  {
   "cell_type": "code",
   "execution_count": null,
   "metadata": {},
   "outputs": [],
   "source": [
    "encoder_1hot.feature_indices_"
   ]
  },
  {
   "cell_type": "code",
   "execution_count": null,
   "metadata": {},
   "outputs": [],
   "source": [
    "encoder_1hot.get_params()"
   ]
  },
  {
   "cell_type": "code",
   "execution_count": null,
   "metadata": {
    "scrolled": true
   },
   "outputs": [],
   "source": [
    "# combine all categorical variables\n",
    "X_cat = np.hstack((X_primsite_1hot, X_cat_1hot))\n",
    "X_cat.shape"
   ]
  },
  {
   "cell_type": "markdown",
   "metadata": {},
   "source": [
    "The continuous variables in order: age_dx, eod10_pn, eod10_ne, cstumsiz, maligcount. Age and maligcount do not require imputation, and eod10_ne (nodes examined) will not be used as a variable.\n"
   ]
  },
  {
   "cell_type": "markdown",
   "metadata": {},
   "source": [
    "Here we will impute values for eod10_pn and cstumsiz. We will implement multivariate imputation by chained equations (MICE) on these two continuous variables. Their indices are and values which need to be imputed are:\n",
    "\n",
    "1: eod10_pn (95, 97, 98, 99)<br>\n",
    "3: cstumsiz (998, 999)<br>\n",
    "\n",
    "Additionally, we will replace the values (991, 992, 993, 994, 995) in cstumsiz with (1, 2, 3, 4, 5) respectively.\n",
    "\n",
    "\n",
    "### Note: The above should be re-verified for each different dataset. This is for colorectal cancer in Hispanic patients after 2004."
   ]
  },
  {
   "cell_type": "code",
   "execution_count": null,
   "metadata": {},
   "outputs": [],
   "source": [
    "Counter(X_cont[:,3])"
   ]
  },
  {
   "cell_type": "code",
   "execution_count": null,
   "metadata": {},
   "outputs": [],
   "source": [
    "# implements MICE imputation with linear regression model on eod10_pn and cstumsiz\n",
    "from sklearn.preprocessing import Imputer\n",
    "from sklearn.linear_model import LinearRegression\n",
    "\n",
    "NUM_CYCLES=10\n",
    "\n",
    "missing_values_pn = (95, 97, 98, 99)\n",
    "missing_values_tumsiz = (998, 999)\n",
    "\n",
    "pn = np.array(X_cont[:,1]).reshape(-1,1)\n",
    "tumsiz = np.array(X_cont[:,3]).reshape(-1,1)\n",
    "\n",
    "# non-MICE imputation\n",
    "for i, size in enumerate(tumsiz):\n",
    "    if size not in (990, 991, 992, 993, 994, 995):\n",
    "        continue\n",
    "    elif size == 990:\n",
    "        tumsiz[i] = 0\n",
    "    elif size == 991:\n",
    "        tumsiz[i] = 1\n",
    "    elif size == 992:\n",
    "        tumsiz[i] = 2\n",
    "    elif size == 993:\n",
    "        tumsiz[i] = 3\n",
    "    elif size == 994:\n",
    "        tumsiz[i] = 4\n",
    "    elif size == 995:\n",
    "        tumsiz[i] = 5\n",
    "\n",
    "\n",
    "# set missing values to -1\n",
    "for i, value in enumerate(pn):\n",
    "    if value in missing_values_pn:\n",
    "        pn[i] = -1\n",
    "for i, value in enumerate(tumsiz):\n",
    "    if value in missing_values_tumsiz:\n",
    "        tumsiz[i] = -1\n",
    "\n",
    "# indices for valid and imputation-needed positions in pn and tumsiz\n",
    "idx_pn_missing = np.where(pn == -1)[0]\n",
    "idx_pn_valid = np.where(pn != -1)[0]\n",
    "idx_tumsiz_missing = np.where(tumsiz == -1)[0]\n",
    "idx_tumsiz_valid = np.where(tumsiz != -1)[0]\n",
    "    \n",
    "# set missing values to mean\n",
    "# copy = false modifies array in place\n",
    "imp_pn = Imputer(missing_values = -1, copy=False)\n",
    "imp_pn.fit_transform(pn)\n",
    "imp_tumsiz = Imputer(missing_values = -1, copy=False)\n",
    "imp_tumsiz.fit_transform(tumsiz)\n",
    "\n",
    "\n",
    "for i in np.arange(NUM_CYCLES):\n",
    "    print(\"Cycle \" + str(i+1))\n",
    "    \n",
    "    # fit pn\n",
    "    X_ind = np.hstack((X_cat[idx_pn_valid], tumsiz[idx_pn_valid]))\n",
    "    X_rep = np.hstack((X_cat[idx_pn_missing], tumsiz[idx_pn_missing]))\n",
    "    lin_reg = LinearRegression()\n",
    "    lin_reg.fit(X_ind, pn[idx_pn_valid])\n",
    "    pn[idx_pn_missing] = lin_reg.predict(X_rep)\n",
    "    pn = np.maximum(pn, 0)\n",
    "    pn = np.minimum(pn, 100)\n",
    "    \n",
    "    # fit tumsiz\n",
    "    X_ind = np.hstack((X_cat[idx_tumsiz_valid], pn[idx_tumsiz_valid]))\n",
    "    X_rep = np.hstack((X_cat[idx_tumsiz_missing], pn[idx_tumsiz_missing]))\n",
    "    lin_reg = LinearRegression()\n",
    "    lin_reg.fit(X_ind, tumsiz[idx_tumsiz_valid])\n",
    "    tumsiz[idx_tumsiz_missing] = lin_reg.predict(X_rep)\n",
    "    tumsiz = np.maximum(tumsiz, 0)\n",
    "    tumsiz = np.minimum(tumsiz, 990)\n"
   ]
  },
  {
   "cell_type": "code",
   "execution_count": null,
   "metadata": {},
   "outputs": [],
   "source": [
    "age_dx = np.array(X_cont[:,0])\n",
    "malig = np.array(X_cont[:,4])\n",
    "X = np.column_stack((X_cat, age_dx, pn, malig, tumsiz))\n",
    "print(X.shape)"
   ]
  },
  {
   "cell_type": "markdown",
   "metadata": {},
   "source": [
    "We save the preprocessed data to disk. They are now available for our models."
   ]
  },
  {
   "cell_type": "code",
   "execution_count": null,
   "metadata": {
    "collapsed": true
   },
   "outputs": [],
   "source": [
    "if race == \"white\":\n",
    "    np.save('../Data/white/X.npy', X)\n",
    "    np.save('../Data/white/Y2.npy', Y2)\n",
    "if race == \"hispanic\":\n",
    "    np.save('../Data/hispanic/X.npy', X)\n",
    "    np.save('../Data/hispanic/Y2.npy', Y2)\n",
    "if race == \"mixed\":\n",
    "    np.save('../Data/mixed/X.npy', X)\n",
    "    np.save('../Data/mixed/Y2.npy', Y2)"
   ]
  },
  {
   "cell_type": "code",
   "execution_count": null,
   "metadata": {
    "collapsed": true
   },
   "outputs": [],
   "source": []
  }
 ],
 "metadata": {
  "kernelspec": {
   "display_name": "Python 3",
   "language": "python",
   "name": "python3"
  },
  "language_info": {
   "codemirror_mode": {
    "name": "ipython",
    "version": 3
   },
   "file_extension": ".py",
   "mimetype": "text/x-python",
   "name": "python",
   "nbconvert_exporter": "python",
   "pygments_lexer": "ipython3",
   "version": "3.6.4"
  }
 },
 "nbformat": 4,
 "nbformat_minor": 2
}
