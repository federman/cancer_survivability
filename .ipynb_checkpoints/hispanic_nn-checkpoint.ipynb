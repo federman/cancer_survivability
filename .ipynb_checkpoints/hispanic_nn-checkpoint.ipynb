{
 "cells": [
  {
   "cell_type": "code",
   "execution_count": 177,
   "metadata": {},
   "outputs": [],
   "source": [
    "import numpy as np\n",
    "import matplotlib.pyplot as plt\n",
    "import pandas as pd\n",
    "import sklearn\n",
    "import tensorflow as tf\n",
    "from collections import Counter\n",
    "\n",
    "%matplotlib inline"
   ]
  },
  {
   "cell_type": "code",
   "execution_count": 178,
   "metadata": {},
   "outputs": [],
   "source": [
    "X_all = np.load('../hispanic_colrect/X.npy')\n",
    "Y1 = np.load('../hispanic_colrect/Y1.npy')\n",
    "Y2 = np.load('../hispanic_colrect/Y2.npy')\n",
    "Y5 = np.load('../hispanic_colrect/Y5.npy')"
   ]
  },
  {
   "cell_type": "code",
   "execution_count": 179,
   "metadata": {},
   "outputs": [],
   "source": [
    "# shuffle\n",
    "np.random.seed(42)\n",
    "idx = np.random.permutation(len(X_all))\n",
    "X = X_all[idx]\n",
    "Y = Y5[idx]\n",
    "\n",
    "TEST_SET_SIZE = 6000\n",
    "\n",
    "X_train, X_test = X[:-TEST_SET_SIZE], X[-TEST_SET_SIZE:]\n",
    "Y_train, Y_test = Y[:-TEST_SET_SIZE].astype(int), Y[-TEST_SET_SIZE:].astype(int)"
   ]
  },
  {
   "cell_type": "code",
   "execution_count": 180,
   "metadata": {},
   "outputs": [
    {
     "name": "stderr",
     "output_type": "stream",
     "text": [
      "/home/samuel/anaconda3/lib/python3.6/site-packages/sklearn/utils/validation.py:475: DataConversionWarning: Data with input dtype object was converted to float64 by StandardScaler.\n",
      "  warnings.warn(msg, DataConversionWarning)\n"
     ]
    }
   ],
   "source": [
    "# Features Scaling\n",
    "from sklearn.preprocessing import StandardScaler, MinMaxScaler\n",
    "std_scaler = StandardScaler()\n",
    "X_train[:,-4:] = std_scaler.fit_transform(X_train[:,-4:])\n",
    "X_test[:,-4:] = std_scaler.transform(X_test[:,-4:])"
   ]
  },
  {
   "cell_type": "code",
   "execution_count": null,
   "metadata": {},
   "outputs": [],
   "source": []
  },
  {
   "cell_type": "code",
   "execution_count": 181,
   "metadata": {},
   "outputs": [],
   "source": [
    "from sklearn.metrics import accuracy_score, roc_auc_score\n",
    "from sklearn.metrics import confusion_matrix\n",
    "\n",
    "def results(classifier,threshold=0.5):\n",
    "    Y_pred_test = classifier.predict(X_test)\n",
    "    Y_pred_test = (Y_pred_test>=threshold).astype(int)\n",
    "    #Y_pred_test = np.rint(Y_pred_test)\n",
    "    print(\"Test accuracy score: \" + str(accuracy_score(Y_test.astype(int), Y_pred_test)))\n",
    "    print(\"ROC: \" + str(roc_auc_score(Y_test.astype(int), Y_pred_test)))\n",
    "    matrix = confusion_matrix(Y_test.astype(int), Y_pred_test)\n",
    "    tn, fp, fn, tp = matrix.ravel()\n",
    "    ppv = tp/(tp+fp)\n",
    "    npv = tn/(tn+fn)\n",
    "    sensitivity = tp/(tp+fn)\n",
    "    specificity = tn/(tn+fp)\n",
    "    g_mean = np.sqrt(sensitivity*specificity)\n",
    "    print(\"PPV: \" + str(ppv))\n",
    "    print(\"NPV: \" + str(npv))\n",
    "    print(\"Sensitivity: \" + str(sensitivity))\n",
    "    print(\"Specificity: \" + str(specificity))\n",
    "    print(\"G-Mean: \" + str(g_mean))\n",
    "    print(\"Confusion matrix:\\n\" + str(matrix))"
   ]
  },
  {
   "cell_type": "code",
   "execution_count": 182,
   "metadata": {},
   "outputs": [
    {
     "data": {
      "text/plain": [
       "array([-1.715922924097127, -0.2892952509005862, -0.46326593467355504,\n",
       "       0.13496092138431548], dtype=object)"
      ]
     },
     "execution_count": 182,
     "metadata": {},
     "output_type": "execute_result"
    }
   ],
   "source": [
    "X_train[0,-4:]"
   ]
  },
  {
   "cell_type": "code",
   "execution_count": 183,
   "metadata": {},
   "outputs": [],
   "source": [
    "from tensorflow import keras\n",
    "from keras.layers import Input, Dense, Dropout, BatchNormalization\n",
    "from keras.models import Sequential\n",
    "\n",
    "model = Sequential()\n",
    "#model.add(Dropout(0.25, input_shape=(X.shape[1],)))\n",
    "model.add(Dense(400, input_dim=X.shape[1], activation=keras.layers.LeakyReLU(alpha=0.1)))\n",
    "model.add(Dropout(0.25))\n",
    "\n",
    "model.add(Dense(400, activation=keras.layers.LeakyReLU(alpha=0.1)))\n",
    "model.add(Dropout(0.25))\n",
    "\n",
    "model.add(Dense(400, activation=keras.layers.LeakyReLU(alpha=0.1)))\n",
    "model.add(Dropout(0.25))\n",
    "\n",
    "\n",
    "model.add(Dense(1, activation='tanh'))"
   ]
  },
  {
   "cell_type": "code",
   "execution_count": 184,
   "metadata": {
    "scrolled": true
   },
   "outputs": [
    {
     "name": "stdout",
     "output_type": "stream",
     "text": [
      "Epoch 1/5\n",
      "40785/40785 [==============================] - 7s 182us/step - loss: 0.4401 - acc: 0.8078\n",
      "Epoch 2/5\n",
      "40785/40785 [==============================] - 6s 142us/step - loss: 0.4089 - acc: 0.8199\n",
      "Epoch 3/5\n",
      "40785/40785 [==============================] - 6s 143us/step - loss: 0.3989 - acc: 0.8232\n",
      "Epoch 4/5\n",
      "40785/40785 [==============================] - 6s 143us/step - loss: 0.3966 - acc: 0.8242\n",
      "Epoch 5/5\n",
      "40785/40785 [==============================] - 6s 143us/step - loss: 0.3921 - acc: 0.8244\n",
      "6000/6000 [==============================] - 1s 184us/step\n",
      "\n",
      "acc: 82.08%\n"
     ]
    }
   ],
   "source": [
    "#with tf.Session(graph=graph) as sess:\n",
    "model.compile(loss='binary_crossentropy', optimizer='adam', metrics=['accuracy'])\n",
    "model.fit(X_train, Y_train, epochs=5, batch_size=50)\n",
    "scores = model.evaluate(X_test, Y_test)\n",
    "print(\"\\n%s: %.2f%%\" % (model.metrics_names[1], scores[1]*100))"
   ]
  },
  {
   "cell_type": "code",
   "execution_count": 186,
   "metadata": {},
   "outputs": [
    {
     "name": "stdout",
     "output_type": "stream",
     "text": [
      "Test accuracy score: 0.815\n",
      "ROC: 0.7590379594296044\n",
      "PPV: 0.8909825033647375\n",
      "NPV: 0.5953307392996109\n",
      "Sensitivity: 0.8642297650130548\n",
      "Specificity: 0.6538461538461539\n",
      "G-Mean: 0.7517135810221545\n",
      "Confusion matrix:\n",
      "[[ 918  486]\n",
      " [ 624 3972]]\n"
     ]
    }
   ],
   "source": [
    "results(model, threshold=0.7)"
   ]
  },
  {
   "cell_type": "code",
   "execution_count": 69,
   "metadata": {},
   "outputs": [],
   "source": [
    "Y_pred_test = model.predict(X_test)"
   ]
  },
  {
   "cell_type": "code",
   "execution_count": 147,
   "metadata": {},
   "outputs": [
    {
     "data": {
      "text/plain": [
       "array([[ 0.9780362 ],\n",
       "       [ 0.9742021 ],\n",
       "       [-0.05996058],\n",
       "       [ 0.9298522 ],\n",
       "       [ 0.97326124],\n",
       "       [ 0.946064  ],\n",
       "       [ 0.962197  ],\n",
       "       [ 0.94709915],\n",
       "       [ 0.9627532 ],\n",
       "       [ 0.9947199 ],\n",
       "       [ 0.7142358 ],\n",
       "       [ 0.96079725],\n",
       "       [ 0.9714728 ],\n",
       "       [ 0.9769498 ],\n",
       "       [ 0.8292747 ],\n",
       "       [ 0.7820896 ],\n",
       "       [ 0.48054105],\n",
       "       [ 0.91638213],\n",
       "       [ 0.9718184 ],\n",
       "       [ 0.824868  ]], dtype=float32)"
      ]
     },
     "execution_count": 147,
     "metadata": {},
     "output_type": "execute_result"
    }
   ],
   "source": [
    "Y_pred_test[210:230]"
   ]
  },
  {
   "cell_type": "code",
   "execution_count": 148,
   "metadata": {},
   "outputs": [
    {
     "data": {
      "text/plain": [
       "array([1, 1, 1, 1, 1, 1, 1, 1, 1, 1, 1, 0, 1, 0, 1, 1, 0, 0, 1, 1])"
      ]
     },
     "execution_count": 148,
     "metadata": {},
     "output_type": "execute_result"
    }
   ],
   "source": [
    "Y_test[210:230]"
   ]
  },
  {
   "cell_type": "code",
   "execution_count": 12,
   "metadata": {
    "collapsed": true
   },
   "outputs": [],
   "source": [
    "#with graph.as_default():\n",
    "Y_pred_test = model.predict(X_test)\n",
    "Y_pred_test = np.rint(Y_pred_test)"
   ]
  },
  {
   "cell_type": "code",
   "execution_count": 13,
   "metadata": {},
   "outputs": [
    {
     "name": "stdout",
     "output_type": "stream",
     "text": [
      "0.823833333333\n",
      "ROC: 0.738294587901\n"
     ]
    },
    {
     "data": {
      "text/plain": [
       "array([[ 825,  612],\n",
       "       [ 445, 4118]])"
      ]
     },
     "execution_count": 13,
     "metadata": {},
     "output_type": "execute_result"
    }
   ],
   "source": [
    "from sklearn.metrics import accuracy_score, roc_auc_score\n",
    "from sklearn.metrics import confusion_matrix\n",
    "#Y_pred_test = grid_search.predict(std_scaler.transform(X_test))\n",
    "print(accuracy_score(Y_test.astype(int), Y_pred_test))\n",
    "print(\"ROC: \" + str(roc_auc_score(Y_test.astype(int), Y_pred_test)))\n",
    "confusion_matrix(Y_test.astype(int), Y_pred_test)"
   ]
  },
  {
   "cell_type": "code",
   "execution_count": 130,
   "metadata": {},
   "outputs": [
    {
     "name": "stdout",
     "output_type": "stream",
     "text": [
      "PPV: 0.873648505406\n",
      "NPV: 0.655494933749\n",
      "Sensitivity: 0.903133903134\n",
      "Specificity: 0.58524704245\n"
     ]
    }
   ],
   "source": [
    "tn, fp, fn, tp = confusion_matrix(Y_test.astype(int), Y_pred_test).ravel()\n",
    "ppv = tp/(tp+fp)\n",
    "npv = tn/(tn+fn)\n",
    "sensitivity = tp/(tp+fn)\n",
    "specificity = tn/(tn+fp)\n",
    "print(\"PPV: \" + str(ppv))\n",
    "print(\"NPV: \" + str(npv))\n",
    "print(\"Sensitivity: \" + str(sensitivity))\n",
    "print(\"Specificity: \" + str(specificity))"
   ]
  },
  {
   "cell_type": "code",
   "execution_count": null,
   "metadata": {
    "collapsed": true
   },
   "outputs": [],
   "source": []
  }
 ],
 "metadata": {
  "kernelspec": {
   "display_name": "Python 3",
   "language": "python",
   "name": "python3"
  },
  "language_info": {
   "codemirror_mode": {
    "name": "ipython",
    "version": 3
   },
   "file_extension": ".py",
   "mimetype": "text/x-python",
   "name": "python",
   "nbconvert_exporter": "python",
   "pygments_lexer": "ipython3",
   "version": "3.6.4"
  }
 },
 "nbformat": 4,
 "nbformat_minor": 2
}
