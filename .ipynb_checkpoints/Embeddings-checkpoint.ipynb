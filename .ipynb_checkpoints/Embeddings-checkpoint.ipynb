{
 "cells": [
  {
   "cell_type": "code",
   "execution_count": 1,
   "metadata": {},
   "outputs": [
    {
     "name": "stderr",
     "output_type": "stream",
     "text": [
      "/home/samuel/anaconda3/lib/python3.6/site-packages/h5py/__init__.py:36: FutureWarning: Conversion of the second argument of issubdtype from `float` to `np.floating` is deprecated. In future, it will be treated as `np.float64 == np.dtype(float).type`.\n",
      "  from ._conv import register_converters as _register_converters\n"
     ]
    }
   ],
   "source": [
    "import numpy as np\n",
    "import matplotlib.pyplot as plt\n",
    "import pandas as pd\n",
    "import sklearn\n",
    "import tensorflow as tf\n",
    "from collections import Counter\n",
    "\n",
    "%matplotlib inline"
   ]
  },
  {
   "cell_type": "code",
   "execution_count": 2,
   "metadata": {},
   "outputs": [],
   "source": [
    "#race = \"white\"\n",
    "race = \"hispanic\"\n",
    "#race = \"mixed\"\n",
    "if race == \"white\":\n",
    "    data = pd.read_csv(\"../Data/white/white_2year.csv\")\n",
    "if race == \"hispanic\":\n",
    "    data = pd.read_csv(\"../Data/hispanic/hispanic_2year.csv\")\n",
    "if race == \"mixed\":\n",
    "    data = pd.read_csv(\"../Data/mixed/mixed_2year.csv\")\n",
    "data_matrix = data.as_matrix()"
   ]
  },
  {
   "cell_type": "code",
   "execution_count": 3,
   "metadata": {},
   "outputs": [],
   "source": [
    "X_old = np.load('../Data/' + race + '/X.npy')"
   ]
  },
  {
   "cell_type": "code",
   "execution_count": 4,
   "metadata": {},
   "outputs": [
    {
     "data": {
      "text/plain": [
       "(37575, 17)"
      ]
     },
     "execution_count": 4,
     "metadata": {},
     "output_type": "execute_result"
    }
   ],
   "source": [
    "# Y2 will be indicator of survival; 21040 and 21050 are SEER codes for colon and rectum cancer\n",
    "Y2 = np.logical_not(np.logical_and(data_matrix[:,-2].astype(int)<24, np.isin(data_matrix[:,-3], (21040, 21050))))\n",
    "X_raw = data_matrix[:,1:23]\n",
    "X_cont = X_raw[:,-5:]\n",
    "X_cat = X_raw[:,:-5]\n",
    "X_cat.shape"
   ]
  },
  {
   "cell_type": "code",
   "execution_count": 5,
   "metadata": {},
   "outputs": [],
   "source": [
    "# Fill missing values in three eval columns with 9: unknown\n",
    "# remember: index shifted over one since we deleted primsite <-- no longer the case\n",
    "X_cat[:,12] = np.array([9 if np.isnan(x) else x for x in X_cat[:,12]])\n",
    "X_cat[:,10] = np.array([9 if np.isnan(x) else x for x in X_cat[:,10]])\n",
    "X_cat[:,11] = np.array([9 if np.isnan(x) else x for x in X_cat[:,11]])"
   ]
  },
  {
   "cell_type": "code",
   "execution_count": 6,
   "metadata": {},
   "outputs": [],
   "source": [
    "from sklearn.preprocessing import LabelEncoder\n",
    "\n",
    "all_features = []\n",
    "for feature in range(X_cat.shape[1]):\n",
    "    enc = LabelEncoder()\n",
    "    all_features.append(enc.fit_transform(X_cat[:,feature]))\n",
    "X_cat_enc = np.column_stack(all_features)"
   ]
  },
  {
   "cell_type": "code",
   "execution_count": 7,
   "metadata": {},
   "outputs": [],
   "source": [
    "X_con = X_old[:,-4:].astype(int)\n",
    "X = np.column_stack((X_cat_enc, X_con))"
   ]
  },
  {
   "cell_type": "code",
   "execution_count": 8,
   "metadata": {},
   "outputs": [],
   "source": [
    "# shuffle\n",
    "np.random.seed(42)\n",
    "idx = np.random.permutation(len(X))\n",
    "X = X[idx]\n",
    "Y = Y2[idx]\n",
    "\n",
    "TEST_SET_SIZE = int(0.1*len(Y))\n",
    "\n",
    "X_train, X_test = X[:-TEST_SET_SIZE], X[-TEST_SET_SIZE:]\n",
    "Y_train, Y_test = Y[:-TEST_SET_SIZE].astype(int), Y[-TEST_SET_SIZE:].astype(int)"
   ]
  },
  {
   "cell_type": "code",
   "execution_count": null,
   "metadata": {},
   "outputs": [],
   "source": [
    "# Features Scaling\n",
    "from sklearn.preprocessing import StandardScaler, MinMaxScaler\n",
    "std_scaler = StandardScaler()\n",
    "X_train[:,-4:] = std_scaler.fit_transform(X_train[:,-4:])\n",
    "X_test[:,-4:] = std_scaler.transform(X_test[:,-4:])\n",
    "\n",
    "#mm_scaler = MinMaxScaler(feature_range=(0,1))\n",
    "#X_train[:,:-4] = mm_scaler.fit_transform(X_train[:,:-4])\n",
    "#X_test[:,:-4] = mm_scaler.transform(X_test[:,:-4])"
   ]
  },
  {
   "cell_type": "code",
   "execution_count": 9,
   "metadata": {},
   "outputs": [],
   "source": [
    "from sklearn.metrics import accuracy_score, roc_auc_score\n",
    "from sklearn.metrics import confusion_matrix\n",
    "\n",
    "def results(classifier,threshold=0.5, X_test=X_test, Y_test=Y_test):\n",
    "    Y_pred_test = classifier.predict(X_test)\n",
    "    Y_pred_test = (Y_pred_test>=threshold).astype(int)\n",
    "    #Y_pred_test = np.rint(Y_pred_test)\n",
    "    print(\"Test accuracy score: \" + str(accuracy_score(Y_test.astype(int), Y_pred_test)))\n",
    "    print(\"ROC: \" + str(roc_auc_score(Y_test, classifier.predict(X_test))))\n",
    "    #print(\"ROC: \" + str(roc_auc_score(Y_test, Y_pred_test)))\n",
    "    matrix = confusion_matrix(Y_test.astype(int), Y_pred_test)\n",
    "    tn, fp, fn, tp = matrix.ravel()\n",
    "    ppv = tp/(tp+fp)\n",
    "    npv = tn/(tn+fn)\n",
    "    sensitivity = tp/(tp+fn)\n",
    "    specificity = tn/(tn+fp)\n",
    "    g_mean = np.sqrt(sensitivity*specificity)\n",
    "    print(\"PPV: \" + str(ppv))\n",
    "    print(\"NPV: \" + str(npv))\n",
    "    print(\"Sensitivity: \" + str(sensitivity))\n",
    "    print(\"Specificity: \" + str(specificity))\n",
    "    print(\"G-Mean: \" + str(g_mean))\n",
    "    print(\"Confusion matrix:\\n\" + str(matrix))\n",
    "    "
   ]
  },
  {
   "cell_type": "code",
   "execution_count": 11,
   "metadata": {},
   "outputs": [],
   "source": [
    "import pickle\n",
    "with open('hispanic_codes.pkl', 'rb') as f_h:\n",
    "    hispanic_codes = pickle.load(f_h)"
   ]
  },
  {
   "cell_type": "code",
   "execution_count": 32,
   "metadata": {},
   "outputs": [
    {
     "name": "stdout",
     "output_type": "stream",
     "text": [
      "(0, 'mar_stat', 0) 7\n",
      "(1, 'sex', 7) 2\n",
      "(2, 'primsite', 8) 13\n",
      "(3, 'histo3v', 21) 78\n",
      "(4, 'beho3v', 99) 2\n",
      "(5, 'grade', 100) 5\n",
      "(6, 'dx_conf', 105) 8\n",
      "(7, 'csexten', 113) 57\n",
      "(8, 'cslymphn', 170) 17\n",
      "(9, 'csmetsdx', 187) 25\n",
      "(10, 'cstseval', 212) 7\n",
      "(11, 'csrgeval', 219) 7\n",
      "(12, 'csmteval', 226) 7\n",
      "(13, 'surgprif', 233) 33\n",
      "(14, 'no_surg', 266) 8\n",
      "(15, 'summ2k', 274) 5\n",
      "(16, 'reg', 279) 18\n"
     ]
    }
   ],
   "source": [
    "var_lengths = []\n",
    "for key in hispanic_codes:\n",
    "    print(key,len(hispanic_codes[key]))\n",
    "    var_lengths.append(len(hispanic_codes[key]))"
   ]
  },
  {
   "cell_type": "code",
   "execution_count": 76,
   "metadata": {},
   "outputs": [],
   "source": [
    "from keras.models import Model\n",
    "from keras.layers import Concatenate, Input, Dense, Activation, Reshape, Dropout\n",
    "from keras.layers.embeddings import Embedding\n",
    "\n",
    "class NN_with_EntityEmbedding():\n",
    "    \n",
    "    def __init__(self, X_train, Y_train, X_test, Y_test, var_lengths):\n",
    "        self.var_lengths = var_lengths\n",
    "        self.epochs=5\n",
    "        self.__build_keras_model()\n",
    "        self.fit(X_train, Y_train, X_test, Y_test)\n",
    "        \n",
    "    def split_features(self,X):\n",
    "        X_list = []\n",
    "        for idx in range(X.shape[1]):\n",
    "            X_list.append(X[:,idx])\n",
    "        return X_list\n",
    "    \n",
    "    def __build_keras_model(self):\n",
    "        \n",
    "        input_model = []\n",
    "        output_embeddings = []\n",
    "        \n",
    "        for length in var_lengths:\n",
    "            input_vec = Input(shape=(1,))\n",
    "            output_vec = Embedding(length, length-1)(input_vec)\n",
    "            output_vec = Reshape(target_shape=(length-1,))(output_vec)\n",
    "            \n",
    "            input_model.append(input_vec)\n",
    "            output_embeddings.append(output_vec)\n",
    "            \n",
    "        for i in [1,2,3,4]:\n",
    "            input_vec = Input(shape=(1,))\n",
    "            input_model.append(input_vec)\n",
    "            output_embeddings.append(input_vec)\n",
    "            \n",
    "        output_model = Concatenate()(output_embeddings)\n",
    "        output_model = Dense(400,kernel_initializer='glorot_normal')(output_model)\n",
    "        output_model = Activation('relu')(output_model)\n",
    "        #output_model = Dropout(0.2)(output_model)\n",
    "        #output_model = Dense(200)(output_model)\n",
    "        #output_model = Activation('relu')(output_model)\n",
    "        #output_model = Dropout(0.2)(output_model)\n",
    "        #output_model = Dense(100)(output_model)\n",
    "        #output_model = Activation('relu')(output_model)\n",
    "        #output_model = Dropout(0.2)(output_model)\n",
    "        output_model = Dense(1)(output_model)\n",
    "        output_model = Activation('sigmoid')(output_model)\n",
    "        \n",
    "        self.model = Model(inputs=input_model, outputs=output_model)\n",
    "        self.model.compile(loss='binary_crossentropy', optimizer='adam',metrics=['accuracy'])\n",
    "        \n",
    "    def fit(self, X_train, Y_train, X_test, Y_test):\n",
    "        \n",
    "        self.model.fit(self.split_features(X_train), Y_train, epochs=self.epochs)\n",
    "        scores = self.model.evaluate(self.split_features(X_test), Y_test)\n",
    "        print(\"\\n%s: %.2f%%\" % (self.model.metrics_names[1], scores[1]*100))\n",
    "        results(self.model, X_test=self.split_features(X_test), Y_test=Y_test)\n",
    "        "
   ]
  },
  {
   "cell_type": "code",
   "execution_count": 79,
   "metadata": {},
   "outputs": [
    {
     "name": "stdout",
     "output_type": "stream",
     "text": [
      "Epoch 1/5\n",
      "33818/33818 [==============================] - 7s 195us/step - loss: 0.3763 - acc: 0.8438\n",
      "Epoch 2/5\n",
      "33818/33818 [==============================] - 5s 145us/step - loss: 0.3567 - acc: 0.8465\n",
      "Epoch 3/5\n",
      "33818/33818 [==============================] - 5s 146us/step - loss: 0.3392 - acc: 0.8508\n",
      "Epoch 4/5\n",
      "33818/33818 [==============================] - 5s 145us/step - loss: 0.3404 - acc: 0.8518\n",
      "Epoch 5/5\n",
      "33818/33818 [==============================] - 5s 146us/step - loss: 0.3352 - acc: 0.8534\n",
      "3757/3757 [==============================] - 1s 237us/step\n",
      "\n",
      "acc: 85.25%\n",
      "Test accuracy score: 0.852541921746074\n",
      "ROC: 0.8659267453651815\n",
      "PPV: 0.8722842043452731\n",
      "NPV: 0.6609686609686609\n",
      "Sensitivity: 0.9614886731391585\n",
      "Specificity: 0.34782608695652173\n",
      "G-Mean: 0.5782999592175427\n",
      "Confusion matrix:\n",
      "[[ 232  435]\n",
      " [ 119 2971]]\n"
     ]
    }
   ],
   "source": [
    "model = NN_with_EntityEmbedding(X_train,Y_train, X_test, Y_test, var_lengths)"
   ]
  },
  {
   "cell_type": "code",
   "execution_count": null,
   "metadata": {},
   "outputs": [],
   "source": []
  }
 ],
 "metadata": {
  "kernelspec": {
   "display_name": "Python 3",
   "language": "python",
   "name": "python3"
  },
  "language_info": {
   "codemirror_mode": {
    "name": "ipython",
    "version": 3
   },
   "file_extension": ".py",
   "mimetype": "text/x-python",
   "name": "python",
   "nbconvert_exporter": "python",
   "pygments_lexer": "ipython3",
   "version": "3.6.4"
  }
 },
 "nbformat": 4,
 "nbformat_minor": 2
}
