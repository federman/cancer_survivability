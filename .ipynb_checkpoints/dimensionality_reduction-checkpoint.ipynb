{
 "cells": [
  {
   "cell_type": "code",
   "execution_count": 1,
   "metadata": {},
   "outputs": [
    {
     "name": "stderr",
     "output_type": "stream",
     "text": [
      "/home/samuel/anaconda3/lib/python3.6/site-packages/h5py/__init__.py:36: FutureWarning: Conversion of the second argument of issubdtype from `float` to `np.floating` is deprecated. In future, it will be treated as `np.float64 == np.dtype(float).type`.\n",
      "  from ._conv import register_converters as _register_converters\n"
     ]
    }
   ],
   "source": [
    "import numpy as np\n",
    "import matplotlib.pyplot as plt\n",
    "import pandas as pd\n",
    "import sklearn\n",
    "import tensorflow as tf\n",
    "from collections import Counter\n",
    "\n",
    "%matplotlib inline"
   ]
  },
  {
   "cell_type": "code",
   "execution_count": 2,
   "metadata": {},
   "outputs": [],
   "source": [
    "# uncomment the group you want to train on\n",
    "race = \"hispanic\"\n",
    "#race = \"white\"\n",
    "#race = \"mixed\""
   ]
  },
  {
   "cell_type": "code",
   "execution_count": 3,
   "metadata": {},
   "outputs": [],
   "source": [
    "X = np.load('../Data/' + race + '/X.npy')\n",
    "Y2 = np.load('../Data/' + race + '/Y2.npy')"
   ]
  },
  {
   "cell_type": "code",
   "execution_count": 4,
   "metadata": {},
   "outputs": [],
   "source": [
    "# shuffle\n",
    "np.random.seed(42)\n",
    "idx = np.random.permutation(len(X))\n",
    "X = X[idx]\n",
    "Y = Y2[idx]\n",
    "\n",
    "#if race != 'hispanic':\n",
    "#   X = X[:size_hispanic]\n",
    "#    Y = Y[:size_hispanic]\n",
    "\n",
    "TEST_SET_SIZE = int(0.1*len(Y))\n",
    "\n",
    "X_train, X_test = X[:-TEST_SET_SIZE], X[-TEST_SET_SIZE:]\n",
    "Y_train, Y_test = Y[:-TEST_SET_SIZE].astype(int), Y[-TEST_SET_SIZE:].astype(int)"
   ]
  },
  {
   "cell_type": "code",
   "execution_count": 5,
   "metadata": {},
   "outputs": [
    {
     "name": "stderr",
     "output_type": "stream",
     "text": [
      "/home/samuel/anaconda3/lib/python3.6/site-packages/sklearn/utils/validation.py:475: DataConversionWarning: Data with input dtype object was converted to float64 by StandardScaler.\n",
      "  warnings.warn(msg, DataConversionWarning)\n",
      "/home/samuel/anaconda3/lib/python3.6/site-packages/sklearn/utils/validation.py:475: DataConversionWarning: Data with input dtype object was converted to float64 by MinMaxScaler.\n",
      "  warnings.warn(msg, DataConversionWarning)\n"
     ]
    }
   ],
   "source": [
    "# Features Scaling\n",
    "from sklearn.preprocessing import StandardScaler, MinMaxScaler\n",
    "std_scaler = StandardScaler()\n",
    "X_train[:,-4:] = std_scaler.fit_transform(X_train[:,-4:])\n",
    "X_test[:,-4:] = std_scaler.transform(X_test[:,-4:])\n",
    "\n",
    "mm_scaler = MinMaxScaler(feature_range=(0,1))\n",
    "X_train[:,:-4] = mm_scaler.fit_transform(X_train[:,:-4])\n",
    "X_test[:,:-4] = mm_scaler.transform(X_test[:,:-4])"
   ]
  },
  {
   "cell_type": "code",
   "execution_count": 37,
   "metadata": {},
   "outputs": [],
   "source": [
    "from sklearn.metrics import accuracy_score, roc_auc_score\n",
    "from sklearn.metrics import confusion_matrix\n",
    "\n",
    "def results(classifier,X_test=X_test, Y_test=Y_test):\n",
    "    Y_pred_test = classifier.predict(X_test)\n",
    "    #Y_pred_test = (Y_pred_test>=threshold).astype(int)\n",
    "    print(\"Test accuracy score: \" + str(accuracy_score(Y_test.astype(int), Y_pred_test)))\n",
    "    print(\"ROC: \" + str(roc_auc_score(Y_test, classifier.predict_proba(X_test)[:,1])))\n",
    "    matrix = confusion_matrix(Y_test.astype(int), Y_pred_test)\n",
    "    tn, fp, fn, tp = matrix.ravel()\n",
    "    ppv = tp/(tp+fp)\n",
    "    npv = tn/(tn+fn)\n",
    "    sensitivity = tp/(tp+fn)\n",
    "    specificity = tn/(tn+fp)\n",
    "    g_mean = np.sqrt(sensitivity*specificity)\n",
    "    #print(\"PPV: \" + str(ppv))\n",
    "    #print(\"NPV: \" + str(npv))\n",
    "    #print(\"Sensitivity: \" + str(sensitivity))\n",
    "    #print(\"Specificity: \" + str(specificity))\n",
    "    print(\"G-Mean: \" + str(g_mean))\n",
    "    #print(\"Confusion matrix:\\n\" + str(matrix))"
   ]
  },
  {
   "cell_type": "markdown",
   "metadata": {},
   "source": [
    "## Autoencoder"
   ]
  },
  {
   "cell_type": "code",
   "execution_count": 68,
   "metadata": {
    "scrolled": true
   },
   "outputs": [
    {
     "name": "stdout",
     "output_type": "stream",
     "text": [
      "Epoch 1/7\n",
      "37575/37575 [==============================] - 2s 65us/step - loss: 0.1134\n",
      "Epoch 2/7\n",
      "37575/37575 [==============================] - 2s 53us/step - loss: 0.0442\n",
      "Epoch 3/7\n",
      "37575/37575 [==============================] - 2s 52us/step - loss: 0.0334\n",
      "Epoch 4/7\n",
      "37575/37575 [==============================] - 2s 53us/step - loss: 0.0297\n",
      "Epoch 5/7\n",
      "37575/37575 [==============================] - 2s 52us/step - loss: 0.0064\n",
      "Epoch 6/7\n",
      "37575/37575 [==============================] - 2s 52us/step - loss: -0.0061\n",
      "Epoch 7/7\n",
      "37575/37575 [==============================] - 2s 52us/step - loss: 0.0383\n"
     ]
    },
    {
     "data": {
      "text/plain": [
       "<keras.callbacks.History at 0x7f44e8f2ad30>"
      ]
     },
     "execution_count": 68,
     "metadata": {},
     "output_type": "execute_result"
    }
   ],
   "source": [
    "from keras.layers import Input, Dense\n",
    "from keras.models import Model\n",
    "\n",
    "input_dim = X_train.shape[1]\n",
    "encoding_dim = 150\n",
    "hidden_dim1 = 250\n",
    "\n",
    "input_vec = Input(shape=(input_dim,))\n",
    "hidden1 = Dense(hidden_dim1, activation='relu')(input_vec)\n",
    "encoded = Dense(encoding_dim, activation='relu')(hidden1)\n",
    "hidden2 = Dense(hidden_dim1, activation='relu')(encoded)\n",
    "decoded = Dense(input_dim, activation='tanh')(hidden2)\n",
    "\n",
    "autoencoder = Model(input_vec, decoded)\n",
    "autoencoder.compile(optimizer='adam', loss='binary_crossentropy')\n",
    "autoencoder.fit(X,X,epochs=7,batch_size=250)"
   ]
  },
  {
   "cell_type": "code",
   "execution_count": 70,
   "metadata": {},
   "outputs": [],
   "source": [
    "encoder = Model(input_vec, encoded)\n",
    "X_train_enc = encoder.predict(X_train)\n",
    "X_test_enc = encoder.predict(X_test)"
   ]
  },
  {
   "cell_type": "code",
   "execution_count": 71,
   "metadata": {},
   "outputs": [
    {
     "name": "stdout",
     "output_type": "stream",
     "text": [
      "Logistic Regression\n",
      "Test accuracy score: 0.850944902848017\n",
      "ROC: 0.8631436708830051\n",
      "G-Mean: 0.629513536984377\n",
      "\n",
      "Random Forest\n",
      "Test accuracy score: 0.8466861857865318\n",
      "ROC: 0.8546966807858208\n",
      "G-Mean: 0.5038475852812561\n",
      "\n",
      "AdaBoost\n",
      "Test accuracy score: 0.8405642800106468\n",
      "ROC: 0.8564969942213359\n",
      "G-Mean: 0.6014482552842892\n"
     ]
    }
   ],
   "source": [
    "from sklearn.linear_model import LogisticRegression\n",
    "from sklearn.tree import DecisionTreeClassifier\n",
    "from sklearn.ensemble import RandomForestClassifier, AdaBoostClassifier\n",
    "\n",
    "print('Logistic Regression')\n",
    "lr = LogisticRegression(C=1)\n",
    "lr.fit(X_train_enc, Y_train)\n",
    "results(lr, X_test=X_test_enc, Y_test=Y_test)\n",
    "print()\n",
    "print('Random Forest')\n",
    "rf_clf = RandomForestClassifier(n_estimators=20, min_samples_leaf=150, random_state=42)\n",
    "rf_clf.fit(X_train_enc, Y_train)\n",
    "results(rf_clf, X_test=X_test_enc, Y_test=Y_test)\n",
    "print()\n",
    "print('AdaBoost')\n",
    "ab_clf = AdaBoostClassifier(DecisionTreeClassifier(max_depth=1), n_estimators=200, \n",
    "                           algorithm=\"SAMME.R\", learning_rate=1)\n",
    "ab_clf.fit(X_train_enc, Y_train)\n",
    "results(ab_clf, X_test=X_test_enc, Y_test=Y_test)"
   ]
  },
  {
   "cell_type": "markdown",
   "metadata": {},
   "source": [
    "## PCA"
   ]
  },
  {
   "cell_type": "code",
   "execution_count": 74,
   "metadata": {},
   "outputs": [
    {
     "name": "stdout",
     "output_type": "stream",
     "text": [
      "Logistic Regression\n",
      "Test accuracy score: 0.854138940644131\n",
      "ROC: 0.8595852559157313\n",
      "G-Mean: 0.632839762250009\n",
      "\n",
      "Random Forest\n",
      "Test accuracy score: 0.8432259781740751\n",
      "ROC: 0.8557228667219787\n",
      "G-Mean: 0.4472927881904918\n",
      "\n",
      "AdaBoost\n",
      "Test accuracy score: 0.850944902848017\n",
      "ROC: 0.8530788004056225\n",
      "G-Mean: 0.6345647722515612\n"
     ]
    }
   ],
   "source": [
    "from sklearn.decomposition import PCA\n",
    "pca = PCA(n_components=50)\n",
    "X_train_red = pca.fit_transform(X_train)\n",
    "X_test_red = pca.transform(X_test)\n",
    "\n",
    "print('Logistic Regression')\n",
    "lr = LogisticRegression(C=1)\n",
    "lr.fit(X_train_red, Y_train)\n",
    "results(lr, X_test=X_test_red, Y_test=Y_test)\n",
    "print()\n",
    "print('Random Forest')\n",
    "rf_clf = RandomForestClassifier(n_estimators=20, min_samples_leaf=150, random_state=42)\n",
    "rf_clf.fit(X_train_red, Y_train)\n",
    "results(rf_clf, X_test=X_test_red, Y_test=Y_test)\n",
    "print()\n",
    "print('AdaBoost')\n",
    "ab_clf = AdaBoostClassifier(DecisionTreeClassifier(max_depth=1), n_estimators=200, \n",
    "                           algorithm=\"SAMME.R\", learning_rate=1)\n",
    "ab_clf.fit(X_train_red, Y_train)\n",
    "results(ab_clf, X_test=X_test_red, Y_test=Y_test)"
   ]
  },
  {
   "cell_type": "code",
   "execution_count": null,
   "metadata": {},
   "outputs": [],
   "source": []
  }
 ],
 "metadata": {
  "kernelspec": {
   "display_name": "Python 3",
   "language": "python",
   "name": "python3"
  },
  "language_info": {
   "codemirror_mode": {
    "name": "ipython",
    "version": 3
   },
   "file_extension": ".py",
   "mimetype": "text/x-python",
   "name": "python",
   "nbconvert_exporter": "python",
   "pygments_lexer": "ipython3",
   "version": "3.6.4"
  }
 },
 "nbformat": 4,
 "nbformat_minor": 2
}
