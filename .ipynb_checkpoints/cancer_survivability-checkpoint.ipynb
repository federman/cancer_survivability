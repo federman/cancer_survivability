{
 "cells": [
  {
   "cell_type": "code",
   "execution_count": 1,
   "metadata": {
    "scrolled": true
   },
   "outputs": [],
   "source": [
    "import numpy as np\n",
    "import matplotlib.pyplot as plt\n",
    "import pandas as pd\n",
    "import sklearn\n",
    "import tensorflow as tf\n",
    "from collections import Counter\n",
    "\n",
    "%matplotlib inline"
   ]
  },
  {
   "cell_type": "code",
   "execution_count": 2,
   "metadata": {},
   "outputs": [],
   "source": [
    "# load data from disk\n",
    "X = np.load('../hispanic_colrect/X.npy')\n",
    "Y1 = np.load('../hispanic_colrect/Y1.npy')\n",
    "Y2 = np.load('../hispanic_colrect/Y2.npy')\n",
    "Y5 = np.load('../hispanic_colrect/Y5.npy')"
   ]
  },
  {
   "cell_type": "code",
   "execution_count": 3,
   "metadata": {
    "scrolled": true
   },
   "outputs": [],
   "source": [
    "# shuffle\n",
    "np.random.seed(97)\n",
    "idx = np.random.permutation(len(X))\n",
    "X = X[idx]\n",
    "Y = Y5[idx]\n",
    "\n",
    "# split into training and test sets\n",
    "TEST_SET_SIZE = 6000\n",
    "X_train, X_test = X[:-TEST_SET_SIZE], X[-TEST_SET_SIZE:]\n",
    "Y_train, Y_test = Y[:-TEST_SET_SIZE].astype(int), Y[-TEST_SET_SIZE:].astype(int)"
   ]
  },
  {
   "cell_type": "code",
   "execution_count": 7,
   "metadata": {
    "scrolled": true
   },
   "outputs": [
    {
     "data": {
      "text/plain": [
       "array([0.0, 0.0, 0.0, 0.0, 0.0, 1.0, 0.0, 0.0, 0.0, 0.0, 0.0, 0.0, 0.0,\n",
       "       0.0, 1.0, 0.0, 0.0, 0.0, 0.0, 0.0, 1.0, 0.0, 0.0, 0.0, 0.0, 0.0,\n",
       "       0.0, 0.0, 0.0, 0.0, 0.0, 0.0, 0.0, 0.0, 0.0, 0.0, 0.0, 0.0, 0.0,\n",
       "       0.0, 0.0, 0.0, 1.0, 0.0, 0.0, 0.0, 0.0, 0.0, 0.0, 0.0, 0.0, 0.0,\n",
       "       0.0, 0.0, 0.0, 0.0, 0.0, 0.0, 0.0, 0.0, 0.0, 0.0, 0.0, 0.0, 0.0,\n",
       "       0.0, 0.0, 0.0, 0.0, 0.0, 0.0, 0.0, 0.0, 0.0, 0.0, 0.0, 0.0, 0.0,\n",
       "       0.0, 0.0, 0.0, 0.0, 0.0, 0.0, 0.0, 0.0, 0.0, 0.0, 0.0, 0.0, 0.0,\n",
       "       0.0, 0.0, 0.0, 0.0, 0.0, 0.0, 0.0, 0.0, 0.0, 0.0, 0.0, 0.0, 0.0,\n",
       "       0.0, 0.0, 0.0, 0.0, 1.0, 0.0, 1.0, 0.0, 0.0, 0.0, 1.0, 0.0, 0.0,\n",
       "       0.0, 0.0, 0.0, 0.0, 0.0, 0.0, 0.0, 0.0, 0.0, 0.0, 0.0, 0.0, 0.0,\n",
       "       0.0, 0.0, 0.0, 0.0, 0.0, 0.0, 0.0, 0.0, 0.0, 0.0, 1.0, 0.0, 0.0,\n",
       "       0.0, 0.0, 0.0, 0.0, 0.0, 0.0, 0.0, 0.0, 0.0, 0.0, 0.0, 0.0, 0.0,\n",
       "       0.0, 0.0, 0.0, 0.0, 0.0, 0.0, 0.0, 0.0, 0.0, 0.0, 0.0, 0.0, 0.0,\n",
       "       0.0, 0.0, 0.0, 0.0, 0.0, 0.0, 0.0, 0.0, 0.0, 0.0, 0.0, 0.0, 0.0,\n",
       "       0.0, 0.0, 0.0, 0.0, 0.0, 0.0, 0.0, 0.0, 0.0, 0.0, 0.0, 0.0, 0.0,\n",
       "       0.0, 1.0, 0.0, 0.0, 0.0, 0.0, 0.0, 0.0, 0.0, 0.0, 0.0, 0.0, 0.0,\n",
       "       0.0, 0.0, 0.0, 0.0, 0.0, 0.0, 0.0, 0.0, 0.0, 0.0, 0.0, 0.0, 0.0,\n",
       "       0.0, 1.0, 0.0, 0.0, 0.0, 1.0, 0.0, 0.0, 0.0, 0.0, 0.0, 0.0, 0.0,\n",
       "       0.0, 0.0, 1.0, 0.0, 0.0, 0.0, 0.0, 0.0, 0.0, 1.0, 0.0, 0.0, 0.0,\n",
       "       0.0, 0.0, 0.0, 0.0, 0.0, 0.0, 0.0, 0.0, 0.0, 0.0, 0.0, 0.0, 0.0,\n",
       "       0.0, 0.0, 0.0, 1.0, 0.0, 0.0, 0.0, 0.0, 0.0, 0.0, 0.0, 0.0, 0.0,\n",
       "       0.0, 0.0, 0.0, 0.0, 0.0, 1.0, 0.0, 0.0, 0.0, 0.0, 0.0, 0.0, 0.0,\n",
       "       0.0, 1.0, 0.0, 0.0, 0.0, 0.0, 0.0, 0.0, 0.0, 0.0, 1.0, 0.0, 0.0,\n",
       "       0.0, 0.0, 0.0, 0.0, 0.0, 0.0, 0.0, 0.0, 0.0, 0.0, 64,\n",
       "       1.0693473815917969, 1, 40], dtype=object)"
      ]
     },
     "execution_count": 7,
     "metadata": {},
     "output_type": "execute_result"
    }
   ],
   "source": [
    "X[0]"
   ]
  },
  {
   "cell_type": "code",
   "execution_count": 38,
   "metadata": {},
   "outputs": [
    {
     "data": {
      "text/plain": [
       "0.2372769049909159"
      ]
     },
     "execution_count": 38,
     "metadata": {},
     "output_type": "execute_result"
    }
   ],
   "source": [
    "len(np.where(Y==0)[0])/len(Y)"
   ]
  },
  {
   "cell_type": "markdown",
   "metadata": {},
   "source": [
    "# Feature Scaling\n",
    "Fit scaler based on training data, then transform both the training and test data."
   ]
  },
  {
   "cell_type": "code",
   "execution_count": 8,
   "metadata": {},
   "outputs": [
    {
     "name": "stderr",
     "output_type": "stream",
     "text": [
      "/Users/sam/anaconda3/lib/python3.6/site-packages/sklearn/utils/validation.py:444: DataConversionWarning: Data with input dtype object was converted to float64 by StandardScaler.\n",
      "  warnings.warn(msg, DataConversionWarning)\n"
     ]
    }
   ],
   "source": [
    "# feature scaling: scale features based on training data only\n",
    "from sklearn.preprocessing import StandardScaler, MinMaxScaler\n",
    "std_scaler = StandardScaler()\n",
    "X_train = std_scaler.fit_transform(X_train)\n",
    "X_test = std_scaler.transform(X_test)"
   ]
  },
  {
   "cell_type": "markdown",
   "metadata": {},
   "source": [
    "# Results Function"
   ]
  },
  {
   "cell_type": "code",
   "execution_count": 147,
   "metadata": {
    "collapsed": true
   },
   "outputs": [],
   "source": [
    "from sklearn.metrics import accuracy_score, roc_auc_score\n",
    "from sklearn.metrics import confusion_matrix\n",
    "\n",
    "def results(classifier):\n",
    "    Y_pred_test = classifier.predict(std_scaler.transform(X_test))\n",
    "    print(\"Test accuracy score: \" + str(accuracy_score(Y_test.astype(int), Y_pred_test)))\n",
    "    print(\"ROC: \" + str(roc_auc_score(Y_test.astype(int), Y_pred_test)))\n",
    "    matrix = confusion_matrix(Y_test.astype(int), Y_pred_test)\n",
    "    tn, fp, fn, tp = matrix.ravel()\n",
    "    ppv = tp/(tp+fp)\n",
    "    npv = tn/(tn+fn)\n",
    "    sensitivity = tp/(tp+fn)\n",
    "    specificity = tn/(tn+fp)\n",
    "    g_mean = np.sqrt(sensitivity*specificity)\n",
    "    print(\"PPV: \" + str(ppv))\n",
    "    print(\"NPV: \" + str(npv))\n",
    "    print(\"Sensitivity: \" + str(sensitivity))\n",
    "    print(\"Specificity: \" + str(specificity))\n",
    "    print(\"G-Mean: \" + str(g_mean))\n",
    "    print(\"Confusion matrix:\\n\" + str(matrix))\n",
    "    "
   ]
  },
  {
   "cell_type": "markdown",
   "metadata": {},
   "source": [
    "# Imports"
   ]
  },
  {
   "cell_type": "code",
   "execution_count": 122,
   "metadata": {},
   "outputs": [
    {
     "ename": "ImportError",
     "evalue": "cannot import name 'GridSearchCv'",
     "output_type": "error",
     "traceback": [
      "\u001b[0;31m---------------------------------------------------------------------------\u001b[0m",
      "\u001b[0;31mImportError\u001b[0m                               Traceback (most recent call last)",
      "\u001b[0;32m<ipython-input-122-32da2041f241>\u001b[0m in \u001b[0;36m<module>\u001b[0;34m()\u001b[0m\n\u001b[0;32m----> 1\u001b[0;31m \u001b[0;32mfrom\u001b[0m \u001b[0msklearn\u001b[0m\u001b[0;34m.\u001b[0m\u001b[0mmodel_selection\u001b[0m \u001b[0;32mimport\u001b[0m \u001b[0mGridSearchCv\u001b[0m\u001b[0;34m\u001b[0m\u001b[0m\n\u001b[0m",
      "\u001b[0;31mImportError\u001b[0m: cannot import name 'GridSearchCv'"
     ]
    }
   ],
   "source": [
    "from sklearn.model_selection import GridSearchCv"
   ]
  },
  {
   "cell_type": "markdown",
   "metadata": {},
   "source": [
    "## Decision Tree"
   ]
  },
  {
   "cell_type": "code",
   "execution_count": 37,
   "metadata": {
    "scrolled": true
   },
   "outputs": [
    {
     "name": "stdout",
     "output_type": "stream",
     "text": [
      "Fitting 5 folds for each of 4 candidates, totalling 20 fits\n",
      "[CV] max_depth=130, min_samples_leaf=200 .............................\n",
      "[CV]  max_depth=130, min_samples_leaf=200, score=0.8087766609463104, total=   1.3s\n",
      "[CV] max_depth=130, min_samples_leaf=200 .............................\n"
     ]
    },
    {
     "name": "stderr",
     "output_type": "stream",
     "text": [
      "[Parallel(n_jobs=1)]: Done   1 out of   1 | elapsed:    1.4s remaining:    0.0s\n"
     ]
    },
    {
     "name": "stdout",
     "output_type": "stream",
     "text": [
      "[CV]  max_depth=130, min_samples_leaf=200, score=0.8087532180948879, total=   1.2s\n",
      "[CV] max_depth=130, min_samples_leaf=200 .............................\n"
     ]
    },
    {
     "name": "stderr",
     "output_type": "stream",
     "text": [
      "[Parallel(n_jobs=1)]: Done   2 out of   2 | elapsed:    2.7s remaining:    0.0s\n"
     ]
    },
    {
     "name": "stdout",
     "output_type": "stream",
     "text": [
      "[CV]  max_depth=130, min_samples_leaf=200, score=0.8186833394630378, total=   1.3s\n",
      "[CV] max_depth=130, min_samples_leaf=200 .............................\n",
      "[CV]  max_depth=130, min_samples_leaf=200, score=0.8078950594581341, total=   1.4s\n",
      "[CV] max_depth=130, min_samples_leaf=200 .............................\n",
      "[CV]  max_depth=130, min_samples_leaf=200, score=0.8113045610593428, total=   1.3s\n",
      "[CV] max_depth=130, min_samples_leaf=400 .............................\n",
      "[CV]  max_depth=130, min_samples_leaf=400, score=0.8115959794067173, total=   1.3s\n",
      "[CV] max_depth=130, min_samples_leaf=400 .............................\n",
      "[CV]  max_depth=130, min_samples_leaf=400, score=0.8093661885497119, total=   1.3s\n",
      "[CV] max_depth=130, min_samples_leaf=400 .............................\n",
      "[CV]  max_depth=130, min_samples_leaf=400, score=0.8196640921907564, total=   1.3s\n",
      "[CV] max_depth=130, min_samples_leaf=400 .............................\n",
      "[CV]  max_depth=130, min_samples_leaf=400, score=0.8083854358219934, total=   1.5s\n",
      "[CV] max_depth=130, min_samples_leaf=400 .............................\n",
      "[CV]  max_depth=130, min_samples_leaf=400, score=0.8076262873957822, total=   1.5s\n",
      "[CV] max_depth=200, min_samples_leaf=200 .............................\n",
      "[CV]  max_depth=200, min_samples_leaf=200, score=0.8087766609463104, total=   1.5s\n",
      "[CV] max_depth=200, min_samples_leaf=200 .............................\n",
      "[CV]  max_depth=200, min_samples_leaf=200, score=0.8087532180948879, total=   1.4s\n",
      "[CV] max_depth=200, min_samples_leaf=200 .............................\n",
      "[CV]  max_depth=200, min_samples_leaf=200, score=0.8186833394630378, total=   1.8s\n",
      "[CV] max_depth=200, min_samples_leaf=200 .............................\n",
      "[CV]  max_depth=200, min_samples_leaf=200, score=0.8078950594581341, total=   1.4s\n",
      "[CV] max_depth=200, min_samples_leaf=200 .............................\n",
      "[CV]  max_depth=200, min_samples_leaf=200, score=0.8113045610593428, total=   1.8s\n",
      "[CV] max_depth=200, min_samples_leaf=400 .............................\n",
      "[CV]  max_depth=200, min_samples_leaf=400, score=0.8115959794067173, total=   1.3s\n",
      "[CV] max_depth=200, min_samples_leaf=400 .............................\n",
      "[CV]  max_depth=200, min_samples_leaf=400, score=0.8093661885497119, total=   1.4s\n",
      "[CV] max_depth=200, min_samples_leaf=400 .............................\n",
      "[CV]  max_depth=200, min_samples_leaf=400, score=0.8196640921907564, total=   1.4s\n",
      "[CV] max_depth=200, min_samples_leaf=400 .............................\n",
      "[CV]  max_depth=200, min_samples_leaf=400, score=0.8083854358219934, total=   1.2s\n",
      "[CV] max_depth=200, min_samples_leaf=400 .............................\n",
      "[CV]  max_depth=200, min_samples_leaf=400, score=0.8076262873957822, total=   1.2s\n"
     ]
    },
    {
     "name": "stderr",
     "output_type": "stream",
     "text": [
      "[Parallel(n_jobs=1)]: Done  20 out of  20 | elapsed:   29.2s finished\n"
     ]
    },
    {
     "data": {
      "text/plain": [
       "GridSearchCV(cv=5, error_score='raise',\n",
       "       estimator=DecisionTreeClassifier(class_weight=None, criterion='gini', max_depth=None,\n",
       "            max_features=None, max_leaf_nodes=None,\n",
       "            min_impurity_decrease=0.0, min_impurity_split=None,\n",
       "            min_samples_leaf=1, min_samples_split=2,\n",
       "            min_weight_fraction_leaf=0.0, presort=False, random_state=None,\n",
       "            splitter='best'),\n",
       "       fit_params=None, iid=True, n_jobs=1,\n",
       "       param_grid=[{'max_depth': [130, 200], 'min_samples_leaf': [200, 400]}],\n",
       "       pre_dispatch='2*n_jobs', refit=True, return_train_score=True,\n",
       "       scoring='accuracy', verbose=3)"
      ]
     },
     "execution_count": 37,
     "metadata": {},
     "output_type": "execute_result"
    }
   ],
   "source": [
    "from sklearn.model_selection import GridSearchCV\n",
    "from sklearn.tree import DecisionTreeClassifier\n",
    "# min_sample_split: 300,400\n",
    "# min_samples_leaf: 200\n",
    "# max_depth: 130\n",
    "# min_weight_fraction_leaf: .01\n",
    "param_grid = [{'max_depth':[130,200], 'min_samples_leaf':[200,400]}]\n",
    "\n",
    "from sklearn.cross_validation import ShuffleSplit\n",
    "tree_clf_reg = DecisionTreeClassifier()\n",
    "grid_search = GridSearchCV(tree_clf_reg, param_grid, cv=5, scoring=\"accuracy\", verbose=3)\n",
    "grid_search.fit(X_train, Y_train.astype(int))"
   ]
  },
  {
   "cell_type": "code",
   "execution_count": 39,
   "metadata": {},
   "outputs": [
    {
     "name": "stdout",
     "output_type": "stream",
     "text": [
      "0.811082505823 {'max_depth': 130, 'min_samples_leaf': 200}\n",
      "0.811327694005 {'max_depth': 130, 'min_samples_leaf': 400}\n",
      "0.811082505823 {'max_depth': 200, 'min_samples_leaf': 200}\n",
      "0.811327694005 {'max_depth': 200, 'min_samples_leaf': 400}\n",
      "Best: {'max_depth': 130, 'min_samples_leaf': 400}\n"
     ]
    }
   ],
   "source": [
    "cvres = grid_search.cv_results_\n",
    "for mean_score, params in zip(cvres[\"mean_test_score\"], cvres[\"params\"]):\n",
    "    print(mean_score, params)\n",
    "print(\"Best: \" + str(grid_search.best_params_))"
   ]
  },
  {
   "cell_type": "code",
   "execution_count": 40,
   "metadata": {},
   "outputs": [
    {
     "name": "stdout",
     "output_type": "stream",
     "text": [
      "0.808166666667\n",
      "ROC: 0.699151567226\n",
      "[[ 704  733]\n",
      " [ 418 4145]]\n",
      "PPV: 0.849733497335\n",
      "NPV: 0.627450980392\n",
      "Sensitivity: 0.908393600701\n",
      "Specificity: 0.489909533751\n"
     ]
    }
   ],
   "source": [
    "results(grid_search)"
   ]
  },
  {
   "cell_type": "markdown",
   "metadata": {},
   "source": [
    "## K-Nearest Neighbors"
   ]
  },
  {
   "cell_type": "code",
   "execution_count": 86,
   "metadata": {},
   "outputs": [
    {
     "data": {
      "text/plain": [
       "KNeighborsClassifier(algorithm='auto', leaf_size=30, metric='minkowski',\n",
       "           metric_params=None, n_jobs=1, n_neighbors=5, p=2,\n",
       "           weights='uniform')"
      ]
     },
     "execution_count": 86,
     "metadata": {},
     "output_type": "execute_result"
    }
   ],
   "source": [
    "from sklearn.neighbors import KNeighborsClassifier\n",
    "knn_clf = KNeighborsClassifier()\n",
    "knn_clf.fit(X_train, Y_train.astype(int))"
   ]
  },
  {
   "cell_type": "code",
   "execution_count": 87,
   "metadata": {},
   "outputs": [
    {
     "name": "stdout",
     "output_type": "stream",
     "text": [
      "Test accuracy score: 0.7935\n",
      "ROC: 0.675444953669\n",
      "PPV: 0.838630806846\n",
      "NPV: 0.590659340659\n",
      "Sensitivity: 0.902038132807\n",
      "Specificity: 0.44885177453\n",
      "Confusion matrix:\n",
      "[[ 645  792]\n",
      " [ 447 4116]]\n"
     ]
    }
   ],
   "source": [
    "results(knn_clf)"
   ]
  },
  {
   "cell_type": "markdown",
   "metadata": {},
   "source": [
    "## Logistic Regression"
   ]
  },
  {
   "cell_type": "code",
   "execution_count": 125,
   "metadata": {
    "scrolled": true
   },
   "outputs": [
    {
     "name": "stdout",
     "output_type": "stream",
     "text": [
      "Fitting 5 folds for each of 3 candidates, totalling 15 fits\n",
      "[CV] C=0.01 ..........................................................\n",
      "[CV] ................. C=0.01, score=0.8184604069624908, total=   3.1s\n",
      "[CV] C=0.01 ..........................................................\n"
     ]
    },
    {
     "name": "stderr",
     "output_type": "stream",
     "text": [
      "[Parallel(n_jobs=1)]: Done   1 out of   1 | elapsed:    3.2s remaining:    0.0s\n"
     ]
    },
    {
     "name": "stdout",
     "output_type": "stream",
     "text": [
      "[CV] ................. C=0.01, score=0.8186833394630378, total=   2.8s\n",
      "[CV] C=0.01 ..........................................................\n"
     ]
    },
    {
     "name": "stderr",
     "output_type": "stream",
     "text": [
      "[Parallel(n_jobs=1)]: Done   2 out of   2 | elapsed:    6.0s remaining:    0.0s\n"
     ]
    },
    {
     "name": "stdout",
     "output_type": "stream",
     "text": [
      "[CV] ................. C=0.01, score=0.8238322912835602, total=   3.3s\n",
      "[CV] C=0.01 ..........................................................\n"
     ]
    },
    {
     "name": "stderr",
     "output_type": "stream",
     "text": [
      "[Parallel(n_jobs=1)]: Done   3 out of   3 | elapsed:    9.3s remaining:    0.0s\n"
     ]
    },
    {
     "name": "stdout",
     "output_type": "stream",
     "text": [
      "[CV] ................. C=0.01, score=0.8163540517347064, total=   3.4s\n",
      "[CV] C=0.01 ..........................................................\n"
     ]
    },
    {
     "name": "stderr",
     "output_type": "stream",
     "text": [
      "[Parallel(n_jobs=1)]: Done   4 out of   4 | elapsed:   12.8s remaining:    0.0s\n"
     ]
    },
    {
     "name": "stdout",
     "output_type": "stream",
     "text": [
      "[CV] ................. C=0.01, score=0.8120402157920549, total=   3.6s\n",
      "[CV] C=0.1 ...........................................................\n",
      "[CV] .................. C=0.1, score=0.8173571953910272, total=   5.2s\n",
      "[CV] C=0.1 ...........................................................\n",
      "[CV] ................... C=0.1, score=0.818560745372073, total=   5.1s\n",
      "[CV] C=0.1 ...........................................................\n",
      "[CV] .................. C=0.1, score=0.8228515385558416, total=   6.1s\n",
      "[CV] C=0.1 ...........................................................\n",
      "[CV] .................. C=0.1, score=0.8156184871889175, total=   5.9s\n",
      "[CV] C=0.1 ...........................................................\n",
      "[CV] .................. C=0.1, score=0.8117949975478176, total=   5.4s\n",
      "[CV] C=0.5 ...........................................................\n",
      "[CV] .................. C=0.5, score=0.8172346163275312, total=  11.2s\n",
      "[CV] C=0.5 ...........................................................\n",
      "[CV] .................. C=0.5, score=0.8183155571901435, total=  10.7s\n",
      "[CV] C=0.5 ...........................................................\n",
      "[CV] .................. C=0.5, score=0.8227289444648768, total=   5.7s\n",
      "[CV] C=0.5 ...........................................................\n",
      "[CV] .................. C=0.5, score=0.8154958930979527, total=   6.0s\n",
      "[CV] C=0.5 ...........................................................\n",
      "[CV] .................. C=0.5, score=0.8116723884256989, total=   6.0s\n"
     ]
    },
    {
     "name": "stderr",
     "output_type": "stream",
     "text": [
      "[Parallel(n_jobs=1)]: Done  15 out of  15 | elapsed:  1.4min finished\n"
     ]
    },
    {
     "data": {
      "text/plain": [
       "GridSearchCV(cv=5, error_score='raise',\n",
       "       estimator=LogisticRegression(C=1.0, class_weight=None, dual=False, fit_intercept=True,\n",
       "          intercept_scaling=1, max_iter=100, multi_class='ovr', n_jobs=1,\n",
       "          penalty='l2', random_state=None, solver='liblinear', tol=0.0001,\n",
       "          verbose=0, warm_start=False),\n",
       "       fit_params=None, iid=True, n_jobs=1,\n",
       "       param_grid=[{'C': [0.01, 0.1, 0.5]}], pre_dispatch='2*n_jobs',\n",
       "       refit=True, return_train_score=True, scoring='accuracy', verbose=5)"
      ]
     },
     "execution_count": 125,
     "metadata": {},
     "output_type": "execute_result"
    }
   ],
   "source": [
    "from sklearn.model_selection import GridSearchCV\n",
    "from sklearn.linear_model import LogisticRegression\n",
    "param_grid = [{'C':[.01, .1, .5]}]\n",
    "lr_grid_search = GridSearchCV(LogisticRegression(), param_grid, cv=5, \n",
    "                              scoring='accuracy', verbose=5\n",
    "                             )\n",
    "lr_grid_search.fit(X_train, Y_train.astype(int))"
   ]
  },
  {
   "cell_type": "code",
   "execution_count": 126,
   "metadata": {},
   "outputs": [
    {
     "name": "stdout",
     "output_type": "stream",
     "text": [
      "0.817874218463 {'C': 0.01}\n",
      "0.81723672919 {'C': 0.1}\n",
      "0.81708961628 {'C': 0.5}\n",
      "Best: {'C': 0.01}\n"
     ]
    }
   ],
   "source": [
    "cvres = lr_grid_search.cv_results_\n",
    "for mean_score, params in zip(cvres[\"mean_test_score\"], cvres[\"params\"]):\n",
    "    print(mean_score, params)\n",
    "print(\"Best: \" + str(lr_grid_search.best_params_))"
   ]
  },
  {
   "cell_type": "code",
   "execution_count": 127,
   "metadata": {},
   "outputs": [
    {
     "name": "stdout",
     "output_type": "stream",
     "text": [
      "Test accuracy score: 0.765833333333\n",
      "ROC: 0.739731213715\n",
      "PPV: 0.88987654321\n",
      "NPV: 0.508205128205\n",
      "Sensitivity: 0.78983125137\n",
      "Specificity: 0.689631176061\n",
      "Confusion matrix:\n",
      "[[ 991  446]\n",
      " [ 959 3604]]\n"
     ]
    }
   ],
   "source": [
    "results(lr_grid_search)"
   ]
  },
  {
   "cell_type": "code",
   "execution_count": 88,
   "metadata": {},
   "outputs": [
    {
     "name": "stdout",
     "output_type": "stream",
     "text": [
      "Test accuracy score: 0.7505\n",
      "ROC: 0.740853520442\n",
      "PPV: 0.896739130435\n",
      "NPV: 0.48595505618\n",
      "Sensitivity: 0.759368836292\n",
      "Specificity: 0.722338204593\n",
      "Confusion matrix:\n",
      "[[1038  399]\n",
      " [1098 3465]]\n"
     ]
    }
   ],
   "source": [
    "lr = LogisticRegression(C=.1)\n",
    "lr.fit(X_train, Y_train.astype(int))\n",
    "results(lr)"
   ]
  },
  {
   "cell_type": "markdown",
   "metadata": {},
   "source": [
    "## Bagging"
   ]
  },
  {
   "cell_type": "code",
   "execution_count": 84,
   "metadata": {
    "scrolled": true
   },
   "outputs": [
    {
     "name": "stdout",
     "output_type": "stream",
     "text": [
      "Building estimator 1 of 500 for this parallel run (total 500)...\n",
      "Building estimator 2 of 500 for this parallel run (total 500)...\n",
      "Building estimator 3 of 500 for this parallel run (total 500)...\n",
      "Building estimator 4 of 500 for this parallel run (total 500)...\n",
      "Building estimator 5 of 500 for this parallel run (total 500)...\n",
      "Building estimator 6 of 500 for this parallel run (total 500)...\n",
      "Building estimator 7 of 500 for this parallel run (total 500)...\n",
      "Building estimator 8 of 500 for this parallel run (total 500)...\n",
      "Building estimator 9 of 500 for this parallel run (total 500)...\n",
      "Building estimator 10 of 500 for this parallel run (total 500)...\n",
      "Building estimator 11 of 500 for this parallel run (total 500)...\n",
      "Building estimator 12 of 500 for this parallel run (total 500)...\n",
      "Building estimator 13 of 500 for this parallel run (total 500)...\n",
      "Building estimator 14 of 500 for this parallel run (total 500)...\n",
      "Building estimator 15 of 500 for this parallel run (total 500)...\n",
      "Building estimator 16 of 500 for this parallel run (total 500)...\n",
      "Building estimator 17 of 500 for this parallel run (total 500)...\n",
      "Building estimator 18 of 500 for this parallel run (total 500)...\n",
      "Building estimator 19 of 500 for this parallel run (total 500)...\n",
      "Building estimator 20 of 500 for this parallel run (total 500)...\n",
      "Building estimator 21 of 500 for this parallel run (total 500)...\n",
      "Building estimator 22 of 500 for this parallel run (total 500)...\n",
      "Building estimator 23 of 500 for this parallel run (total 500)...\n",
      "Building estimator 24 of 500 for this parallel run (total 500)...\n",
      "Building estimator 25 of 500 for this parallel run (total 500)...\n",
      "Building estimator 26 of 500 for this parallel run (total 500)...\n",
      "Building estimator 27 of 500 for this parallel run (total 500)...\n",
      "Building estimator 28 of 500 for this parallel run (total 500)...\n",
      "Building estimator 29 of 500 for this parallel run (total 500)...\n",
      "Building estimator 30 of 500 for this parallel run (total 500)...\n",
      "Building estimator 31 of 500 for this parallel run (total 500)...\n",
      "Building estimator 32 of 500 for this parallel run (total 500)...\n",
      "Building estimator 33 of 500 for this parallel run (total 500)...\n",
      "Building estimator 34 of 500 for this parallel run (total 500)...\n",
      "Building estimator 35 of 500 for this parallel run (total 500)...\n",
      "Building estimator 36 of 500 for this parallel run (total 500)...\n",
      "Building estimator 37 of 500 for this parallel run (total 500)...\n",
      "Building estimator 38 of 500 for this parallel run (total 500)...\n",
      "Building estimator 39 of 500 for this parallel run (total 500)...\n",
      "Building estimator 40 of 500 for this parallel run (total 500)...\n",
      "Building estimator 41 of 500 for this parallel run (total 500)...\n",
      "Building estimator 42 of 500 for this parallel run (total 500)...\n",
      "Building estimator 43 of 500 for this parallel run (total 500)...\n",
      "Building estimator 44 of 500 for this parallel run (total 500)...\n",
      "Building estimator 45 of 500 for this parallel run (total 500)...\n",
      "Building estimator 46 of 500 for this parallel run (total 500)...\n",
      "Building estimator 47 of 500 for this parallel run (total 500)...\n",
      "Building estimator 48 of 500 for this parallel run (total 500)...\n",
      "Building estimator 49 of 500 for this parallel run (total 500)...\n",
      "Building estimator 50 of 500 for this parallel run (total 500)...\n",
      "Building estimator 51 of 500 for this parallel run (total 500)...\n",
      "Building estimator 52 of 500 for this parallel run (total 500)...\n",
      "Building estimator 53 of 500 for this parallel run (total 500)...\n",
      "Building estimator 54 of 500 for this parallel run (total 500)...\n",
      "Building estimator 55 of 500 for this parallel run (total 500)...\n",
      "Building estimator 56 of 500 for this parallel run (total 500)...\n",
      "Building estimator 57 of 500 for this parallel run (total 500)...\n",
      "Building estimator 58 of 500 for this parallel run (total 500)...\n",
      "Building estimator 59 of 500 for this parallel run (total 500)...\n",
      "Building estimator 60 of 500 for this parallel run (total 500)...\n",
      "Building estimator 61 of 500 for this parallel run (total 500)...\n",
      "Building estimator 62 of 500 for this parallel run (total 500)...\n",
      "Building estimator 63 of 500 for this parallel run (total 500)...\n",
      "Building estimator 64 of 500 for this parallel run (total 500)...\n",
      "Building estimator 65 of 500 for this parallel run (total 500)...\n",
      "Building estimator 66 of 500 for this parallel run (total 500)...\n",
      "Building estimator 67 of 500 for this parallel run (total 500)...\n",
      "Building estimator 68 of 500 for this parallel run (total 500)...\n",
      "Building estimator 69 of 500 for this parallel run (total 500)...\n",
      "Building estimator 70 of 500 for this parallel run (total 500)...\n",
      "Building estimator 71 of 500 for this parallel run (total 500)...\n",
      "Building estimator 72 of 500 for this parallel run (total 500)...\n",
      "Building estimator 73 of 500 for this parallel run (total 500)...\n",
      "Building estimator 74 of 500 for this parallel run (total 500)...\n",
      "Building estimator 75 of 500 for this parallel run (total 500)...\n",
      "Building estimator 76 of 500 for this parallel run (total 500)...\n",
      "Building estimator 77 of 500 for this parallel run (total 500)...\n",
      "Building estimator 78 of 500 for this parallel run (total 500)...\n",
      "Building estimator 79 of 500 for this parallel run (total 500)...\n",
      "Building estimator 80 of 500 for this parallel run (total 500)...\n",
      "Building estimator 81 of 500 for this parallel run (total 500)...\n",
      "Building estimator 82 of 500 for this parallel run (total 500)...\n",
      "Building estimator 83 of 500 for this parallel run (total 500)...\n",
      "Building estimator 84 of 500 for this parallel run (total 500)...\n",
      "Building estimator 85 of 500 for this parallel run (total 500)...\n",
      "Building estimator 86 of 500 for this parallel run (total 500)...\n",
      "Building estimator 87 of 500 for this parallel run (total 500)...\n",
      "Building estimator 88 of 500 for this parallel run (total 500)...\n",
      "Building estimator 89 of 500 for this parallel run (total 500)...\n",
      "Building estimator 90 of 500 for this parallel run (total 500)...\n",
      "Building estimator 91 of 500 for this parallel run (total 500)...\n",
      "Building estimator 92 of 500 for this parallel run (total 500)...\n",
      "Building estimator 93 of 500 for this parallel run (total 500)...\n",
      "Building estimator 94 of 500 for this parallel run (total 500)...\n",
      "Building estimator 95 of 500 for this parallel run (total 500)...\n",
      "Building estimator 96 of 500 for this parallel run (total 500)...\n",
      "Building estimator 97 of 500 for this parallel run (total 500)...\n",
      "Building estimator 98 of 500 for this parallel run (total 500)...\n",
      "Building estimator 99 of 500 for this parallel run (total 500)...\n",
      "Building estimator 100 of 500 for this parallel run (total 500)...\n",
      "Building estimator 101 of 500 for this parallel run (total 500)...\n",
      "Building estimator 102 of 500 for this parallel run (total 500)...\n",
      "Building estimator 103 of 500 for this parallel run (total 500)...\n",
      "Building estimator 104 of 500 for this parallel run (total 500)...\n",
      "Building estimator 105 of 500 for this parallel run (total 500)...\n",
      "Building estimator 106 of 500 for this parallel run (total 500)...\n",
      "Building estimator 107 of 500 for this parallel run (total 500)...\n",
      "Building estimator 108 of 500 for this parallel run (total 500)...\n",
      "Building estimator 109 of 500 for this parallel run (total 500)...\n",
      "Building estimator 110 of 500 for this parallel run (total 500)...\n",
      "Building estimator 111 of 500 for this parallel run (total 500)...\n",
      "Building estimator 112 of 500 for this parallel run (total 500)...\n",
      "Building estimator 113 of 500 for this parallel run (total 500)...\n",
      "Building estimator 114 of 500 for this parallel run (total 500)...\n",
      "Building estimator 115 of 500 for this parallel run (total 500)...\n",
      "Building estimator 116 of 500 for this parallel run (total 500)...\n",
      "Building estimator 117 of 500 for this parallel run (total 500)...\n",
      "Building estimator 118 of 500 for this parallel run (total 500)...\n",
      "Building estimator 119 of 500 for this parallel run (total 500)...\n",
      "Building estimator 120 of 500 for this parallel run (total 500)...\n",
      "Building estimator 121 of 500 for this parallel run (total 500)...\n",
      "Building estimator 122 of 500 for this parallel run (total 500)...\n",
      "Building estimator 123 of 500 for this parallel run (total 500)...\n",
      "Building estimator 124 of 500 for this parallel run (total 500)...\n"
     ]
    },
    {
     "name": "stdout",
     "output_type": "stream",
     "text": [
      "Building estimator 125 of 500 for this parallel run (total 500)...\n",
      "Building estimator 126 of 500 for this parallel run (total 500)...\n",
      "Building estimator 127 of 500 for this parallel run (total 500)...\n",
      "Building estimator 128 of 500 for this parallel run (total 500)...\n",
      "Building estimator 129 of 500 for this parallel run (total 500)...\n",
      "Building estimator 130 of 500 for this parallel run (total 500)...\n",
      "Building estimator 131 of 500 for this parallel run (total 500)...\n",
      "Building estimator 132 of 500 for this parallel run (total 500)...\n",
      "Building estimator 133 of 500 for this parallel run (total 500)...\n",
      "Building estimator 134 of 500 for this parallel run (total 500)...\n",
      "Building estimator 135 of 500 for this parallel run (total 500)...\n",
      "Building estimator 136 of 500 for this parallel run (total 500)...\n",
      "Building estimator 137 of 500 for this parallel run (total 500)...\n",
      "Building estimator 138 of 500 for this parallel run (total 500)...\n",
      "Building estimator 139 of 500 for this parallel run (total 500)...\n",
      "Building estimator 140 of 500 for this parallel run (total 500)...\n",
      "Building estimator 141 of 500 for this parallel run (total 500)...\n",
      "Building estimator 142 of 500 for this parallel run (total 500)...\n",
      "Building estimator 143 of 500 for this parallel run (total 500)...\n",
      "Building estimator 144 of 500 for this parallel run (total 500)...\n",
      "Building estimator 145 of 500 for this parallel run (total 500)...\n",
      "Building estimator 146 of 500 for this parallel run (total 500)...\n",
      "Building estimator 147 of 500 for this parallel run (total 500)...\n",
      "Building estimator 148 of 500 for this parallel run (total 500)...\n",
      "Building estimator 149 of 500 for this parallel run (total 500)...\n",
      "Building estimator 150 of 500 for this parallel run (total 500)...\n",
      "Building estimator 151 of 500 for this parallel run (total 500)...\n",
      "Building estimator 152 of 500 for this parallel run (total 500)...\n",
      "Building estimator 153 of 500 for this parallel run (total 500)...\n",
      "Building estimator 154 of 500 for this parallel run (total 500)...\n",
      "Building estimator 155 of 500 for this parallel run (total 500)...\n",
      "Building estimator 156 of 500 for this parallel run (total 500)...\n",
      "Building estimator 157 of 500 for this parallel run (total 500)...\n",
      "Building estimator 158 of 500 for this parallel run (total 500)...\n",
      "Building estimator 159 of 500 for this parallel run (total 500)...\n",
      "Building estimator 160 of 500 for this parallel run (total 500)...\n",
      "Building estimator 161 of 500 for this parallel run (total 500)...\n",
      "Building estimator 162 of 500 for this parallel run (total 500)...\n",
      "Building estimator 163 of 500 for this parallel run (total 500)...\n",
      "Building estimator 164 of 500 for this parallel run (total 500)...\n",
      "Building estimator 165 of 500 for this parallel run (total 500)...\n",
      "Building estimator 166 of 500 for this parallel run (total 500)...\n",
      "Building estimator 167 of 500 for this parallel run (total 500)...\n",
      "Building estimator 168 of 500 for this parallel run (total 500)...\n",
      "Building estimator 169 of 500 for this parallel run (total 500)...\n",
      "Building estimator 170 of 500 for this parallel run (total 500)...\n",
      "Building estimator 171 of 500 for this parallel run (total 500)...\n",
      "Building estimator 172 of 500 for this parallel run (total 500)...\n",
      "Building estimator 173 of 500 for this parallel run (total 500)...\n",
      "Building estimator 174 of 500 for this parallel run (total 500)...\n",
      "Building estimator 175 of 500 for this parallel run (total 500)...\n",
      "Building estimator 176 of 500 for this parallel run (total 500)...\n",
      "Building estimator 177 of 500 for this parallel run (total 500)...\n",
      "Building estimator 178 of 500 for this parallel run (total 500)...\n",
      "Building estimator 179 of 500 for this parallel run (total 500)...\n",
      "Building estimator 180 of 500 for this parallel run (total 500)...\n",
      "Building estimator 181 of 500 for this parallel run (total 500)...\n",
      "Building estimator 182 of 500 for this parallel run (total 500)...\n",
      "Building estimator 183 of 500 for this parallel run (total 500)...\n",
      "Building estimator 184 of 500 for this parallel run (total 500)...\n",
      "Building estimator 185 of 500 for this parallel run (total 500)...\n",
      "Building estimator 186 of 500 for this parallel run (total 500)...\n",
      "Building estimator 187 of 500 for this parallel run (total 500)...\n",
      "Building estimator 188 of 500 for this parallel run (total 500)...\n",
      "Building estimator 189 of 500 for this parallel run (total 500)...\n",
      "Building estimator 190 of 500 for this parallel run (total 500)...\n",
      "Building estimator 191 of 500 for this parallel run (total 500)...\n",
      "Building estimator 192 of 500 for this parallel run (total 500)...\n",
      "Building estimator 193 of 500 for this parallel run (total 500)...\n",
      "Building estimator 194 of 500 for this parallel run (total 500)...\n",
      "Building estimator 195 of 500 for this parallel run (total 500)...\n",
      "Building estimator 196 of 500 for this parallel run (total 500)...\n",
      "Building estimator 197 of 500 for this parallel run (total 500)...\n",
      "Building estimator 198 of 500 for this parallel run (total 500)...\n",
      "Building estimator 199 of 500 for this parallel run (total 500)...\n",
      "Building estimator 200 of 500 for this parallel run (total 500)...\n",
      "Building estimator 201 of 500 for this parallel run (total 500)...\n",
      "Building estimator 202 of 500 for this parallel run (total 500)...\n",
      "Building estimator 203 of 500 for this parallel run (total 500)...\n",
      "Building estimator 204 of 500 for this parallel run (total 500)...\n",
      "Building estimator 205 of 500 for this parallel run (total 500)...\n",
      "Building estimator 206 of 500 for this parallel run (total 500)...\n",
      "Building estimator 207 of 500 for this parallel run (total 500)...\n",
      "Building estimator 208 of 500 for this parallel run (total 500)...\n",
      "Building estimator 209 of 500 for this parallel run (total 500)...\n",
      "Building estimator 210 of 500 for this parallel run (total 500)...\n",
      "Building estimator 211 of 500 for this parallel run (total 500)...\n",
      "Building estimator 212 of 500 for this parallel run (total 500)...\n",
      "Building estimator 213 of 500 for this parallel run (total 500)...\n",
      "Building estimator 214 of 500 for this parallel run (total 500)...\n",
      "Building estimator 215 of 500 for this parallel run (total 500)...\n",
      "Building estimator 216 of 500 for this parallel run (total 500)...\n",
      "Building estimator 217 of 500 for this parallel run (total 500)...\n",
      "Building estimator 218 of 500 for this parallel run (total 500)...\n",
      "Building estimator 219 of 500 for this parallel run (total 500)...\n",
      "Building estimator 220 of 500 for this parallel run (total 500)...\n",
      "Building estimator 221 of 500 for this parallel run (total 500)...\n",
      "Building estimator 222 of 500 for this parallel run (total 500)...\n",
      "Building estimator 223 of 500 for this parallel run (total 500)...\n",
      "Building estimator 224 of 500 for this parallel run (total 500)...\n",
      "Building estimator 225 of 500 for this parallel run (total 500)...\n",
      "Building estimator 226 of 500 for this parallel run (total 500)...\n",
      "Building estimator 227 of 500 for this parallel run (total 500)...\n",
      "Building estimator 228 of 500 for this parallel run (total 500)...\n",
      "Building estimator 229 of 500 for this parallel run (total 500)...\n",
      "Building estimator 230 of 500 for this parallel run (total 500)...\n",
      "Building estimator 231 of 500 for this parallel run (total 500)...\n",
      "Building estimator 232 of 500 for this parallel run (total 500)...\n",
      "Building estimator 233 of 500 for this parallel run (total 500)...\n",
      "Building estimator 234 of 500 for this parallel run (total 500)...\n",
      "Building estimator 235 of 500 for this parallel run (total 500)...\n",
      "Building estimator 236 of 500 for this parallel run (total 500)...\n",
      "Building estimator 237 of 500 for this parallel run (total 500)...\n",
      "Building estimator 238 of 500 for this parallel run (total 500)...\n",
      "Building estimator 239 of 500 for this parallel run (total 500)...\n",
      "Building estimator 240 of 500 for this parallel run (total 500)...\n",
      "Building estimator 241 of 500 for this parallel run (total 500)...\n",
      "Building estimator 242 of 500 for this parallel run (total 500)...\n",
      "Building estimator 243 of 500 for this parallel run (total 500)...\n",
      "Building estimator 244 of 500 for this parallel run (total 500)...\n",
      "Building estimator 245 of 500 for this parallel run (total 500)...\n",
      "Building estimator 246 of 500 for this parallel run (total 500)...\n",
      "Building estimator 247 of 500 for this parallel run (total 500)...\n"
     ]
    },
    {
     "name": "stdout",
     "output_type": "stream",
     "text": [
      "Building estimator 248 of 500 for this parallel run (total 500)...\n",
      "Building estimator 249 of 500 for this parallel run (total 500)...\n",
      "Building estimator 250 of 500 for this parallel run (total 500)...\n",
      "Building estimator 251 of 500 for this parallel run (total 500)...\n",
      "Building estimator 252 of 500 for this parallel run (total 500)...\n",
      "Building estimator 253 of 500 for this parallel run (total 500)...\n",
      "Building estimator 254 of 500 for this parallel run (total 500)...\n",
      "Building estimator 255 of 500 for this parallel run (total 500)...\n",
      "Building estimator 256 of 500 for this parallel run (total 500)...\n",
      "Building estimator 257 of 500 for this parallel run (total 500)...\n",
      "Building estimator 258 of 500 for this parallel run (total 500)...\n",
      "Building estimator 259 of 500 for this parallel run (total 500)...\n",
      "Building estimator 260 of 500 for this parallel run (total 500)...\n",
      "Building estimator 261 of 500 for this parallel run (total 500)...\n",
      "Building estimator 262 of 500 for this parallel run (total 500)...\n",
      "Building estimator 263 of 500 for this parallel run (total 500)...\n",
      "Building estimator 264 of 500 for this parallel run (total 500)...\n",
      "Building estimator 265 of 500 for this parallel run (total 500)...\n",
      "Building estimator 266 of 500 for this parallel run (total 500)...\n",
      "Building estimator 267 of 500 for this parallel run (total 500)...\n",
      "Building estimator 268 of 500 for this parallel run (total 500)...\n",
      "Building estimator 269 of 500 for this parallel run (total 500)...\n",
      "Building estimator 270 of 500 for this parallel run (total 500)...\n",
      "Building estimator 271 of 500 for this parallel run (total 500)...\n",
      "Building estimator 272 of 500 for this parallel run (total 500)...\n",
      "Building estimator 273 of 500 for this parallel run (total 500)...\n",
      "Building estimator 274 of 500 for this parallel run (total 500)...\n",
      "Building estimator 275 of 500 for this parallel run (total 500)...\n",
      "Building estimator 276 of 500 for this parallel run (total 500)...\n",
      "Building estimator 277 of 500 for this parallel run (total 500)...\n",
      "Building estimator 278 of 500 for this parallel run (total 500)...\n",
      "Building estimator 279 of 500 for this parallel run (total 500)...\n",
      "Building estimator 280 of 500 for this parallel run (total 500)...\n",
      "Building estimator 281 of 500 for this parallel run (total 500)...\n",
      "Building estimator 282 of 500 for this parallel run (total 500)...\n",
      "Building estimator 283 of 500 for this parallel run (total 500)...\n",
      "Building estimator 284 of 500 for this parallel run (total 500)...\n",
      "Building estimator 285 of 500 for this parallel run (total 500)...\n",
      "Building estimator 286 of 500 for this parallel run (total 500)...\n",
      "Building estimator 287 of 500 for this parallel run (total 500)...\n",
      "Building estimator 288 of 500 for this parallel run (total 500)...\n",
      "Building estimator 289 of 500 for this parallel run (total 500)...\n",
      "Building estimator 290 of 500 for this parallel run (total 500)...\n",
      "Building estimator 291 of 500 for this parallel run (total 500)...\n",
      "Building estimator 292 of 500 for this parallel run (total 500)...\n",
      "Building estimator 293 of 500 for this parallel run (total 500)...\n",
      "Building estimator 294 of 500 for this parallel run (total 500)...\n",
      "Building estimator 295 of 500 for this parallel run (total 500)...\n",
      "Building estimator 296 of 500 for this parallel run (total 500)...\n",
      "Building estimator 297 of 500 for this parallel run (total 500)...\n",
      "Building estimator 298 of 500 for this parallel run (total 500)...\n",
      "Building estimator 299 of 500 for this parallel run (total 500)...\n",
      "Building estimator 300 of 500 for this parallel run (total 500)...\n",
      "Building estimator 301 of 500 for this parallel run (total 500)...\n",
      "Building estimator 302 of 500 for this parallel run (total 500)...\n",
      "Building estimator 303 of 500 for this parallel run (total 500)...\n",
      "Building estimator 304 of 500 for this parallel run (total 500)...\n",
      "Building estimator 305 of 500 for this parallel run (total 500)...\n",
      "Building estimator 306 of 500 for this parallel run (total 500)...\n",
      "Building estimator 307 of 500 for this parallel run (total 500)...\n",
      "Building estimator 308 of 500 for this parallel run (total 500)...\n",
      "Building estimator 309 of 500 for this parallel run (total 500)...\n",
      "Building estimator 310 of 500 for this parallel run (total 500)...\n",
      "Building estimator 311 of 500 for this parallel run (total 500)...\n",
      "Building estimator 312 of 500 for this parallel run (total 500)...\n",
      "Building estimator 313 of 500 for this parallel run (total 500)...\n",
      "Building estimator 314 of 500 for this parallel run (total 500)...\n",
      "Building estimator 315 of 500 for this parallel run (total 500)...\n",
      "Building estimator 316 of 500 for this parallel run (total 500)...\n",
      "Building estimator 317 of 500 for this parallel run (total 500)...\n",
      "Building estimator 318 of 500 for this parallel run (total 500)...\n",
      "Building estimator 319 of 500 for this parallel run (total 500)...\n",
      "Building estimator 320 of 500 for this parallel run (total 500)...\n",
      "Building estimator 321 of 500 for this parallel run (total 500)...\n",
      "Building estimator 322 of 500 for this parallel run (total 500)...\n",
      "Building estimator 323 of 500 for this parallel run (total 500)...\n",
      "Building estimator 324 of 500 for this parallel run (total 500)...\n",
      "Building estimator 325 of 500 for this parallel run (total 500)...\n",
      "Building estimator 326 of 500 for this parallel run (total 500)...\n",
      "Building estimator 327 of 500 for this parallel run (total 500)...\n",
      "Building estimator 328 of 500 for this parallel run (total 500)...\n",
      "Building estimator 329 of 500 for this parallel run (total 500)...\n",
      "Building estimator 330 of 500 for this parallel run (total 500)...\n",
      "Building estimator 331 of 500 for this parallel run (total 500)...\n",
      "Building estimator 332 of 500 for this parallel run (total 500)...\n",
      "Building estimator 333 of 500 for this parallel run (total 500)...\n",
      "Building estimator 334 of 500 for this parallel run (total 500)...\n",
      "Building estimator 335 of 500 for this parallel run (total 500)...\n",
      "Building estimator 336 of 500 for this parallel run (total 500)...\n",
      "Building estimator 337 of 500 for this parallel run (total 500)...\n",
      "Building estimator 338 of 500 for this parallel run (total 500)...\n",
      "Building estimator 339 of 500 for this parallel run (total 500)...\n",
      "Building estimator 340 of 500 for this parallel run (total 500)...\n",
      "Building estimator 341 of 500 for this parallel run (total 500)...\n",
      "Building estimator 342 of 500 for this parallel run (total 500)...\n",
      "Building estimator 343 of 500 for this parallel run (total 500)...\n",
      "Building estimator 344 of 500 for this parallel run (total 500)...\n",
      "Building estimator 345 of 500 for this parallel run (total 500)...\n",
      "Building estimator 346 of 500 for this parallel run (total 500)...\n",
      "Building estimator 347 of 500 for this parallel run (total 500)...\n",
      "Building estimator 348 of 500 for this parallel run (total 500)...\n",
      "Building estimator 349 of 500 for this parallel run (total 500)...\n",
      "Building estimator 350 of 500 for this parallel run (total 500)...\n",
      "Building estimator 351 of 500 for this parallel run (total 500)...\n",
      "Building estimator 352 of 500 for this parallel run (total 500)...\n",
      "Building estimator 353 of 500 for this parallel run (total 500)...\n",
      "Building estimator 354 of 500 for this parallel run (total 500)...\n",
      "Building estimator 355 of 500 for this parallel run (total 500)...\n",
      "Building estimator 356 of 500 for this parallel run (total 500)...\n",
      "Building estimator 357 of 500 for this parallel run (total 500)...\n",
      "Building estimator 358 of 500 for this parallel run (total 500)...\n",
      "Building estimator 359 of 500 for this parallel run (total 500)...\n",
      "Building estimator 360 of 500 for this parallel run (total 500)...\n",
      "Building estimator 361 of 500 for this parallel run (total 500)...\n",
      "Building estimator 362 of 500 for this parallel run (total 500)...\n",
      "Building estimator 363 of 500 for this parallel run (total 500)...\n",
      "Building estimator 364 of 500 for this parallel run (total 500)...\n",
      "Building estimator 365 of 500 for this parallel run (total 500)...\n",
      "Building estimator 366 of 500 for this parallel run (total 500)...\n",
      "Building estimator 367 of 500 for this parallel run (total 500)...\n",
      "Building estimator 368 of 500 for this parallel run (total 500)...\n",
      "Building estimator 369 of 500 for this parallel run (total 500)...\n",
      "Building estimator 370 of 500 for this parallel run (total 500)...\n"
     ]
    },
    {
     "name": "stdout",
     "output_type": "stream",
     "text": [
      "Building estimator 371 of 500 for this parallel run (total 500)...\n",
      "Building estimator 372 of 500 for this parallel run (total 500)...\n",
      "Building estimator 373 of 500 for this parallel run (total 500)...\n",
      "Building estimator 374 of 500 for this parallel run (total 500)...\n",
      "Building estimator 375 of 500 for this parallel run (total 500)...\n",
      "Building estimator 376 of 500 for this parallel run (total 500)...\n",
      "Building estimator 377 of 500 for this parallel run (total 500)...\n",
      "Building estimator 378 of 500 for this parallel run (total 500)...\n",
      "Building estimator 379 of 500 for this parallel run (total 500)...\n",
      "Building estimator 380 of 500 for this parallel run (total 500)...\n",
      "Building estimator 381 of 500 for this parallel run (total 500)...\n",
      "Building estimator 382 of 500 for this parallel run (total 500)...\n",
      "Building estimator 383 of 500 for this parallel run (total 500)...\n",
      "Building estimator 384 of 500 for this parallel run (total 500)...\n",
      "Building estimator 385 of 500 for this parallel run (total 500)...\n",
      "Building estimator 386 of 500 for this parallel run (total 500)...\n",
      "Building estimator 387 of 500 for this parallel run (total 500)...\n",
      "Building estimator 388 of 500 for this parallel run (total 500)...\n",
      "Building estimator 389 of 500 for this parallel run (total 500)...\n",
      "Building estimator 390 of 500 for this parallel run (total 500)...\n",
      "Building estimator 391 of 500 for this parallel run (total 500)...\n",
      "Building estimator 392 of 500 for this parallel run (total 500)...\n",
      "Building estimator 393 of 500 for this parallel run (total 500)...\n",
      "Building estimator 394 of 500 for this parallel run (total 500)...\n",
      "Building estimator 395 of 500 for this parallel run (total 500)...\n",
      "Building estimator 396 of 500 for this parallel run (total 500)...\n",
      "Building estimator 397 of 500 for this parallel run (total 500)...\n",
      "Building estimator 398 of 500 for this parallel run (total 500)...\n",
      "Building estimator 399 of 500 for this parallel run (total 500)...\n",
      "Building estimator 400 of 500 for this parallel run (total 500)...\n",
      "Building estimator 401 of 500 for this parallel run (total 500)...\n",
      "Building estimator 402 of 500 for this parallel run (total 500)...\n",
      "Building estimator 403 of 500 for this parallel run (total 500)...\n",
      "Building estimator 404 of 500 for this parallel run (total 500)...\n",
      "Building estimator 405 of 500 for this parallel run (total 500)...\n",
      "Building estimator 406 of 500 for this parallel run (total 500)...\n",
      "Building estimator 407 of 500 for this parallel run (total 500)...\n",
      "Building estimator 408 of 500 for this parallel run (total 500)...\n",
      "Building estimator 409 of 500 for this parallel run (total 500)...\n",
      "Building estimator 410 of 500 for this parallel run (total 500)...\n",
      "Building estimator 411 of 500 for this parallel run (total 500)...\n",
      "Building estimator 412 of 500 for this parallel run (total 500)...\n",
      "Building estimator 413 of 500 for this parallel run (total 500)...\n",
      "Building estimator 414 of 500 for this parallel run (total 500)...\n",
      "Building estimator 415 of 500 for this parallel run (total 500)...\n",
      "Building estimator 416 of 500 for this parallel run (total 500)...\n",
      "Building estimator 417 of 500 for this parallel run (total 500)...\n",
      "Building estimator 418 of 500 for this parallel run (total 500)...\n",
      "Building estimator 419 of 500 for this parallel run (total 500)...\n",
      "Building estimator 420 of 500 for this parallel run (total 500)...\n",
      "Building estimator 421 of 500 for this parallel run (total 500)...\n",
      "Building estimator 422 of 500 for this parallel run (total 500)...\n",
      "Building estimator 423 of 500 for this parallel run (total 500)...\n",
      "Building estimator 424 of 500 for this parallel run (total 500)...\n",
      "Building estimator 425 of 500 for this parallel run (total 500)...\n",
      "Building estimator 426 of 500 for this parallel run (total 500)...\n",
      "Building estimator 427 of 500 for this parallel run (total 500)...\n",
      "Building estimator 428 of 500 for this parallel run (total 500)...\n",
      "Building estimator 429 of 500 for this parallel run (total 500)...\n",
      "Building estimator 430 of 500 for this parallel run (total 500)...\n",
      "Building estimator 431 of 500 for this parallel run (total 500)...\n",
      "Building estimator 432 of 500 for this parallel run (total 500)...\n",
      "Building estimator 433 of 500 for this parallel run (total 500)...\n",
      "Building estimator 434 of 500 for this parallel run (total 500)...\n",
      "Building estimator 435 of 500 for this parallel run (total 500)...\n",
      "Building estimator 436 of 500 for this parallel run (total 500)...\n",
      "Building estimator 437 of 500 for this parallel run (total 500)...\n",
      "Building estimator 438 of 500 for this parallel run (total 500)...\n",
      "Building estimator 439 of 500 for this parallel run (total 500)...\n",
      "Building estimator 440 of 500 for this parallel run (total 500)...\n",
      "Building estimator 441 of 500 for this parallel run (total 500)...\n",
      "Building estimator 442 of 500 for this parallel run (total 500)...\n",
      "Building estimator 443 of 500 for this parallel run (total 500)...\n",
      "Building estimator 444 of 500 for this parallel run (total 500)...\n",
      "Building estimator 445 of 500 for this parallel run (total 500)...\n",
      "Building estimator 446 of 500 for this parallel run (total 500)...\n",
      "Building estimator 447 of 500 for this parallel run (total 500)...\n",
      "Building estimator 448 of 500 for this parallel run (total 500)...\n",
      "Building estimator 449 of 500 for this parallel run (total 500)...\n",
      "Building estimator 450 of 500 for this parallel run (total 500)...\n",
      "Building estimator 451 of 500 for this parallel run (total 500)...\n",
      "Building estimator 452 of 500 for this parallel run (total 500)...\n",
      "Building estimator 453 of 500 for this parallel run (total 500)...\n",
      "Building estimator 454 of 500 for this parallel run (total 500)...\n",
      "Building estimator 455 of 500 for this parallel run (total 500)...\n",
      "Building estimator 456 of 500 for this parallel run (total 500)...\n",
      "Building estimator 457 of 500 for this parallel run (total 500)...\n",
      "Building estimator 458 of 500 for this parallel run (total 500)...\n",
      "Building estimator 459 of 500 for this parallel run (total 500)...\n",
      "Building estimator 460 of 500 for this parallel run (total 500)...\n",
      "Building estimator 461 of 500 for this parallel run (total 500)...\n",
      "Building estimator 462 of 500 for this parallel run (total 500)...\n",
      "Building estimator 463 of 500 for this parallel run (total 500)...\n",
      "Building estimator 464 of 500 for this parallel run (total 500)...\n",
      "Building estimator 465 of 500 for this parallel run (total 500)...\n",
      "Building estimator 466 of 500 for this parallel run (total 500)...\n",
      "Building estimator 467 of 500 for this parallel run (total 500)...\n",
      "Building estimator 468 of 500 for this parallel run (total 500)...\n",
      "Building estimator 469 of 500 for this parallel run (total 500)...\n",
      "Building estimator 470 of 500 for this parallel run (total 500)...\n",
      "Building estimator 471 of 500 for this parallel run (total 500)...\n",
      "Building estimator 472 of 500 for this parallel run (total 500)...\n",
      "Building estimator 473 of 500 for this parallel run (total 500)...\n",
      "Building estimator 474 of 500 for this parallel run (total 500)...\n",
      "Building estimator 475 of 500 for this parallel run (total 500)...\n",
      "Building estimator 476 of 500 for this parallel run (total 500)...\n",
      "Building estimator 477 of 500 for this parallel run (total 500)...\n",
      "Building estimator 478 of 500 for this parallel run (total 500)...\n",
      "Building estimator 479 of 500 for this parallel run (total 500)...\n",
      "Building estimator 480 of 500 for this parallel run (total 500)...\n",
      "Building estimator 481 of 500 for this parallel run (total 500)...\n",
      "Building estimator 482 of 500 for this parallel run (total 500)...\n",
      "Building estimator 483 of 500 for this parallel run (total 500)...\n",
      "Building estimator 484 of 500 for this parallel run (total 500)...\n",
      "Building estimator 485 of 500 for this parallel run (total 500)...\n",
      "Building estimator 486 of 500 for this parallel run (total 500)...\n",
      "Building estimator 487 of 500 for this parallel run (total 500)...\n",
      "Building estimator 488 of 500 for this parallel run (total 500)...\n",
      "Building estimator 489 of 500 for this parallel run (total 500)...\n",
      "Building estimator 490 of 500 for this parallel run (total 500)...\n",
      "Building estimator 491 of 500 for this parallel run (total 500)...\n",
      "Building estimator 492 of 500 for this parallel run (total 500)...\n",
      "Building estimator 493 of 500 for this parallel run (total 500)...\n"
     ]
    },
    {
     "name": "stdout",
     "output_type": "stream",
     "text": [
      "Building estimator 494 of 500 for this parallel run (total 500)...\n",
      "Building estimator 495 of 500 for this parallel run (total 500)...\n",
      "Building estimator 496 of 500 for this parallel run (total 500)...\n",
      "Building estimator 497 of 500 for this parallel run (total 500)...\n",
      "Building estimator 498 of 500 for this parallel run (total 500)...\n",
      "Building estimator 499 of 500 for this parallel run (total 500)...\n",
      "Building estimator 500 of 500 for this parallel run (total 500)...\n"
     ]
    },
    {
     "name": "stderr",
     "output_type": "stream",
     "text": [
      "[Parallel(n_jobs=1)]: Done   1 out of   1 | elapsed:  3.5min remaining:    0.0s\n",
      "[Parallel(n_jobs=1)]: Done   1 out of   1 | elapsed:  3.5min finished\n"
     ]
    },
    {
     "data": {
      "text/plain": [
       "BaggingClassifier(base_estimator=DecisionTreeClassifier(class_weight=None, criterion='gini', max_depth=None,\n",
       "            max_features=None, max_leaf_nodes=None,\n",
       "            min_impurity_decrease=0.0, min_impurity_split=None,\n",
       "            min_samples_leaf=1, min_samples_split=2,\n",
       "            min_weight_fraction_leaf=0.0, presort=False, random_state=None,\n",
       "            splitter='best'),\n",
       "         bootstrap=False, bootstrap_features=False, max_features=1.0,\n",
       "         max_samples=100, n_estimators=500, n_jobs=1, oob_score=False,\n",
       "         random_state=None, verbose=3, warm_start=False)"
      ]
     },
     "execution_count": 84,
     "metadata": {},
     "output_type": "execute_result"
    }
   ],
   "source": [
    "from sklearn.ensemble import BaggingClassifier\n",
    "from sklearn.tree import DecisionTreeClassifier\n",
    "\n",
    "bag_clf = BaggingClassifier(\n",
    "        DecisionTreeClassifier(), n_estimators=500,\n",
    "        max_samples=100, bootstrap=True, \n",
    "        verbose=3\n",
    ")\n",
    "\n",
    "bag_clf.fit(X_train, Y_train)"
   ]
  },
  {
   "cell_type": "code",
   "execution_count": null,
   "metadata": {
    "collapsed": true
   },
   "outputs": [],
   "source": [
    "# probably add cross-validation?"
   ]
  },
  {
   "cell_type": "code",
   "execution_count": 85,
   "metadata": {},
   "outputs": [
    {
     "name": "stdout",
     "output_type": "stream",
     "text": [
      "Test accuracy score: 0.795666666667\n",
      "ROC: 0.600829399769\n",
      "PPV: 0.800143910775\n",
      "NPV: 0.739229024943\n",
      "Sensitivity: 0.97479728249\n",
      "Specificity: 0.226861517049\n",
      "Confusion matrix:\n",
      "[[ 326 1111]\n",
      " [ 115 4448]]\n"
     ]
    },
    {
     "name": "stderr",
     "output_type": "stream",
     "text": [
      "[Parallel(n_jobs=1)]: Done   1 out of   1 | elapsed:   12.7s remaining:    0.0s\n",
      "[Parallel(n_jobs=1)]: Done   1 out of   1 | elapsed:   12.7s finished\n"
     ]
    }
   ],
   "source": [
    "results(bag_clf)"
   ]
  },
  {
   "cell_type": "markdown",
   "metadata": {},
   "source": [
    "## Random Forest"
   ]
  },
  {
   "cell_type": "code",
   "execution_count": 141,
   "metadata": {
    "scrolled": true
   },
   "outputs": [
    {
     "name": "stdout",
     "output_type": "stream",
     "text": [
      "Fitting 3 folds for each of 9 candidates, totalling 27 fits\n",
      "[CV] max_depth=10, max_leaf_nodes=15 .................................\n",
      "[CV]  max_depth=10, max_leaf_nodes=15, score=0.8068549573403943, total=   0.7s\n",
      "[CV] max_depth=10, max_leaf_nodes=15 .................................\n"
     ]
    },
    {
     "name": "stderr",
     "output_type": "stream",
     "text": [
      "[Parallel(n_jobs=1)]: Done   1 out of   1 | elapsed:    0.8s remaining:    0.0s\n"
     ]
    },
    {
     "name": "stdout",
     "output_type": "stream",
     "text": [
      "[CV]  max_depth=10, max_leaf_nodes=15, score=0.8085325487311512, total=   0.7s\n",
      "[CV] max_depth=10, max_leaf_nodes=15 .................................\n"
     ]
    },
    {
     "name": "stderr",
     "output_type": "stream",
     "text": [
      "[Parallel(n_jobs=1)]: Done   2 out of   2 | elapsed:    1.6s remaining:    0.0s\n"
     ]
    },
    {
     "name": "stdout",
     "output_type": "stream",
     "text": [
      "[CV]  max_depth=10, max_leaf_nodes=15, score=0.805870236869207, total=   0.7s\n",
      "[CV] max_depth=10, max_leaf_nodes=20 .................................\n"
     ]
    },
    {
     "name": "stderr",
     "output_type": "stream",
     "text": [
      "[Parallel(n_jobs=1)]: Done   3 out of   3 | elapsed:    2.4s remaining:    0.0s\n"
     ]
    },
    {
     "name": "stdout",
     "output_type": "stream",
     "text": [
      "[CV]  max_depth=10, max_leaf_nodes=20, score=0.8107531626949103, total=   0.7s\n",
      "[CV] max_depth=10, max_leaf_nodes=20 .................................\n"
     ]
    },
    {
     "name": "stderr",
     "output_type": "stream",
     "text": [
      "[Parallel(n_jobs=1)]: Done   4 out of   4 | elapsed:    3.2s remaining:    0.0s\n"
     ]
    },
    {
     "name": "stdout",
     "output_type": "stream",
     "text": [
      "[CV]  max_depth=10, max_leaf_nodes=20, score=0.8032364840014711, total=   0.8s\n",
      "[CV] max_depth=10, max_leaf_nodes=20 .................................\n",
      "[CV]  max_depth=10, max_leaf_nodes=20, score=0.8089598352214212, total=   0.7s\n",
      "[CV] max_depth=10, max_leaf_nodes=25 .................................\n",
      "[CV]  max_depth=10, max_leaf_nodes=25, score=0.8001618122977346, total=   0.8s\n",
      "[CV] max_depth=10, max_leaf_nodes=25 .................................\n",
      "[CV]  max_depth=10, max_leaf_nodes=25, score=0.8104450165502023, total=   0.9s\n",
      "[CV] max_depth=10, max_leaf_nodes=25 .................................\n",
      "[CV]  max_depth=10, max_leaf_nodes=25, score=0.8109460055907017, total=   1.0s\n",
      "[CV] max_depth=12, max_leaf_nodes=15 .................................\n",
      "[CV]  max_depth=12, max_leaf_nodes=15, score=0.8015592821418064, total=   0.7s\n",
      "[CV] max_depth=12, max_leaf_nodes=15 .................................\n",
      "[CV]  max_depth=12, max_leaf_nodes=15, score=0.8107392423685178, total=   0.6s\n",
      "[CV] max_depth=12, max_leaf_nodes=15 .................................\n",
      "[CV]  max_depth=12, max_leaf_nodes=15, score=0.810725319994115, total=   0.7s\n",
      "[CV] max_depth=12, max_leaf_nodes=20 .................................\n",
      "[CV]  max_depth=12, max_leaf_nodes=20, score=0.8115622241835834, total=   0.7s\n",
      "[CV] max_depth=12, max_leaf_nodes=20 .................................\n",
      "[CV]  max_depth=12, max_leaf_nodes=20, score=0.8173593232806179, total=   0.7s\n",
      "[CV] max_depth=12, max_leaf_nodes=20 .................................\n",
      "[CV]  max_depth=12, max_leaf_nodes=20, score=0.8090333970869501, total=   0.7s\n",
      "[CV] max_depth=12, max_leaf_nodes=25 .................................\n",
      "[CV]  max_depth=12, max_leaf_nodes=25, score=0.811268020005884, total=   0.8s\n",
      "[CV] max_depth=12, max_leaf_nodes=25 .................................\n",
      "[CV]  max_depth=12, max_leaf_nodes=25, score=0.8141963957337256, total=   0.7s\n",
      "[CV] max_depth=12, max_leaf_nodes=25 .................................\n",
      "[CV]  max_depth=12, max_leaf_nodes=25, score=0.8087391496248345, total=   0.6s\n",
      "[CV] max_depth=15, max_leaf_nodes=15 .................................\n",
      "[CV]  max_depth=15, max_leaf_nodes=15, score=0.8031038540747278, total=   0.7s\n",
      "[CV] max_depth=15, max_leaf_nodes=15 .................................\n",
      "[CV]  max_depth=15, max_leaf_nodes=15, score=0.8115483633688856, total=   0.6s\n",
      "[CV] max_depth=15, max_leaf_nodes=15 .................................\n",
      "[CV]  max_depth=15, max_leaf_nodes=15, score=0.8038840664999264, total=   0.7s\n",
      "[CV] max_depth=15, max_leaf_nodes=20 .................................\n",
      "[CV]  max_depth=15, max_leaf_nodes=20, score=0.8006766696087084, total=   0.8s\n",
      "[CV] max_depth=15, max_leaf_nodes=20 .................................\n",
      "[CV]  max_depth=15, max_leaf_nodes=20, score=0.8111070246414123, total=   0.8s\n",
      "[CV] max_depth=15, max_leaf_nodes=20 .................................\n",
      "[CV]  max_depth=15, max_leaf_nodes=20, score=0.8089598352214212, total=   0.7s\n",
      "[CV] max_depth=15, max_leaf_nodes=25 .................................\n",
      "[CV]  max_depth=15, max_leaf_nodes=25, score=0.8098705501618123, total=   0.6s\n",
      "[CV] max_depth=15, max_leaf_nodes=25 .................................\n",
      "[CV]  max_depth=15, max_leaf_nodes=25, score=0.8158146377344612, total=   0.6s\n",
      "[CV] max_depth=15, max_leaf_nodes=25 .................................\n",
      "[CV]  max_depth=15, max_leaf_nodes=25, score=0.8084449021627188, total=   0.7s\n"
     ]
    },
    {
     "name": "stderr",
     "output_type": "stream",
     "text": [
      "[Parallel(n_jobs=1)]: Done  27 out of  27 | elapsed:   22.1s finished\n"
     ]
    },
    {
     "data": {
      "text/plain": [
       "GridSearchCV(cv=3, error_score='raise',\n",
       "       estimator=RandomForestClassifier(bootstrap=True, class_weight=None, criterion='gini',\n",
       "            max_depth=None, max_features='auto', max_leaf_nodes=None,\n",
       "            min_impurity_decrease=0.0, min_impurity_split=None,\n",
       "            min_samples_leaf=1, min_samples_split=2,\n",
       "            min_weight_fraction_leaf=0.0, n_estimators=10, n_jobs=1,\n",
       "            oob_score=False, random_state=None, verbose=0,\n",
       "            warm_start=False),\n",
       "       fit_params=None, iid=True, n_jobs=1,\n",
       "       param_grid=[{'max_depth': [10, 12, 15], 'max_leaf_nodes': [15, 20, 25]}],\n",
       "       pre_dispatch='2*n_jobs', refit=True, return_train_score=True,\n",
       "       scoring='accuracy', verbose=5)"
      ]
     },
     "execution_count": 141,
     "metadata": {},
     "output_type": "execute_result"
    }
   ],
   "source": [
    "from sklearn.ensemble import RandomForestClassifier\n",
    "from sklearn.metrics import make_scorer\n",
    "#scoring=make_scorer(roc_auc_score)\n",
    "\n",
    "param_grid = [{'max_depth':[10,12,15], 'max_leaf_nodes':[15,20,25]}]\n",
    "rf_grid_search = GridSearchCV(RandomForestClassifier(), \n",
    "            param_grid, cv=3, scoring='accuracy', \n",
    "            verbose=5\n",
    ")\n",
    "rf_grid_search.fit(X_train, Y_train)"
   ]
  },
  {
   "cell_type": "code",
   "execution_count": 142,
   "metadata": {},
   "outputs": [
    {
     "name": "stdout",
     "output_type": "stream",
     "text": [
      "Test accuracy score: 0.8035\n",
      "ROC: 0.632438599116\n",
      "PPV: 0.81426448737\n",
      "NPV: 0.709415584416\n",
      "Sensitivity: 0.96077142231\n",
      "Specificity: 0.304105775922\n",
      "Confusion matrix:\n",
      "[[ 437 1000]\n",
      " [ 179 4384]]\n"
     ]
    }
   ],
   "source": [
    "results(rf_grid_search)"
   ]
  },
  {
   "cell_type": "code",
   "execution_count": 138,
   "metadata": {},
   "outputs": [
    {
     "name": "stdout",
     "output_type": "stream",
     "text": [
      "0.661380453308 {'max_depth': 10, 'max_leaf_nodes': 15}\n",
      "0.660149778926 {'max_depth': 10, 'max_leaf_nodes': 20}\n",
      "0.678057906728 {'max_depth': 10, 'max_leaf_nodes': 25}\n",
      "0.650504871067 {'max_depth': 12, 'max_leaf_nodes': 15}\n",
      "0.66044661105 {'max_depth': 12, 'max_leaf_nodes': 20}\n",
      "0.669719028379 {'max_depth': 12, 'max_leaf_nodes': 25}\n",
      "0.657017960063 {'max_depth': 15, 'max_leaf_nodes': 15}\n",
      "0.664223137274 {'max_depth': 15, 'max_leaf_nodes': 20}\n",
      "0.695917984857 {'max_depth': 15, 'max_leaf_nodes': 25}\n",
      "Best: {'max_depth': 15, 'max_leaf_nodes': 25}\n"
     ]
    }
   ],
   "source": [
    "cvres = rf_grid_search.cv_results_\n",
    "for mean_score, params in zip(cvres[\"mean_test_score\"], cvres[\"params\"]):\n",
    "    print(mean_score, params)\n",
    "print(\"Best: \" + str(rf_grid_search.best_params_))"
   ]
  },
  {
   "cell_type": "code",
   "execution_count": 145,
   "metadata": {},
   "outputs": [
    {
     "data": {
      "text/plain": [
       "RandomForestClassifier(bootstrap=True, class_weight=None, criterion='gini',\n",
       "            max_depth=12, max_features='auto', max_leaf_nodes=15,\n",
       "            min_impurity_decrease=0.0, min_impurity_split=None,\n",
       "            min_samples_leaf=1, min_samples_split=2,\n",
       "            min_weight_fraction_leaf=0.0, n_estimators=500, n_jobs=1,\n",
       "            oob_score=False, random_state=None, verbose=0,\n",
       "            warm_start=False)"
      ]
     },
     "execution_count": 145,
     "metadata": {},
     "output_type": "execute_result"
    }
   ],
   "source": [
    "rf_clf = RandomForestClassifier(n_estimators=500, max_depth=12, max_leaf_nodes=15)\n",
    "rf_clf.fit(X_train, Y_train)\n"
   ]
  },
  {
   "cell_type": "code",
   "execution_count": 144,
   "metadata": {},
   "outputs": [
    {
     "name": "stdout",
     "output_type": "stream",
     "text": [
      "Test accuracy score: 0.801\n",
      "ROC: 0.611248597117\n",
      "PPV: 0.804446050967\n",
      "NPV: 0.76017130621\n",
      "Sensitivity: 0.975454744686\n",
      "Specificity: 0.247042449548\n",
      "Confusion matrix:\n",
      "[[ 355 1082]\n",
      " [ 112 4451]]\n"
     ]
    }
   ],
   "source": [
    "results(rf_clf)"
   ]
  },
  {
   "cell_type": "code",
   "execution_count": 146,
   "metadata": {},
   "outputs": [
    {
     "name": "stdout",
     "output_type": "stream",
     "text": [
      "Test accuracy score: 0.802666666667\n",
      "ROC: 0.622117540698\n",
      "PPV: 0.80937557224\n",
      "NPV: 0.734693877551\n",
      "Sensitivity: 0.968660968661\n",
      "Specificity: 0.275574112735\n",
      "Confusion matrix:\n",
      "[[ 396 1041]\n",
      " [ 143 4420]]\n"
     ]
    }
   ],
   "source": [
    "results(rf_clf)"
   ]
  },
  {
   "cell_type": "code",
   "execution_count": null,
   "metadata": {
    "collapsed": true
   },
   "outputs": [],
   "source": []
  }
 ],
 "metadata": {
  "kernelspec": {
   "display_name": "Python 3",
   "language": "python",
   "name": "python3"
  },
  "language_info": {
   "codemirror_mode": {
    "name": "ipython",
    "version": 3
   },
   "file_extension": ".py",
   "mimetype": "text/x-python",
   "name": "python",
   "nbconvert_exporter": "python",
   "pygments_lexer": "ipython3",
   "version": "3.6.2"
  }
 },
 "nbformat": 4,
 "nbformat_minor": 2
}
