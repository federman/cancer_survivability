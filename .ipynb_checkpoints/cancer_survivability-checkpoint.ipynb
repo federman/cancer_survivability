{
 "cells": [
  {
   "cell_type": "code",
   "execution_count": 1,
   "metadata": {
    "scrolled": true
   },
   "outputs": [],
   "source": [
    "import numpy as np\n",
    "import matplotlib.pyplot as plt\n",
    "import pandas as pd\n",
    "import sklearn\n",
    "\n",
    "%matplotlib inline"
   ]
  },
  {
   "cell_type": "code",
   "execution_count": 2,
   "metadata": {
    "scrolled": true
   },
   "outputs": [],
   "source": [
    "data = pd.read_csv(\"../final_with_labels.csv\")\n",
    "data_matrix = data.as_matrix()"
   ]
  },
  {
   "cell_type": "code",
   "execution_count": 3,
   "metadata": {
    "scrolled": false
   },
   "outputs": [
    {
     "data": {
      "text/html": [
       "<div>\n",
       "<style scoped>\n",
       "    .dataframe tbody tr th:only-of-type {\n",
       "        vertical-align: middle;\n",
       "    }\n",
       "\n",
       "    .dataframe tbody tr th {\n",
       "        vertical-align: top;\n",
       "    }\n",
       "\n",
       "    .dataframe thead th {\n",
       "        text-align: right;\n",
       "    }\n",
       "</style>\n",
       "<table border=\"1\" class=\"dataframe\">\n",
       "  <thead>\n",
       "    <tr style=\"text-align: right;\">\n",
       "      <th></th>\n",
       "      <th>ID</th>\n",
       "      <th>pubcsnum</th>\n",
       "      <th>mar_stat</th>\n",
       "      <th>sex</th>\n",
       "      <th>primsite</th>\n",
       "      <th>histo3v</th>\n",
       "      <th>beho3v</th>\n",
       "      <th>grade</th>\n",
       "      <th>dx_conf</th>\n",
       "      <th>csexten</th>\n",
       "      <th>...</th>\n",
       "      <th>maligcount</th>\n",
       "      <th>benbordcount</th>\n",
       "      <th>year_dx</th>\n",
       "      <th>nhiade</th>\n",
       "      <th>codpub</th>\n",
       "      <th>srv_time_mon</th>\n",
       "      <th>srv_time_mon_flag</th>\n",
       "      <th>surv_1</th>\n",
       "      <th>surv_2</th>\n",
       "      <th>surv_5</th>\n",
       "    </tr>\n",
       "  </thead>\n",
       "  <tbody>\n",
       "    <tr>\n",
       "      <th>0</th>\n",
       "      <td>1</td>\n",
       "      <td>7011365</td>\n",
       "      <td>9</td>\n",
       "      <td>2</td>\n",
       "      <td>C184</td>\n",
       "      <td>8210</td>\n",
       "      <td>3</td>\n",
       "      <td>2</td>\n",
       "      <td>1</td>\n",
       "      <td>200</td>\n",
       "      <td>...</td>\n",
       "      <td>4</td>\n",
       "      <td>0</td>\n",
       "      <td>2010</td>\n",
       "      <td>7</td>\n",
       "      <td>0</td>\n",
       "      <td>71</td>\n",
       "      <td>1</td>\n",
       "      <td>1</td>\n",
       "      <td>1</td>\n",
       "      <td>1</td>\n",
       "    </tr>\n",
       "    <tr>\n",
       "      <th>1</th>\n",
       "      <td>2</td>\n",
       "      <td>7014780</td>\n",
       "      <td>5</td>\n",
       "      <td>2</td>\n",
       "      <td>C209</td>\n",
       "      <td>8140</td>\n",
       "      <td>3</td>\n",
       "      <td>2</td>\n",
       "      <td>1</td>\n",
       "      <td>200</td>\n",
       "      <td>...</td>\n",
       "      <td>2</td>\n",
       "      <td>0</td>\n",
       "      <td>2007</td>\n",
       "      <td>6</td>\n",
       "      <td>21040</td>\n",
       "      <td>36</td>\n",
       "      <td>1</td>\n",
       "      <td>1</td>\n",
       "      <td>1</td>\n",
       "      <td>0</td>\n",
       "    </tr>\n",
       "    <tr>\n",
       "      <th>2</th>\n",
       "      <td>3</td>\n",
       "      <td>7017183</td>\n",
       "      <td>2</td>\n",
       "      <td>1</td>\n",
       "      <td>C186</td>\n",
       "      <td>8140</td>\n",
       "      <td>2</td>\n",
       "      <td>9</td>\n",
       "      <td>1</td>\n",
       "      <td>50</td>\n",
       "      <td>...</td>\n",
       "      <td>3</td>\n",
       "      <td>0</td>\n",
       "      <td>2012</td>\n",
       "      <td>6</td>\n",
       "      <td>21050</td>\n",
       "      <td>37</td>\n",
       "      <td>1</td>\n",
       "      <td>1</td>\n",
       "      <td>1</td>\n",
       "      <td>0</td>\n",
       "    </tr>\n",
       "    <tr>\n",
       "      <th>3</th>\n",
       "      <td>4</td>\n",
       "      <td>7017183</td>\n",
       "      <td>2</td>\n",
       "      <td>1</td>\n",
       "      <td>C209</td>\n",
       "      <td>8263</td>\n",
       "      <td>3</td>\n",
       "      <td>2</td>\n",
       "      <td>1</td>\n",
       "      <td>455</td>\n",
       "      <td>...</td>\n",
       "      <td>3</td>\n",
       "      <td>0</td>\n",
       "      <td>2012</td>\n",
       "      <td>6</td>\n",
       "      <td>21050</td>\n",
       "      <td>37</td>\n",
       "      <td>1</td>\n",
       "      <td>1</td>\n",
       "      <td>1</td>\n",
       "      <td>0</td>\n",
       "    </tr>\n",
       "    <tr>\n",
       "      <th>4</th>\n",
       "      <td>5</td>\n",
       "      <td>7018423</td>\n",
       "      <td>2</td>\n",
       "      <td>1</td>\n",
       "      <td>C186</td>\n",
       "      <td>8263</td>\n",
       "      <td>3</td>\n",
       "      <td>3</td>\n",
       "      <td>1</td>\n",
       "      <td>400</td>\n",
       "      <td>...</td>\n",
       "      <td>3</td>\n",
       "      <td>0</td>\n",
       "      <td>2011</td>\n",
       "      <td>2</td>\n",
       "      <td>0</td>\n",
       "      <td>52</td>\n",
       "      <td>1</td>\n",
       "      <td>1</td>\n",
       "      <td>1</td>\n",
       "      <td>1</td>\n",
       "    </tr>\n",
       "  </tbody>\n",
       "</table>\n",
       "<p>5 rows × 33 columns</p>\n",
       "</div>"
      ],
      "text/plain": [
       "   ID  pubcsnum  mar_stat  sex primsite  histo3v  beho3v  grade  dx_conf  \\\n",
       "0   1   7011365         9    2     C184     8210       3      2        1   \n",
       "1   2   7014780         5    2     C209     8140       3      2        1   \n",
       "2   3   7017183         2    1     C186     8140       2      9        1   \n",
       "3   4   7017183         2    1     C209     8263       3      2        1   \n",
       "4   5   7018423         2    1     C186     8263       3      3        1   \n",
       "\n",
       "   csexten   ...    maligcount  benbordcount  year_dx  nhiade  codpub  \\\n",
       "0      200   ...             4             0     2010       7       0   \n",
       "1      200   ...             2             0     2007       6   21040   \n",
       "2       50   ...             3             0     2012       6   21050   \n",
       "3      455   ...             3             0     2012       6   21050   \n",
       "4      400   ...             3             0     2011       2       0   \n",
       "\n",
       "   srv_time_mon  srv_time_mon_flag  surv_1  surv_2  surv_5  \n",
       "0            71                  1       1       1       1  \n",
       "1            36                  1       1       1       0  \n",
       "2            37                  1       1       1       0  \n",
       "3            37                  1       1       1       0  \n",
       "4            52                  1       1       1       1  \n",
       "\n",
       "[5 rows x 33 columns]"
      ]
     },
     "execution_count": 3,
     "metadata": {},
     "output_type": "execute_result"
    }
   ],
   "source": [
    "data.head()"
   ]
  },
  {
   "cell_type": "code",
   "execution_count": 4,
   "metadata": {
    "scrolled": true
   },
   "outputs": [
    {
     "data": {
      "text/plain": [
       "(46785, 33)"
      ]
     },
     "execution_count": 4,
     "metadata": {},
     "output_type": "execute_result"
    }
   ],
   "source": [
    "data_matrix.shape"
   ]
  },
  {
   "cell_type": "code",
   "execution_count": 5,
   "metadata": {},
   "outputs": [
    {
     "data": {
      "text/plain": [
       "array([1, 7011365, 9, 2, 'C184', 8210, 3, 2, 1, 200, 0, 0, 3.0, 3.0, 0.0,\n",
       "       50, 0, 1, 1502, 93, 0, 5, 30, 4, 0, 2010, 7, 0, 71, 1, 1, 1, 1],\n",
       "      dtype=object)"
      ]
     },
     "execution_count": 5,
     "metadata": {},
     "output_type": "execute_result"
    }
   ],
   "source": [
    "data_matrix[0]"
   ]
  },
  {
   "cell_type": "markdown",
   "metadata": {},
   "source": [
    "# Preprocessing"
   ]
  },
  {
   "cell_type": "code",
   "execution_count": 6,
   "metadata": {
    "scrolled": true
   },
   "outputs": [],
   "source": [
    "Y1 = data_matrix[:,-3]\n",
    "Y2 = data_matrix[:,-2]\n",
    "Y5 = data_matrix[:,-1]"
   ]
  },
  {
   "cell_type": "code",
   "execution_count": 7,
   "metadata": {
    "scrolled": true
   },
   "outputs": [],
   "source": [
    "X = data_matrix[:,2:24]\n",
    "X_cat = X[:,:-5]\n",
    "# primary site is only categorical variable with string labels\n",
    "X_primsite = X[:,2]\n",
    "X_cont = X[:,-5:]\n",
    "# X_cat contains only categorical variables with integer labels\n",
    "X_cat = np.delete(X_cat, [2], axis=1)"
   ]
  },
  {
   "cell_type": "code",
   "execution_count": 9,
   "metadata": {
    "scrolled": true
   },
   "outputs": [],
   "source": [
    "# Fill missing values in three eval columns with 9: unknown\n",
    "X_cat[:,9] = np.array([9 if np.isnan(x) else x for x in X_cat[:,9]])\n",
    "X_cat[:,10] = np.array([9 if np.isnan(x) else x for x in X_cat[:,10]])\n",
    "X_cat[:,11] = np.array([9 if np.isnan(x) else x for x in X_cat[:,11]])"
   ]
  },
  {
   "cell_type": "code",
   "execution_count": 10,
   "metadata": {
    "scrolled": true
   },
   "outputs": [
    {
     "data": {
      "text/plain": [
       "array(['C180', 'C181', 'C182', 'C183', 'C184', 'C185', 'C186', 'C187',\n",
       "       'C188', 'C189', 'C199', 'C209', 'C260'], dtype='<U4')"
      ]
     },
     "execution_count": 10,
     "metadata": {},
     "output_type": "execute_result"
    }
   ],
   "source": [
    "# one-hot encode primary site\n",
    "from sklearn.preprocessing import LabelBinarizer\n",
    "encoder = LabelBinarizer()\n",
    "X_primsite_1hot = encoder.fit_transform(X_primsite)\n",
    "encoder.classes_"
   ]
  },
  {
   "cell_type": "code",
   "execution_count": 11,
   "metadata": {
    "scrolled": false
   },
   "outputs": [],
   "source": [
    "# one-hot encode remaining categorical variables\n",
    "from sklearn.preprocessing import OneHotEncoder\n",
    "encoder = OneHotEncoder(sparse=False)\n",
    "X_cat_1hot = encoder.fit_transform(X_cat)"
   ]
  },
  {
   "cell_type": "code",
   "execution_count": 95,
   "metadata": {
    "scrolled": true
   },
   "outputs": [],
   "source": [
    "# combine all categorical variables\n",
    "X_cat = np.hstack((X_primsite_1hot, X_cat_1hot))"
   ]
  },
  {
   "cell_type": "markdown",
   "metadata": {},
   "source": [
    "The continuous variables in order: age_dx, eod10_pn, eod10_ne, cstumsiz, maligcount. Age and maligcount do not reuqire imputation, and eod10_ne (nodes examined) will not be used as a variable.\n"
   ]
  },
  {
   "cell_type": "markdown",
   "metadata": {},
   "source": [
    "Here we will impute values for eod10_pn and cstumsiz. We will implement multivariate imputation by chained equations (MICE) on these two continuous variables. Their indices are and values which need to be imputed are:\n",
    "\n",
    "1: eod10_pn (95, 97, 98, 99)<br>\n",
    "3: cstumsiz (998, 999)<br>\n",
    "\n",
    "\n",
    "### Note: The above should be re-verified for each different dataset. This is for colorectal cancer in Hispanic patients after 2004."
   ]
  },
  {
   "cell_type": "code",
   "execution_count": 81,
   "metadata": {},
   "outputs": [
    {
     "data": {
      "text/plain": [
       "array([0.0, 0.0, 0.98, 0.0, 0.0, 0.01, 0.02, 0.98, 0.06, 0.0],\n",
       "      dtype=object)"
      ]
     },
     "execution_count": 81,
     "metadata": {},
     "output_type": "execute_result"
    }
   ],
   "source": [
    "# normalize??\n",
    "(np.array(X_cont[:,1])/100)[:10]"
   ]
  },
  {
   "cell_type": "code",
   "execution_count": 237,
   "metadata": {},
   "outputs": [
    {
     "data": {
      "text/plain": [
       "Counter({0: 18373,\n",
       "         1: 3445,\n",
       "         2: 2242,\n",
       "         3: 1569,\n",
       "         4: 1189,\n",
       "         5: 882,\n",
       "         6: 703,\n",
       "         7: 512,\n",
       "         8: 418,\n",
       "         9: 336,\n",
       "         10: 283,\n",
       "         11: 217,\n",
       "         12: 188,\n",
       "         13: 143,\n",
       "         14: 125,\n",
       "         15: 119,\n",
       "         16: 80,\n",
       "         17: 69,\n",
       "         18: 53,\n",
       "         19: 41,\n",
       "         20: 48,\n",
       "         21: 25,\n",
       "         22: 38,\n",
       "         23: 23,\n",
       "         24: 24,\n",
       "         25: 19,\n",
       "         26: 10,\n",
       "         27: 13,\n",
       "         28: 14,\n",
       "         29: 9,\n",
       "         30: 4,\n",
       "         31: 3,\n",
       "         32: 6,\n",
       "         33: 4,\n",
       "         34: 5,\n",
       "         35: 5,\n",
       "         36: 2,\n",
       "         37: 4,\n",
       "         38: 2,\n",
       "         39: 3,\n",
       "         40: 2,\n",
       "         41: 1,\n",
       "         42: 1,\n",
       "         44: 2,\n",
       "         59: 1,\n",
       "         68: 1,\n",
       "         71: 1,\n",
       "         77: 1,\n",
       "         90: 1,\n",
       "         95: 18,\n",
       "         97: 172,\n",
       "         98: 14282,\n",
       "         99: 1054})"
      ]
     },
     "execution_count": 237,
     "metadata": {},
     "output_type": "execute_result"
    }
   ],
   "source": [
    "Counter(X_cont[:,1])"
   ]
  },
  {
   "cell_type": "code",
   "execution_count": 177,
   "metadata": {},
   "outputs": [
    {
     "ename": "NameError",
     "evalue": "name 'tumsize' is not defined",
     "output_type": "error",
     "traceback": [
      "\u001b[0;31m---------------------------------------------------------------------------\u001b[0m",
      "\u001b[0;31mNameError\u001b[0m                                 Traceback (most recent call last)",
      "\u001b[0;32m<ipython-input-177-81acfcce439a>\u001b[0m in \u001b[0;36m<module>\u001b[0;34m()\u001b[0m\n\u001b[0;32m----> 1\u001b[0;31m \u001b[0;32mfor\u001b[0m \u001b[0mi\u001b[0m\u001b[0;34m,\u001b[0m \u001b[0msize\u001b[0m \u001b[0;32min\u001b[0m \u001b[0menumerate\u001b[0m\u001b[0;34m(\u001b[0m\u001b[0mtumsize\u001b[0m\u001b[0;34m)\u001b[0m\u001b[0;34m:\u001b[0m\u001b[0;34m\u001b[0m\u001b[0m\n\u001b[0m\u001b[1;32m      2\u001b[0m     \u001b[0;32mif\u001b[0m \u001b[0msize\u001b[0m \u001b[0;34m<\u001b[0m \u001b[0;36m990\u001b[0m\u001b[0;34m:\u001b[0m\u001b[0;34m\u001b[0m\u001b[0m\n\u001b[1;32m      3\u001b[0m         \u001b[0;32mcontinue\u001b[0m\u001b[0;34m\u001b[0m\u001b[0m\n\u001b[1;32m      4\u001b[0m     \u001b[0;32melif\u001b[0m \u001b[0msize\u001b[0m \u001b[0;34m==\u001b[0m \u001b[0;36m990\u001b[0m\u001b[0;34m:\u001b[0m\u001b[0;34m\u001b[0m\u001b[0m\n\u001b[1;32m      5\u001b[0m         \u001b[0mtumsize\u001b[0m\u001b[0;34m[\u001b[0m\u001b[0mi\u001b[0m\u001b[0;34m]\u001b[0m \u001b[0;34m=\u001b[0m \u001b[0;36m0\u001b[0m\u001b[0;34m\u001b[0m\u001b[0m\n",
      "\u001b[0;31mNameError\u001b[0m: name 'tumsize' is not defined"
     ]
    }
   ],
   "source": [
    "\n"
   ]
  },
  {
   "cell_type": "code",
   "execution_count": 174,
   "metadata": {},
   "outputs": [
    {
     "data": {
      "text/plain": [
       "array([0, 0, 0, 0, 0, 0, 1, 2, 3, 4])"
      ]
     },
     "execution_count": 174,
     "metadata": {},
     "output_type": "execute_result"
    }
   ],
   "source": [
    "A = np.arange(10)-5\n",
    "np.maximum(A,0)"
   ]
  },
  {
   "cell_type": "code",
   "execution_count": 291,
   "metadata": {},
   "outputs": [
    {
     "name": "stdout",
     "output_type": "stream",
     "text": [
      "Cycle 1\n",
      "Cycle 2\n",
      "Cycle 3\n",
      "Cycle 4\n",
      "Cycle 5\n",
      "Cycle 6\n",
      "Cycle 7\n",
      "Cycle 8\n",
      "Cycle 9\n",
      "Cycle 10\n"
     ]
    }
   ],
   "source": [
    "# implements MICE imputation with linear regression model on eod10_pn and cstumsiz\n",
    "from sklearn.preprocessing import Imputer\n",
    "from sklearn.linear_model import LinearRegression\n",
    "\n",
    "NUM_CYCLES=10\n",
    "\n",
    "pn = np.array(X_cont[:,1]).reshape(-1,1)\n",
    "tumsiz = np.array(X_cont[:,3]).reshape(-1,1)\n",
    "\n",
    "for i, size in enumerate(tumsiz):\n",
    "    if size < 990:\n",
    "        continue\n",
    "    elif size == 990:\n",
    "        tumsiz[i] = 0\n",
    "    elif size == 991:\n",
    "        tumsiz[i] = 1\n",
    "    elif size == 992:\n",
    "        tumsiz[i] = 2\n",
    "    elif size == 993:\n",
    "        tumsiz[i] = 3\n",
    "    elif size == 994:\n",
    "        tumsiz[i] = 4\n",
    "    elif size == 995:\n",
    "        tumsiz[i] = 5\n",
    "\n",
    "# indices for valid and imputation-needed positions in pn and tumsiz\n",
    "idx_pn_missing = np.where(np.isin(pn, [95,97,98,99]))[0]\n",
    "idx_pn_valid = np.array([i for i in np.arange(len(X_cat)) if i not in idx_pn_missing])\n",
    "idx_tumsiz_missing = np.where(np.isin(tumsiz, [998,999]))[0]\n",
    "idx_tumsiz_valid = np.array([i for i in np.arange(len(X_cat)) if i not in idx_tumsiz_missing])\n",
    "\n",
    "# set missing values to mean\n",
    "for value in (95,97,98,99):\n",
    "    imp_pn = Imputer(missing_values = value, copy=False)\n",
    "    imp_pn.fit_transform(pn)\n",
    "for value in (998,999):\n",
    "    imp_tumsiz = Imputer(missing_values = value, copy=False)\n",
    "    imp_tumsiz.fit_transform(tumsiz)\n",
    "\n",
    "\n",
    "\n",
    "for i in np.arange(NUM_CYCLES):\n",
    "    print(\"Cycle \" + str(i+1))\n",
    "    \n",
    "    # first fit pn\n",
    "    X_ind = np.hstack((X_cat[idx_pn_valid], tumsiz[idx_pn_valid]))\n",
    "    X_rep = np.hstack((X_cat[idx_pn_missing], tumsiz[idx_pn_missing]))\n",
    "    lin_reg = LinearRegression()\n",
    "    lin_reg.fit(X_ind, pn[idx_pn_valid])\n",
    "    pn[idx_pn_missing] = lin_reg.predict(X_rep)\n",
    "    #pn = np.maximum(pn, 0)\n",
    "    \n",
    "    # then fit tumsiz\n",
    "    X_ind = np.hstack((X_cat[idx_tumsiz_valid], pn[idx_tumsiz_valid]))\n",
    "    X_rep = np.hstack((X_cat[idx_tumsiz_missing], pn[idx_tumsiz_missing]))\n",
    "    lin_reg = LinearRegression()\n",
    "    lin_reg.fit(X_ind, tumsiz[idx_tumsiz_valid])\n",
    "    tumsiz[idx_tumsiz_missing] = lin_reg.predict(X_rep)\n",
    "    #tumsiz = np.maximum(tumsiz, 0)\n"
   ]
  },
  {
   "cell_type": "code",
   "execution_count": null,
   "metadata": {},
   "outputs": [],
   "source": []
  },
  {
   "cell_type": "code",
   "execution_count": 292,
   "metadata": {
    "scrolled": true
   },
   "outputs": [
    {
     "data": {
      "text/plain": [
       "Counter({-8: 1,\n",
       "         -6: 5,\n",
       "         -5: 31,\n",
       "         -4: 68,\n",
       "         -3: 135,\n",
       "         -2: 1075,\n",
       "         -1: 2255,\n",
       "         0: 25661,\n",
       "         1: 5491,\n",
       "         2: 3064,\n",
       "         3: 2208,\n",
       "         4: 1682,\n",
       "         5: 1285,\n",
       "         6: 836,\n",
       "         7: 586,\n",
       "         8: 437,\n",
       "         9: 353,\n",
       "         10: 288,\n",
       "         11: 222,\n",
       "         12: 190,\n",
       "         13: 143,\n",
       "         14: 128,\n",
       "         15: 122,\n",
       "         16: 83,\n",
       "         17: 69,\n",
       "         18: 53,\n",
       "         19: 42,\n",
       "         20: 48,\n",
       "         21: 25,\n",
       "         22: 38,\n",
       "         23: 23,\n",
       "         24: 24,\n",
       "         25: 19,\n",
       "         26: 10,\n",
       "         27: 13,\n",
       "         28: 14,\n",
       "         29: 9,\n",
       "         30: 4,\n",
       "         31: 3,\n",
       "         32: 6,\n",
       "         33: 4,\n",
       "         34: 5,\n",
       "         35: 5,\n",
       "         36: 2,\n",
       "         37: 4,\n",
       "         38: 2,\n",
       "         39: 3,\n",
       "         40: 2,\n",
       "         41: 1,\n",
       "         42: 1,\n",
       "         44: 2,\n",
       "         59: 1,\n",
       "         68: 1,\n",
       "         71: 1,\n",
       "         77: 1,\n",
       "         90: 1})"
      ]
     },
     "execution_count": 292,
     "metadata": {},
     "output_type": "execute_result"
    }
   ],
   "source": [
    "pn = pn.reshape(-1,).astype(int)\n",
    "Counter(pn)"
   ]
  },
  {
   "cell_type": "code",
   "execution_count": 293,
   "metadata": {},
   "outputs": [
    {
     "data": {
      "text/plain": [
       "Counter({-10749011173479.0: 1,\n",
       "         -10749011173476.0: 1,\n",
       "         -10749011173471.0: 1,\n",
       "         -6499252037621.0: 1,\n",
       "         -6499252037589.0: 1,\n",
       "         -6410388082927.0: 1,\n",
       "         -2110140390063.0: 1,\n",
       "         -1976656868523.0: 1,\n",
       "         -12.0: 1,\n",
       "         -11.0: 1,\n",
       "         -9.0: 2,\n",
       "         -8.0: 5,\n",
       "         -7.0: 8,\n",
       "         -6.0: 8,\n",
       "         -5.0: 13,\n",
       "         -4.0: 15,\n",
       "         -3.0: 29,\n",
       "         -2.0: 36,\n",
       "         -1.0: 48,\n",
       "         0.0: 589,\n",
       "         1.0: 284,\n",
       "         2.0: 386,\n",
       "         3.0: 431,\n",
       "         4.0: 395,\n",
       "         5.0: 591,\n",
       "         6.0: 365,\n",
       "         7.0: 353,\n",
       "         8.0: 456,\n",
       "         9.0: 325,\n",
       "         10.0: 724,\n",
       "         11.0: 339,\n",
       "         12.0: 492,\n",
       "         13.0: 374,\n",
       "         14.0: 370,\n",
       "         15.0: 897,\n",
       "         16.0: 362,\n",
       "         17.0: 353,\n",
       "         18.0: 448,\n",
       "         19.0: 267,\n",
       "         20.0: 1298,\n",
       "         21.0: 291,\n",
       "         22.0: 447,\n",
       "         23.0: 346,\n",
       "         24.0: 283,\n",
       "         25.0: 1316,\n",
       "         26.0: 249,\n",
       "         27.0: 303,\n",
       "         28.0: 368,\n",
       "         29.0: 186,\n",
       "         30.0: 2136,\n",
       "         31.0: 209,\n",
       "         32.0: 447,\n",
       "         33.0: 225,\n",
       "         34.0: 241,\n",
       "         35.0: 1615,\n",
       "         36.0: 291,\n",
       "         37.0: 320,\n",
       "         38.0: 364,\n",
       "         39.0: 216,\n",
       "         40.0: 2613,\n",
       "         41.0: 236,\n",
       "         42.0: 431,\n",
       "         43.0: 306,\n",
       "         44.0: 260,\n",
       "         45.0: 1764,\n",
       "         46.0: 278,\n",
       "         47.0: 351,\n",
       "         48.0: 383,\n",
       "         49.0: 279,\n",
       "         50.0: 2922,\n",
       "         51.0: 332,\n",
       "         52.0: 484,\n",
       "         53.0: 390,\n",
       "         54.0: 365,\n",
       "         55.0: 1368,\n",
       "         56.0: 370,\n",
       "         57.0: 354,\n",
       "         58.0: 418,\n",
       "         59.0: 298,\n",
       "         60.0: 2074,\n",
       "         61.0: 254,\n",
       "         62.0: 309,\n",
       "         63.0: 289,\n",
       "         64.0: 230,\n",
       "         65.0: 975,\n",
       "         66.0: 172,\n",
       "         67.0: 196,\n",
       "         68.0: 229,\n",
       "         69.0: 151,\n",
       "         70.0: 1431,\n",
       "         71.0: 118,\n",
       "         72.0: 180,\n",
       "         73.0: 137,\n",
       "         74.0: 121,\n",
       "         75.0: 532,\n",
       "         76.0: 97,\n",
       "         77.0: 96,\n",
       "         78.0: 103,\n",
       "         79.0: 77,\n",
       "         80.0: 1023,\n",
       "         81.0: 51,\n",
       "         82.0: 85,\n",
       "         83.0: 53,\n",
       "         84.0: 45,\n",
       "         85.0: 307,\n",
       "         86.0: 36,\n",
       "         87.0: 39,\n",
       "         88.0: 48,\n",
       "         89.0: 30,\n",
       "         90.0: 550,\n",
       "         91.0: 20,\n",
       "         92.0: 33,\n",
       "         93.0: 28,\n",
       "         94.0: 26,\n",
       "         95.0: 173,\n",
       "         96.0: 19,\n",
       "         97.0: 24,\n",
       "         98.0: 30,\n",
       "         99.0: 27,\n",
       "         100.0: 614,\n",
       "         101.0: 9,\n",
       "         102.0: 25,\n",
       "         103.0: 9,\n",
       "         104.0: 15,\n",
       "         105.0: 145,\n",
       "         106.0: 16,\n",
       "         107.0: 14,\n",
       "         108.0: 7,\n",
       "         109.0: 15,\n",
       "         110.0: 233,\n",
       "         111.0: 10,\n",
       "         112.0: 13,\n",
       "         113.0: 12,\n",
       "         114.0: 7,\n",
       "         115.0: 52,\n",
       "         116.0: 13,\n",
       "         117.0: 9,\n",
       "         118.0: 5,\n",
       "         119.0: 6,\n",
       "         120.0: 155,\n",
       "         121.0: 2,\n",
       "         122.0: 8,\n",
       "         123.0: 5,\n",
       "         124.0: 4,\n",
       "         125.0: 45,\n",
       "         126.0: 3,\n",
       "         127.0: 2,\n",
       "         128.0: 3,\n",
       "         129.0: 1,\n",
       "         130.0: 109,\n",
       "         131.0: 2,\n",
       "         132.0: 1,\n",
       "         133.0: 2,\n",
       "         134.0: 3,\n",
       "         135.0: 18,\n",
       "         136.0: 3,\n",
       "         137.0: 1,\n",
       "         138.0: 2,\n",
       "         140.0: 67,\n",
       "         141.0: 1,\n",
       "         142.0: 3,\n",
       "         143.0: 1,\n",
       "         144.0: 2,\n",
       "         145.0: 8,\n",
       "         146.0: 2,\n",
       "         147.0: 3,\n",
       "         148.0: 3,\n",
       "         150.0: 98,\n",
       "         152.0: 3,\n",
       "         154.0: 2,\n",
       "         155.0: 7,\n",
       "         157.0: 4,\n",
       "         160.0: 16,\n",
       "         165.0: 2,\n",
       "         166.0: 2,\n",
       "         170.0: 14,\n",
       "         175.0: 3,\n",
       "         180.0: 15,\n",
       "         185.0: 2,\n",
       "         187.0: 1,\n",
       "         190.0: 6,\n",
       "         193.0: 1,\n",
       "         194.0: 1,\n",
       "         200.0: 12,\n",
       "         201.0: 1,\n",
       "         206.0: 1,\n",
       "         210.0: 4,\n",
       "         220.0: 3,\n",
       "         230.0: 1,\n",
       "         240.0: 2,\n",
       "         250.0: 10,\n",
       "         260.0: 1,\n",
       "         269.0: 1,\n",
       "         270.0: 1,\n",
       "         280.0: 1,\n",
       "         286.0: 1,\n",
       "         300.0: 6,\n",
       "         303.0: 1,\n",
       "         310.0: 2,\n",
       "         320.0: 3,\n",
       "         340.0: 1,\n",
       "         350.0: 10,\n",
       "         360.0: 3,\n",
       "         370.0: 1,\n",
       "         380.0: 1,\n",
       "         400.0: 3,\n",
       "         420.0: 2,\n",
       "         450.0: 4,\n",
       "         492.0: 1,\n",
       "         500.0: 2,\n",
       "         520.0: 1,\n",
       "         530.0: 2,\n",
       "         550.0: 5,\n",
       "         600.0: 2,\n",
       "         650.0: 5,\n",
       "         670.0: 1,\n",
       "         700.0: 4,\n",
       "         750.0: 5,\n",
       "         800.0: 3,\n",
       "         850.0: 1,\n",
       "         900.0: 3,\n",
       "         950.0: 3,\n",
       "         960.0: 1,\n",
       "         965.0: 1,\n",
       "         988.0: 1,\n",
       "         989.0: 8,\n",
       "         998860864585.0: 1,\n",
       "         998860864594.0: 1,\n",
       "         998860864595.0: 1,\n",
       "         998860864597.0: 1,\n",
       "         998860864601.0: 1,\n",
       "         998860864606.0: 1,\n",
       "         998860864609.0: 1,\n",
       "         998860864617.0: 1,\n",
       "         998860864628.0: 1,\n",
       "         998860864629.0: 1,\n",
       "         998860864630.0: 1,\n",
       "         998860864640.0: 1,\n",
       "         1570446191245.0: 1,\n",
       "         1875474633677.0: 1,\n",
       "         9190682934759.0: 1,\n",
       "         10619343237334.0: 1,\n",
       "         10619343237338.0: 2,\n",
       "         10619343237340.0: 2,\n",
       "         10619343237341.0: 1,\n",
       "         10619343237343.0: 1,\n",
       "         10619343237346.0: 1,\n",
       "         10619343237351.0: 1,\n",
       "         10619343237352.0: 2,\n",
       "         10619343237353.0: 1,\n",
       "         10619343237356.0: 2,\n",
       "         10619343237357.0: 1,\n",
       "         10619343237359.0: 1,\n",
       "         10619343237362.0: 1,\n",
       "         10619343237363.0: 1,\n",
       "         10619343237365.0: 2,\n",
       "         10619343237367.0: 1,\n",
       "         10619343237370.0: 2,\n",
       "         10619343237371.0: 2,\n",
       "         10619343237372.0: 1,\n",
       "         10619343237375.0: 1,\n",
       "         10619343237379.0: 1,\n",
       "         10619343237380.0: 1,\n",
       "         10619343237382.0: 1,\n",
       "         10619343237386.0: 2,\n",
       "         10619343237394.0: 1,\n",
       "         10619343237464.0: 1})"
      ]
     },
     "execution_count": 293,
     "metadata": {},
     "output_type": "execute_result"
    }
   ],
   "source": [
    "tumsiz = tumsiz.reshape(-1,).astype(float)\n",
    "Counter(np.rint(tumsiz))"
   ]
  },
  {
   "cell_type": "code",
   "execution_count": 15,
   "metadata": {
    "scrolled": true
   },
   "outputs": [
    {
     "data": {
      "text/plain": [
       "Counter({1: 36710, 2: 8021, 3: 1665, 4: 283, 5: 75, 6: 23, 7: 5, 8: 2, 10: 1})"
      ]
     },
     "execution_count": 15,
     "metadata": {},
     "output_type": "execute_result"
    }
   ],
   "source": [
    "from collections import Counter\n",
    "Counter(X_cont[:,4])"
   ]
  },
  {
   "cell_type": "code",
   "execution_count": null,
   "metadata": {},
   "outputs": [],
   "source": [
    "# for cstumsiz\n",
    "from collections import Counter\n",
    "tumsize = np.array(X_cont[:,3])\n",
    "\n",
    "#c_pn = Counter(pn[np.where(pn<90)])\n",
    "\n",
    "c_tum = Counter(tumsize[np.where(tumsize<990)])\n",
    "counts_tum = np.array(list(c_tum.values()))\n",
    "sizes_tum = np.array(list(c_tum.keys()))\n",
    "ix_replace = np.where(np.isin(tumsize, [996,997,998,999]))[0]\n",
    "samples = np.random.choice(list(sizes_tum), len(ix_replace), list(counts_tum / np.sum(counts_tum)))\n",
    "tumsize[ix_replace] = samples\n",
    "\n",
    "\n",
    "for i, size in enumerate(tumsize):\n",
    "    if size < 990:\n",
    "        continue\n",
    "    elif size == 990:\n",
    "        tumsize[i] = 0\n",
    "    elif size == 991:\n",
    "        tumsize[i] = 1\n",
    "    elif size == 992:\n",
    "        tumsize[i] = 2\n",
    "    elif size == 993:\n",
    "        tumsize[i] = 3\n",
    "    elif size == 994:\n",
    "        tumsize[i] = 4\n",
    "    elif size == 995:\n",
    "        tumsize[i] = 5\n"
   ]
  },
  {
   "cell_type": "code",
   "execution_count": null,
   "metadata": {},
   "outputs": [],
   "source": []
  },
  {
   "cell_type": "code",
   "execution_count": 43,
   "metadata": {
    "collapsed": true
   },
   "outputs": [],
   "source": [
    "# for eod10_pn\n",
    "pn = np.array(X_cont[:,1])\n",
    "c_pn = Counter(pn[np.where(pn<=90)])\n",
    "counts_pn = np.array(list(c_pn.values()))\n",
    "sizes_pn = np.array(list(c_pn.keys()))\n",
    "ix_replace = np.where(pn>90)[0]\n",
    "samples = np.random.choice(list(sizes_pn), len(ix_replace), list(counts_pn / np.sum(counts_pn)))\n",
    "pn[ix_replace] = samples"
   ]
  },
  {
   "cell_type": "markdown",
   "metadata": {},
   "source": [
    "# Training"
   ]
  },
  {
   "cell_type": "markdown",
   "metadata": {},
   "source": [
    "For hispanic colrect, there doesn't seem to be any categorical values in malig."
   ]
  },
  {
   "cell_type": "code",
   "execution_count": 294,
   "metadata": {},
   "outputs": [],
   "source": [
    "age_dx = np.array(X_cont[:,0])\n",
    "malig = np.array(X_cont[:,4])\n",
    "X_all = np.column_stack((X_cat, age_dx, pn, malig, tumsiz))\n",
    "#X_all = np.delete(X_all, np.where(X_all[:,-3]>100), axis=0)\n"
   ]
  },
  {
   "cell_type": "code",
   "execution_count": 296,
   "metadata": {},
   "outputs": [
    {
     "data": {
      "text/plain": [
       "(46785, 309)"
      ]
     },
     "execution_count": 296,
     "metadata": {},
     "output_type": "execute_result"
    }
   ],
   "source": [
    "X_cat_full.shape"
   ]
  },
  {
   "cell_type": "code",
   "execution_count": 297,
   "metadata": {},
   "outputs": [
    {
     "data": {
      "text/plain": [
       "(46785, 313)"
      ]
     },
     "execution_count": 297,
     "metadata": {},
     "output_type": "execute_result"
    }
   ],
   "source": [
    "X_all.shape"
   ]
  },
  {
   "cell_type": "code",
   "execution_count": 298,
   "metadata": {
    "scrolled": true
   },
   "outputs": [],
   "source": [
    "# shuffle \n",
    "idx = np.random.permutation(len(X_all))\n",
    "X = X_all[idx]\n",
    "Y = Y2[idx]\n",
    "\n",
    "TEST_SET_SIZE = 2000\n",
    "\n",
    "X_train, X_test = X[:-TEST_SET_SIZE], X[-TEST_SET_SIZE:]\n",
    "Y_train, Y_test = Y[:-TEST_SET_SIZE].astype(int), Y[-TEST_SET_SIZE:].astype(int)"
   ]
  },
  {
   "cell_type": "code",
   "execution_count": 288,
   "metadata": {
    "scrolled": true
   },
   "outputs": [
    {
     "data": {
      "text/plain": [
       "DecisionTreeClassifier(class_weight=None, criterion='gini', max_depth=None,\n",
       "            max_features=None, max_leaf_nodes=None,\n",
       "            min_impurity_decrease=0.0, min_impurity_split=None,\n",
       "            min_samples_leaf=1, min_samples_split=2,\n",
       "            min_weight_fraction_leaf=0.0, presort=False, random_state=None,\n",
       "            splitter='best')"
      ]
     },
     "execution_count": 288,
     "metadata": {},
     "output_type": "execute_result"
    }
   ],
   "source": [
    "from sklearn.tree import DecisionTreeClassifier\n",
    "from sklearn.model_selection import cross_val_score\n",
    "\n",
    "#tree_clf = DecisionTreeClassifier(max_depth = 8, min_samples_split=1100)\n",
    "tree_clf = DecisionTreeClassifier()\n",
    "tree_clf.fit(X_train, Y_train)\n"
   ]
  },
  {
   "cell_type": "code",
   "execution_count": 312,
   "metadata": {},
   "outputs": [
    {
     "name": "stdout",
     "output_type": "stream",
     "text": [
      "Fitting 5 folds for each of 9 candidates, totalling 45 fits\n"
     ]
    },
    {
     "name": "stderr",
     "output_type": "stream",
     "text": [
      "[Parallel(n_jobs=1)]: Done  45 out of  45 | elapsed:  1.5min finished\n"
     ]
    },
    {
     "data": {
      "text/plain": [
       "GridSearchCV(cv=5, error_score='raise',\n",
       "       estimator=DecisionTreeClassifier(class_weight=None, criterion='gini', max_depth=None,\n",
       "            max_features=None, max_leaf_nodes=None,\n",
       "            min_impurity_decrease=0.0, min_impurity_split=None,\n",
       "            min_samples_leaf=1, min_samples_split=2,\n",
       "            min_weight_fraction_leaf=0.0, presort=False, random_state=None,\n",
       "            splitter='best'),\n",
       "       fit_params=None, iid=True, n_jobs=1,\n",
       "       param_grid=[{'max_depth': [50, 100, 150], 'min_samples_split': [50, 100, 150]}],\n",
       "       pre_dispatch='2*n_jobs', refit=True, return_train_score='warn',\n",
       "       scoring='accuracy', verbose=1)"
      ]
     },
     "execution_count": 312,
     "metadata": {},
     "output_type": "execute_result"
    }
   ],
   "source": [
    "from sklearn.model_selection import GridSearchCV\n",
    "from sklearn.tree import DecisionTreeClassifier\n",
    "param_grid = [{'max_depth':[50,100,150], 'min_samples_split':[50,100,150]}]\n",
    "tree_clf_reg = DecisionTreeClassifier()\n",
    "grid_search = GridSearchCV(tree_clf_reg, param_grid, cv=5, scoring=\"accuracy\", verbose=1)\n",
    "grid_search.fit(X_train, Y_train.astype(int))"
   ]
  },
  {
   "cell_type": "code",
   "execution_count": 313,
   "metadata": {},
   "outputs": [
    {
     "data": {
      "text/plain": [
       "{'max_depth': 50, 'min_samples_split': 150}"
      ]
     },
     "execution_count": 313,
     "metadata": {},
     "output_type": "execute_result"
    }
   ],
   "source": [
    "grid_search.best_params_"
   ]
  },
  {
   "cell_type": "code",
   "execution_count": 314,
   "metadata": {},
   "outputs": [
    {
     "name": "stdout",
     "output_type": "stream",
     "text": [
      "0.8281790778162331 {'max_depth': 50, 'min_samples_split': 50}\n",
      "0.8356146031037177 {'max_depth': 50, 'min_samples_split': 100}\n",
      "0.840593948866808 {'max_depth': 50, 'min_samples_split': 150}\n",
      "0.828067433292397 {'max_depth': 100, 'min_samples_split': 50}\n",
      "0.836038852294295 {'max_depth': 100, 'min_samples_split': 100}\n",
      "0.840281344200067 {'max_depth': 100, 'min_samples_split': 150}\n",
      "0.8279781176733281 {'max_depth': 150, 'min_samples_split': 50}\n",
      "0.8358378921513899 {'max_depth': 150, 'min_samples_split': 100}\n",
      "0.8403036731048342 {'max_depth': 150, 'min_samples_split': 150}\n"
     ]
    }
   ],
   "source": [
    "cvres = grid_search.cv_results_\n",
    "for mean_score, params in zip(cvres[\"mean_test_score\"], cvres[\"params\"]):\n",
    "    print(mean_score, params)"
   ]
  },
  {
   "cell_type": "code",
   "execution_count": 226,
   "metadata": {},
   "outputs": [
    {
     "data": {
      "text/plain": [
       "0.8151359615594627"
      ]
     },
     "execution_count": 226,
     "metadata": {},
     "output_type": "execute_result"
    }
   ],
   "source": [
    "grid_search.best_score_"
   ]
  },
  {
   "cell_type": "code",
   "execution_count": 315,
   "metadata": {},
   "outputs": [],
   "source": [
    "Y_pred_test = grid_search.predict(X_test)\n",
    "Y_pred_train = grid_search.predict(X_train)"
   ]
  },
  {
   "cell_type": "code",
   "execution_count": 289,
   "metadata": {
    "scrolled": true
   },
   "outputs": [],
   "source": [
    "Y_pred_test = tree_clf.predict(X_test)\n",
    "Y_pred_train = tree_clf.predict(X_train)"
   ]
  },
  {
   "cell_type": "code",
   "execution_count": null,
   "metadata": {},
   "outputs": [],
   "source": []
  },
  {
   "cell_type": "code",
   "execution_count": 333,
   "metadata": {},
   "outputs": [
    {
     "name": "stdout",
     "output_type": "stream",
     "text": [
      "0.8465\n",
      "0.8731494920174165\n"
     ]
    }
   ],
   "source": [
    "from sklearn.metrics import accuracy_score\n",
    "print(accuracy_score(Y_test.astype(int), Y_pred_test))\n",
    "print(accuracy_score(Y_train.astype(int), Y_pred_train))"
   ]
  },
  {
   "cell_type": "code",
   "execution_count": 309,
   "metadata": {
    "scrolled": true
   },
   "outputs": [
    {
     "data": {
      "text/plain": [
       "array([[ 146,  108],\n",
       "       [ 181, 1565]])"
      ]
     },
     "execution_count": 309,
     "metadata": {},
     "output_type": "execute_result"
    }
   ],
   "source": [
    "from sklearn.metrics import confusion_matrix\n",
    "confusion_matrix(Y_pred_test, Y_test.astype(int))"
   ]
  },
  {
   "cell_type": "code",
   "execution_count": 310,
   "metadata": {
    "scrolled": true
   },
   "outputs": [
    {
     "data": {
      "text/plain": [
       "RandomForestClassifier(bootstrap=True, class_weight=None, criterion='gini',\n",
       "            max_depth=None, max_features='auto', max_leaf_nodes=None,\n",
       "            min_impurity_decrease=0.0, min_impurity_split=None,\n",
       "            min_samples_leaf=1, min_samples_split=2,\n",
       "            min_weight_fraction_leaf=0.0, n_estimators=500, n_jobs=-1,\n",
       "            oob_score=False, random_state=None, verbose=0,\n",
       "            warm_start=False)"
      ]
     },
     "execution_count": 310,
     "metadata": {},
     "output_type": "execute_result"
    }
   ],
   "source": [
    "from sklearn.ensemble import RandomForestClassifier\n",
    "rnd_clf = RandomForestClassifier(n_estimators=500, n_jobs=-1)\n",
    "rnd_clf.fit(X_train, Y_train)"
   ]
  },
  {
   "cell_type": "code",
   "execution_count": 311,
   "metadata": {},
   "outputs": [
    {
     "data": {
      "text/plain": [
       "0.859"
      ]
     },
     "execution_count": 311,
     "metadata": {},
     "output_type": "execute_result"
    }
   ],
   "source": [
    "y_pred_rf = rnd_clf.predict(X_test)\n",
    "accuracy_score(y_pred_rf, Y_test)"
   ]
  },
  {
   "cell_type": "code",
   "execution_count": 331,
   "metadata": {
    "scrolled": true
   },
   "outputs": [
    {
     "name": "stderr",
     "output_type": "stream",
     "text": [
      "/home/samuel/anaconda3/lib/python3.6/site-packages/sklearn/utils/validation.py:475: DataConversionWarning: Data with input dtype object was converted to float64 by StandardScaler.\n",
      "  warnings.warn(msg, DataConversionWarning)\n"
     ]
    },
    {
     "data": {
      "text/plain": [
       "Pipeline(memory=None,\n",
       "     steps=[('scaler', StandardScaler(copy=True, with_mean=True, with_std=True)), ('svm_clf', SVC(C=0.001, cache_size=200, class_weight=None, coef0=0.0,\n",
       "  decision_function_shape='ovr', degree=3, gamma=5, kernel='rbf',\n",
       "  max_iter=-1, probability=False, random_state=None, shrinking=True,\n",
       "  tol=0.001, verbose=False))])"
      ]
     },
     "execution_count": 331,
     "metadata": {},
     "output_type": "execute_result"
    }
   ],
   "source": [
    "from sklearn.pipeline import Pipeline\n",
    "from sklearn.preprocessing import PolynomialFeatures, StandardScaler\n",
    "from sklearn.svm import SVC\n",
    "\n",
    "svm_clf = Pipeline((\n",
    "                        (\"scaler\", StandardScaler()),\n",
    "                        (\"svm_clf\", SVC(kernel=\"rbf\", gamma=5, C=0.001))\n",
    "))\n",
    "svm_clf.fit(X_train, Y_train)"
   ]
  },
  {
   "cell_type": "code",
   "execution_count": 334,
   "metadata": {},
   "outputs": [
    {
     "name": "stderr",
     "output_type": "stream",
     "text": [
      "/home/samuel/anaconda3/lib/python3.6/site-packages/sklearn/utils/validation.py:475: DataConversionWarning: Data with input dtype object was converted to float64 by StandardScaler.\n",
      "  warnings.warn(msg, DataConversionWarning)\n"
     ]
    },
    {
     "data": {
      "text/plain": [
       "0.8301440214357486"
      ]
     },
     "execution_count": 334,
     "metadata": {},
     "output_type": "execute_result"
    }
   ],
   "source": [
    "accuracy_score(svm_clf.predict(X_test), Y_test)\n",
    "accuracy_score(svm_clf.predict(X_train), Y_train)"
   ]
  },
  {
   "cell_type": "code",
   "execution_count": 183,
   "metadata": {},
   "outputs": [
    {
     "data": {
      "image/png": "[encoded data removed]",
      "text/plain": [
       "<matplotlib.figure.Figure at 0x1a0e383438>"
      ]
     },
     "metadata": {},
     "output_type": "display_data"
    }
   ],
   "source": [
    "plt.scatter(X_cont[:,3][np.where(X_cont[:,3]<990)], data_matrix[:,-5][np.where(X_cont[:,3]<990)])\n",
    "plt.show()"
   ]
  },
  {
   "cell_type": "code",
   "execution_count": 63,
   "metadata": {
    "scrolled": true
   },
   "outputs": [
    {
     "data": {
      "image/png": "[encoded data removed]",
      "text/plain": [
       "<matplotlib.figure.Figure at 0x7f7a581796a0>"
      ]
     },
     "metadata": {},
     "output_type": "display_data"
    },
    {
     "data": {
      "image/png": "[encoded data removed]",
      "text/plain": [
       "<matplotlib.figure.Figure at 0x7f7a578ddc50>"
      ]
     },
     "metadata": {},
     "output_type": "display_data"
    },
    {
     "data": {
      "image/png": "[encoded data removed]",
      "text/plain": [
       "<matplotlib.figure.Figure at 0x7f7a575e2400>"
      ]
     },
     "metadata": {},
     "output_type": "display_data"
    },
    {
     "data": {
      "image/png": "[encoded data removed]",
      "text/plain": [
       "<matplotlib.figure.Figure at 0x7f7a57727c88>"
      ]
     },
     "metadata": {},
     "output_type": "display_data"
    },
    {
     "data": {
      "image/png": "[encoded data removed]",
      "text/plain": [
       "<matplotlib.figure.Figure at 0x7f7a57630dd8>"
      ]
     },
     "metadata": {},
     "output_type": "display_data"
    }
   ],
   "source": [
    "import collections\n",
    "from collections import Counter\n",
    "\n",
    "for i in range(X_cont.shape[1]):\n",
    "    c = Counter(X_cont[:,i])\n",
    "    plt.bar(c.keys(), c.values())\n",
    "    plt.show()"
   ]
  }
 ],
 "metadata": {
  "kernelspec": {
   "display_name": "Python 3",
   "language": "python",
   "name": "python3"
  },
  "language_info": {
   "codemirror_mode": {
    "name": "ipython",
    "version": 3
   },
   "file_extension": ".py",
   "mimetype": "text/x-python",
   "name": "python",
   "nbconvert_exporter": "python",
   "pygments_lexer": "ipython3",
   "version": "3.6.4"
  }
 },
 "nbformat": 4,
 "nbformat_minor": 2
}
